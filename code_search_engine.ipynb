{
 "cells": [
  {
   "cell_type": "code",
   "execution_count": 1,
   "id": "5bf8e4fc",
   "metadata": {},
   "outputs": [],
   "source": [
    "from datasets import load_dataset\n",
    "from FlagEmbedding import FlagModel\n",
    "\n",
    "import nltk\n",
    "from nltk.corpus import stopwords\n",
    "from nltk.tokenize import word_tokenize\n",
    "from nltk.stem import WordNetLemmatizer\n",
    "\n",
    "import numpy as np\n",
    "import re\n",
    "import time\n",
    "import gzip\n",
    "import pandas as pd\n",
    "import heapq\n",
    "import json"
   ]
  },
  {
   "cell_type": "code",
   "execution_count": 2,
   "id": "bf4a95a5",
   "metadata": {},
   "outputs": [],
   "source": [
    "# if you haven't downloaded stopwords or wordnet before, uncomment the lines below\n",
    "# nltk.download('stopwords')\n",
    "# nltk.download('wordnet')"
   ]
  },
  {
   "cell_type": "markdown",
   "id": "86a29585",
   "metadata": {},
   "source": [
    "## Step 0: Read in the data"
   ]
  },
  {
   "cell_type": "code",
   "execution_count": 3,
   "id": "35d28dfb",
   "metadata": {},
   "outputs": [
    {
     "data": {
      "application/vnd.jupyter.widget-view+json": {
       "model_id": "a9f896351076453699f1f8eddfe6eeb7",
       "version_major": 2,
       "version_minor": 0
      },
      "text/plain": [
       "Downloading builder script:   0%|          | 0.00/8.44k [00:00<?, ?B/s]"
      ]
     },
     "metadata": {},
     "output_type": "display_data"
    },
    {
     "data": {
      "application/vnd.jupyter.widget-view+json": {
       "model_id": "81f2dd8a12ce477bafdad21edcd4ccd7",
       "version_major": 2,
       "version_minor": 0
      },
      "text/plain": [
       "Downloading metadata:   0%|          | 0.00/18.5k [00:00<?, ?B/s]"
      ]
     },
     "metadata": {},
     "output_type": "display_data"
    },
    {
     "data": {
      "application/vnd.jupyter.widget-view+json": {
       "model_id": "6eb205bbeecb4c50bf62b8d224527c90",
       "version_major": 2,
       "version_minor": 0
      },
      "text/plain": [
       "Downloading readme:   0%|          | 0.00/12.9k [00:00<?, ?B/s]"
      ]
     },
     "metadata": {},
     "output_type": "display_data"
    },
    {
     "data": {
      "application/vnd.jupyter.widget-view+json": {
       "model_id": "92b36ff5deff4734b9996da0d45d520f",
       "version_major": 2,
       "version_minor": 0
      },
      "text/plain": [
       "Downloading data files:   0%|          | 0/1 [00:00<?, ?it/s]"
      ]
     },
     "metadata": {},
     "output_type": "display_data"
    },
    {
     "data": {
      "application/vnd.jupyter.widget-view+json": {
       "model_id": "3663881bd43b4717841011f225e65758",
       "version_major": 2,
       "version_minor": 0
      },
      "text/plain": [
       "Downloading data:   0%|          | 0.00/941M [00:00<?, ?B/s]"
      ]
     },
     "metadata": {},
     "output_type": "display_data"
    },
    {
     "data": {
      "application/vnd.jupyter.widget-view+json": {
       "model_id": "2925c3e4cafe4e0a8ee0ab1906eb5263",
       "version_major": 2,
       "version_minor": 0
      },
      "text/plain": [
       "Extracting data files:   0%|          | 0/1 [00:00<?, ?it/s]"
      ]
     },
     "metadata": {},
     "output_type": "display_data"
    },
    {
     "data": {
      "application/vnd.jupyter.widget-view+json": {
       "model_id": "3fac6637fdb44899bb26cd3e2600e07f",
       "version_major": 2,
       "version_minor": 0
      },
      "text/plain": [
       "Extracting data files:   0%|          | 0/3 [00:00<?, ?it/s]"
      ]
     },
     "metadata": {},
     "output_type": "display_data"
    },
    {
     "data": {
      "application/vnd.jupyter.widget-view+json": {
       "model_id": "30a23fbd48444844ac5dafd5aeff3fe3",
       "version_major": 2,
       "version_minor": 0
      },
      "text/plain": [
       "Generating train split:   0%|          | 0/412178 [00:00<?, ? examples/s]"
      ]
     },
     "metadata": {},
     "output_type": "display_data"
    },
    {
     "data": {
      "application/vnd.jupyter.widget-view+json": {
       "model_id": "d469065cb99d46e1a0790a3bc00937b5",
       "version_major": 2,
       "version_minor": 0
      },
      "text/plain": [
       "Generating test split:   0%|          | 0/22176 [00:00<?, ? examples/s]"
      ]
     },
     "metadata": {},
     "output_type": "display_data"
    },
    {
     "data": {
      "application/vnd.jupyter.widget-view+json": {
       "model_id": "df000417663f4e2c8861ce73c7734010",
       "version_major": 2,
       "version_minor": 0
      },
      "text/plain": [
       "Generating validation split:   0%|          | 0/23107 [00:00<?, ? examples/s]"
      ]
     },
     "metadata": {},
     "output_type": "display_data"
    },
    {
     "data": {
      "text/plain": [
       "DatasetDict({\n",
       "    train: Dataset({\n",
       "        features: ['repository_name', 'func_path_in_repository', 'func_name', 'whole_func_string', 'language', 'func_code_string', 'func_code_tokens', 'func_documentation_string', 'func_documentation_tokens', 'split_name', 'func_code_url'],\n",
       "        num_rows: 412178\n",
       "    })\n",
       "    test: Dataset({\n",
       "        features: ['repository_name', 'func_path_in_repository', 'func_name', 'whole_func_string', 'language', 'func_code_string', 'func_code_tokens', 'func_documentation_string', 'func_documentation_tokens', 'split_name', 'func_code_url'],\n",
       "        num_rows: 22176\n",
       "    })\n",
       "    validation: Dataset({\n",
       "        features: ['repository_name', 'func_path_in_repository', 'func_name', 'whole_func_string', 'language', 'func_code_string', 'func_code_tokens', 'func_documentation_string', 'func_documentation_tokens', 'split_name', 'func_code_url'],\n",
       "        num_rows: 23107\n",
       "    })\n",
       "})"
      ]
     },
     "execution_count": 3,
     "metadata": {},
     "output_type": "execute_result"
    }
   ],
   "source": [
    "python_data = load_dataset(\"code_search_net\", \"python\")\n",
    "python_data"
   ]
  },
  {
   "cell_type": "code",
   "execution_count": 4,
   "id": "1928f2ba",
   "metadata": {},
   "outputs": [],
   "source": [
    "# Use the training data for Python code only\n",
    "data_train = python_data['train']\n",
    "data_train_snippet = data_train['whole_func_string']"
   ]
  },
  {
   "cell_type": "markdown",
   "id": "15bb487a",
   "metadata": {},
   "source": [
    "## Step 1: Preprocess the Data"
   ]
  },
  {
   "cell_type": "code",
   "execution_count": 5,
   "id": "f2e88550",
   "metadata": {},
   "outputs": [],
   "source": [
    "def preprocess(text):\n",
    "     # Convert to lowercase\n",
    "    text = text.lower()\n",
    "    \n",
    "    # Tokenizes text\n",
    "    tokens = re.split(r'[^a-zA-Z0-9]+', text)\n",
    "    \n",
    "    # Remove stopwords\n",
    "    stop_words = set(stopwords.words('english'))\n",
    "    tokens = [token for token in tokens if token not in stop_words]\n",
    "    \n",
    "    # Lemmatize\n",
    "    lemmatizer = WordNetLemmatizer()\n",
    "    tokens = [lemmatizer.lemmatize(token) for token in tokens]\n",
    "    \n",
    "    return ' '.join(tokens)"
   ]
  },
  {
   "cell_type": "code",
   "execution_count": 6,
   "id": "7e749d92",
   "metadata": {},
   "outputs": [
    {
     "name": "stdout",
     "output_type": "stream",
     "text": [
      "Time taken to preprocess data: 134.78 seconds\n"
     ]
    }
   ],
   "source": [
    "start = time.time()\n",
    "documents = [preprocess(raw_text) for raw_text in data_train_snippet]\n",
    "end = time.time()\n",
    "print(\"Time taken to preprocess data:\", round(end - start, 2), \"seconds\")"
   ]
  },
  {
   "cell_type": "markdown",
   "id": "4cb5b0ee",
   "metadata": {},
   "source": [
    "## Step 2: Retrieve Off-the-Shelf Embeddings"
   ]
  },
  {
   "cell_type": "code",
   "execution_count": 7,
   "id": "89274565",
   "metadata": {},
   "outputs": [
    {
     "data": {
      "application/vnd.jupyter.widget-view+json": {
       "model_id": "01dd3d15edd5423492b6b3666c911219",
       "version_major": 2,
       "version_minor": 0
      },
      "text/plain": [
       "Downloading (…)okenizer_config.json:   0%|          | 0.00/394 [00:00<?, ?B/s]"
      ]
     },
     "metadata": {},
     "output_type": "display_data"
    },
    {
     "data": {
      "application/vnd.jupyter.widget-view+json": {
       "model_id": "9377238468994fbb919ed4e70c3768da",
       "version_major": 2,
       "version_minor": 0
      },
      "text/plain": [
       "Downloading (…)solve/main/vocab.txt:   0%|          | 0.00/232k [00:00<?, ?B/s]"
      ]
     },
     "metadata": {},
     "output_type": "display_data"
    },
    {
     "data": {
      "application/vnd.jupyter.widget-view+json": {
       "model_id": "6eae0284ee7f4b90b28024e034a3d53f",
       "version_major": 2,
       "version_minor": 0
      },
      "text/plain": [
       "Downloading (…)/main/tokenizer.json:   0%|          | 0.00/711k [00:00<?, ?B/s]"
      ]
     },
     "metadata": {},
     "output_type": "display_data"
    },
    {
     "data": {
      "application/vnd.jupyter.widget-view+json": {
       "model_id": "f0b40a9457e44539bcf6f06298f3df5c",
       "version_major": 2,
       "version_minor": 0
      },
      "text/plain": [
       "Downloading (…)cial_tokens_map.json:   0%|          | 0.00/125 [00:00<?, ?B/s]"
      ]
     },
     "metadata": {},
     "output_type": "display_data"
    },
    {
     "data": {
      "application/vnd.jupyter.widget-view+json": {
       "model_id": "549185bbf087452fbf73e6555dd308ac",
       "version_major": 2,
       "version_minor": 0
      },
      "text/plain": [
       "Downloading (…)lve/main/config.json:   0%|          | 0.00/743 [00:00<?, ?B/s]"
      ]
     },
     "metadata": {},
     "output_type": "display_data"
    },
    {
     "data": {
      "application/vnd.jupyter.widget-view+json": {
       "model_id": "4f3887d6a997478e900b230e78fa582e",
       "version_major": 2,
       "version_minor": 0
      },
      "text/plain": [
       "Downloading pytorch_model.bin:   0%|          | 0.00/134M [00:00<?, ?B/s]"
      ]
     },
     "metadata": {},
     "output_type": "display_data"
    },
    {
     "name": "stdout",
     "output_type": "stream",
     "text": [
      "----------using 4*GPUs----------\n"
     ]
    }
   ],
   "source": [
    "model = FlagModel('BAAI/bge-small-en-v1.5', \n",
    "                  query_instruction_for_retrieval=\"Represent this sentence for searching relevant passages: \",\n",
    "                  use_fp16=True) # Setting use_fp16 to True speeds up computation with a slight performance degradation"
   ]
  },
  {
   "cell_type": "markdown",
   "id": "bf2da13a",
   "metadata": {},
   "source": [
    "## Step 3a: Generate Embeddings for Documents\n",
    "- **Note:** Only if you want to generate new embeddings. If you don't, skip to step 3b"
   ]
  },
  {
   "cell_type": "code",
   "execution_count": 27,
   "id": "42063f16",
   "metadata": {},
   "outputs": [
    {
     "name": "stderr",
     "output_type": "stream",
     "text": [
      "Inference Embeddings:   0%|          | 0/202 [00:00<?, ?it/s]2023-10-30 16:11:12.678728: I tensorflow/core/platform/cpu_feature_guard.cc:182] This TensorFlow binary is optimized to use available CPU instructions in performance-critical operations.\n",
      "To enable the following instructions: AVX2 FMA, in other operations, rebuild TensorFlow with the appropriate compiler flags.\n",
      "Inference Embeddings: 100%|██████████| 202/202 [11:09<00:00,  3.31s/it]\n"
     ]
    },
    {
     "name": "stdout",
     "output_type": "stream",
     "text": [
      "Time taken to generate document embeddings: 669.49 seconds\n"
     ]
    }
   ],
   "source": [
    "start = time.time()\n",
    "\n",
    "# document_embeddings = [compute_document_embedding(doc, embeddings) for doc in documents]\n",
    "document_embeddings = model.encode(documents)\n",
    "\n",
    "end = time.time()\n",
    "print(\"Time taken to generate document embeddings:\", round(end - start, 2), \"seconds\")"
   ]
  },
  {
   "cell_type": "code",
   "execution_count": 77,
   "id": "d0de7650",
   "metadata": {},
   "outputs": [],
   "source": [
    "# convert embeddings to dictionary, where key is the index of the code snippet and value is the embeddings\n",
    "embeddings_dict = dict(zip(range(len(document_embeddings)), document_embeddings.tolist()))"
   ]
  },
  {
   "cell_type": "code",
   "execution_count": 80,
   "id": "c6f5c642",
   "metadata": {},
   "outputs": [],
   "source": [
    "# export embeddings_dict as a json file\n",
    "embeddings_json = json.dumps(embeddings_dict)\n",
    "with open('embeddings.json', 'w') as f:\n",
    "    f.write(embeddings_json)"
   ]
  },
  {
   "cell_type": "markdown",
   "id": "1ba5a20c",
   "metadata": {},
   "source": [
    "## Step 3b: Load in the Document Embeddings\n",
    "- **Note:** If you ran step 3a already, skip this step and proceed to step 4"
   ]
  },
  {
   "cell_type": "code",
   "execution_count": 8,
   "id": "0b39d3b1",
   "metadata": {},
   "outputs": [
    {
     "name": "stdout",
     "output_type": "stream",
     "text": [
      "Time taken to load in the document embeddings: 34.01527118682861 seconds\n"
     ]
    }
   ],
   "source": [
    "start = time.time()\n",
    "\n",
    "# read the json file from embeddings.json\n",
    "with open('embeddings.json', 'r') as json_file:\n",
    "    embeddings_dict = json.load(json_file)\n",
    "\n",
    "# convert each list value to a numpy array\n",
    "document_embeddings = []\n",
    "for key, value in embeddings_dict.items():\n",
    "    document_embeddings.append(np.array(value))\n",
    "end = time.time()\n",
    "\n",
    "print(\"Time taken to load in the document embeddings:\", end - start, \"seconds\")"
   ]
  },
  {
   "cell_type": "markdown",
   "id": "d6f46834",
   "metadata": {},
   "source": [
    "## Step 4: Implement the Search Function"
   ]
  },
  {
   "cell_type": "code",
   "execution_count": 9,
   "id": "689c45a0",
   "metadata": {},
   "outputs": [],
   "source": [
    "def cosine_similarity(vec1, vec2):\n",
    "    \"\"\"\n",
    "    Computes the cosine similarity between two vectors\n",
    "    \"\"\"\n",
    "    return np.dot(vec1, vec2) / (np.linalg.norm(vec1) * np.linalg.norm(vec2))"
   ]
  },
  {
   "cell_type": "code",
   "execution_count": 10,
   "id": "dbbfda83",
   "metadata": {},
   "outputs": [],
   "source": [
    "def search(query, document_embeddings, data, k=10):\n",
    "    \"\"\"\n",
    "    Computes the embedding of the query and retrieves the k most similar documents\n",
    "    \"\"\"\n",
    "    # gets the embedding of the query\n",
    "    query_embedding = model.encode_queries(query)\n",
    "    \n",
    "    # get the similarities between the query embedding and the document embeddings\n",
    "    similarities = [cosine_similarity(query_embedding, doc_emb) for doc_emb in document_embeddings]\n",
    "#     similarities = [query_embedding @ doc_emb.T for doc_emb in document_embeddings]\n",
    "    \n",
    "    # ranks similarities by most similar to query embedding\n",
    "    index_similarity_pair_ranked =  heapq.nlargest(k, enumerate(similarities), key=lambda x: x[1])\n",
    "    \n",
    "    \n",
    "    ranked_docs = []\n",
    "    for ind, sim in index_similarity_pair_ranked:\n",
    "        # don't include results that have similarity score < 0.7 unless it's the top result\n",
    "        if sim < 0.7 and ranked_docs: break\n",
    "        # grab the function name, the github url, and the similarity score\n",
    "        ranked_docs.append((data['func_name'][ind], data['func_code_url'][ind], sim))\n",
    "    \n",
    "    return ranked_docs"
   ]
  },
  {
   "cell_type": "markdown",
   "id": "a8e993c4",
   "metadata": {},
   "source": [
    "## Step 5: Testing the Search Engine"
   ]
  },
  {
   "cell_type": "code",
   "execution_count": 15,
   "id": "40479147",
   "metadata": {
    "scrolled": true
   },
   "outputs": [
    {
     "name": "stderr",
     "output_type": "stream",
     "text": [
      "2023-10-31 17:32:29.754588: I tensorflow/core/platform/cpu_feature_guard.cc:182] This TensorFlow binary is optimized to use available CPU instructions in performance-critical operations.\n",
      "To enable the following instructions: AVX2 FMA, in other operations, rebuild TensorFlow with the appropriate compiler flags.\n"
     ]
    },
    {
     "name": "stdout",
     "output_type": "stream",
     "text": [
      "Search time: 20.542781352996826 seconds\n"
     ]
    },
    {
     "data": {
      "text/plain": [
       "[('unique_by_index',\n",
       "  'https://github.com/matthew-brett/delocate/blob/ed48de15fce31c3f52f1a9f32cae1b02fc55aa60/delocate/tools.py#L72-L89',\n",
       "  0.7713445625225607),\n",
       " ('unique_element',\n",
       "  'https://github.com/konstantinstadler/pymrio/blob/d764aa0dd2150200e867a9713a98ddae203e12d4/pymrio/tools/ioutil.py#L324-L333',\n",
       "  0.7660439202589988),\n",
       " ('unique_everseen',\n",
       "  'https://github.com/secynic/ipwhois/blob/b5d634d36b0b942d538d38d77b3bdcd815f155a0/ipwhois/utils.py#L424-L457',\n",
       "  0.7613811770842612),\n",
       " ('unique',\n",
       "  'https://github.com/dedupeio/dedupe/blob/9f7c9f84473a4bcacf0f2b11152d8ed3eb35d48b/dedupe/labeler.py#L383-L390',\n",
       "  0.7599133009642218),\n",
       " ('unique_everseen',\n",
       "  'https://github.com/bsolomon1124/pyfinance/blob/c95925209a809b4e648e79cbeaf7711d8e5ff1a6/pyfinance/utils.py#L768-L776',\n",
       "  0.7598204538419598),\n",
       " ('unique_everseen',\n",
       "  'https://github.com/althonos/pronto/blob/a768adcba19fb34f26f67cde4a03d317f932c274/pronto/utils.py#L30-L38',\n",
       "  0.7511108412946457),\n",
       " ('unique_justseen',\n",
       "  'https://github.com/tmr232/awesomelib/blob/69a63466a63679f9e2abac8a719853a5e527219c/awesome/iterator.py#L122-L126',\n",
       "  0.7386488168468073),\n",
       " ('unique',\n",
       "  'https://github.com/limix/numpy-sugar/blob/4bdfa26913135c76ef3cd542a332f4e5861e948b/numpy_sugar/_array.py#L132-L149',\n",
       "  0.7380368171190927),\n",
       " ('_get_unique_child_value',\n",
       "  'https://github.com/daviddrysdale/python-phonenumbers/blob/9cc5bb4ab5e661e70789b4c64bf7a9383c7bdc20/tools/python/buildmetadatafromxml.py#L130-L136',\n",
       "  0.7281645638249232),\n",
       " ('unique_list',\n",
       "  'https://github.com/RudolfCardinal/pythonlib/blob/0b84cb35f38bd7d8723958dae51b480a829b7227/cardinal_pythonlib/lists.py#L121-L137',\n",
       "  0.7276343169002517),\n",
       " ('unique',\n",
       "  'https://github.com/iotile/coretools/blob/2d794f5f1346b841b0dcd16c9d284e9bf2f3c6ec/iotilebuild/iotile/build/config/scons-local-3.0.1/SCons/Util.py#L1155-L1222',\n",
       "  0.7274183048281798),\n",
       " ('SectionForm.check_unique_element_id',\n",
       "  'https://github.com/jrief/djangocms-cascade/blob/58996f990c4068e5d50f0db6030a5c0e06b682e5/cmsplugin_cascade/generic/mixins.py#L20-L34',\n",
       "  0.7267899830504726),\n",
       " ('get_uniques',\n",
       "  'https://github.com/boriel/zxbasic/blob/23b28db10e41117805bdb3c0f78543590853b132/asmlex.py#L161-L170',\n",
       "  0.7259250235970892),\n",
       " ('unique',\n",
       "  'https://github.com/bxlab/bx-python/blob/09cb725284803df90a468d910f2274628d8647de/lib/bx_extras/pstat.py#L661-L674',\n",
       "  0.7247250271843831),\n",
       " ('unique',\n",
       "  'https://github.com/pandas-dev/pandas/blob/9feb3ad92cc0397a04b665803a49299ee7aa1037/pandas/core/algorithms.py#L276-L367',\n",
       "  0.7247172930542705),\n",
       " ('Queryable.distinct',\n",
       "  'https://github.com/sixty-north/asq/blob/db0c4cbcf2118435136d4b63c62a12711441088e/asq/queryables.py#L1216-L1244',\n",
       "  0.7231534363530787),\n",
       " ('unique',\n",
       "  'https://github.com/chrisspen/dtree/blob/9e9c9992b22ad9a7e296af7e6837666b05db43ef/dtree.py#L507-L521',\n",
       "  0.7225069300604983),\n",
       " ('do_unique',\n",
       "  'https://github.com/pypa/pipenv/blob/cae8d76c210b9777e90aab76e9c4b0e53bb19cde/pipenv/vendor/jinja2/filters.py#L282-L307',\n",
       "  0.7216957731912036),\n",
       " ('unique_lorem',\n",
       "  'https://github.com/BetterWorks/django-anonymizer/blob/2d25bb6e8b5e4230c58031c4b6d10cc536669b3e/anonymizer/replacers.py#L187-L191',\n",
       "  0.721434646589368),\n",
       " ('unique',\n",
       "  'https://github.com/odlgroup/odl/blob/b8443f6aca90e191ba36c91d32253c5a36249a6c/odl/util/utility.py#L1573-L1611',\n",
       "  0.7208588113889599),\n",
       " ('unique',\n",
       "  'https://github.com/has2k1/plydata/blob/d8ca85ff70eee621e96f7c74034e90fec16e8b61/plydata/utils.py#L215-L256',\n",
       "  0.719027250880993),\n",
       " ('unique_list',\n",
       "  'https://github.com/jaredLunde/vital-tools/blob/ea924c9bbb6ec22aa66f8095f018b1ee0099ac04/vital/tools/lists.py#L17-L26',\n",
       "  0.7187973774484812),\n",
       " ('unique',\n",
       "  'https://github.com/marcinmiklitz/pywindow/blob/e5264812157224f22a691741ca2e0aefdc9bd2eb/pywindow/utilities.py#L92-L111',\n",
       "  0.71834091906221),\n",
       " ('unique_everseen',\n",
       "  'https://github.com/erikrose/more-itertools/blob/6a91b4e25c8e12fcf9fc2b53cf8ee0fba293e6f9/more_itertools/recipes.py#L346-L397',\n",
       "  0.7182145822403981),\n",
       " ('BaseProvider.random_choices',\n",
       "  'https://github.com/joke2k/faker/blob/965824b61132e52d92d1a6ce470396dbbe01c96c/faker/providers/__init__.py#L207-L223',\n",
       "  0.7174826808714941)]"
      ]
     },
     "execution_count": 15,
     "metadata": {},
     "output_type": "execute_result"
    }
   ],
   "source": [
    "start = time.time()\n",
    "query = \"unique elements\"\n",
    "search_results = search(query, document_embeddings, data_train, 25)\n",
    "end = time.time()\n",
    "print(\"Search time:\", end - start, \"seconds\")\n",
    "search_results"
   ]
  },
  {
   "cell_type": "code",
   "execution_count": 20,
   "id": "9e2f1af2",
   "metadata": {
    "scrolled": true
   },
   "outputs": [
    {
     "name": "stdout",
     "output_type": "stream",
     "text": [
      "Search time: 17.220950841903687 seconds\n"
     ]
    },
    {
     "data": {
      "text/plain": [
       "[('Latch._make_cookie',\n",
       "  'https://github.com/dw/mitogen/blob/a7fdb55e1300a7e0a5e404b09eb730cf9a525da7/mitogen/core.py#L2158-L2165',\n",
       "  0.802719833574395),\n",
       " ('make_cookie_content',\n",
       "  'https://github.com/IdentityPython/oidcendpoint/blob/6c1d729d51bfb6332816117fe476073df7a1d823/src/oidcendpoint/cookie.py#L132-L181',\n",
       "  0.779596272108196),\n",
       " ('create_cookie',\n",
       "  'https://github.com/pgjones/quart/blob/7cb2d3bd98e8746025764f2b933abc12041fa175/quart/utils.py#L29-L59',\n",
       "  0.7765420503446522),\n",
       " ('create_cookie',\n",
       "  'https://github.com/quantmind/pulsar/blob/fee44e871954aa6ca36d00bb5a3739abfdb89b26/pulsar/utils/httpurl.py#L396-L425',\n",
       "  0.7672891740365899),\n",
       " ('create_cookie',\n",
       "  'https://github.com/pypa/pipenv/blob/cae8d76c210b9777e90aab76e9c4b0e53bb19cde/pipenv/vendor/requests/cookies.py#L441-L474',\n",
       "  0.7646073618570387),\n",
       " ('CookieDealer.append_cookie',\n",
       "  'https://github.com/IdentityPython/oidcendpoint/blob/6c1d729d51bfb6332816117fe476073df7a1d823/src/oidcendpoint/cookie.py#L369-L404',\n",
       "  0.7645755181132825),\n",
       " ('ClientSetupTask._build_cookie_jar',\n",
       "  'https://github.com/ArchiveTeam/wpull/blob/ddf051aa3322479325ba20aa778cb2cb97606bf5/wpull/application/tasks/download.py#L180-L209',\n",
       "  0.7612697919092597),\n",
       " ('make_cookie_values',\n",
       "  'https://github.com/coursera-dl/coursera-dl/blob/9b434bcf3c4011bf3181429fe674633ae5fb7d4d/coursera/cookies.py#L243-L255',\n",
       "  0.7602449382590367),\n",
       " ('WHTTPCookieJar.add_cookie',\n",
       "  'https://github.com/a1ezzz/wasp-general/blob/1029839d33eb663f8dec76c1c46754d53c1de4a9/wasp_general/network/web/cookies.py#L243-L251',\n",
       "  0.7595368067944969),\n",
       " ('create_cookie',\n",
       "  'https://github.com/lorien/grab/blob/8b301db2a08c830245b61c589e58af6234f4db79/grab/cookie.py#L118-L152',\n",
       "  0.7578911443840296),\n",
       " ('WHTTPCookieJar.import_simple_cookie',\n",
       "  'https://github.com/a1ezzz/wasp-general/blob/1029839d33eb663f8dec76c1c46754d53c1de4a9/wasp_general/network/web/cookies.py#L295-L312',\n",
       "  0.7552547776744011),\n",
       " ('ELBConnection.create_app_cookie_stickiness_policy',\n",
       "  'https://github.com/yyuu/botornado/blob/fffb056f5ff2324d1d5c1304014cfb1d899f602e/boto/ec2/elb/__init__.py#L387-L408',\n",
       "  0.7522457509179541),\n",
       " ('WHTTPCookie.copy',\n",
       "  'https://github.com/a1ezzz/wasp-general/blob/1029839d33eb663f8dec76c1c46754d53c1de4a9/wasp_general/network/web/cookies.py#L214-L221',\n",
       "  0.7517609468750084),\n",
       " ('new',\n",
       "  'https://github.com/Netflix-Skunkworks/historical/blob/c3ebaa8388a3fe67e23a6c9c6b04c3e618497c4a/historical/cli.py#L30-L33',\n",
       "  0.7504329591816468),\n",
       " ('add_dict_to_cookiejar',\n",
       "  'https://github.com/bububa/pyTOP/blob/1e48009bcfe886be392628244b370e6374e1f2b2/pyTOP/packages/requests/utils.py#L216-L248',\n",
       "  0.7502095349892154),\n",
       " ('_Binding.__addcookies',\n",
       "  'https://github.com/rameshg87/pyremotevbox/blob/123dffff27da57c8faa3ac1dd4c68b1cf4558b1a/pyremotevbox/ZSI/client.py#L169-L184',\n",
       "  0.749559259714361),\n",
       " ('make_cookie',\n",
       "  'https://github.com/IdentityPython/pysaml2/blob/d3aa78eeb7d37c12688f783cb4db1c7263a14ad6/src/saml2/httputil.py#L320-L346',\n",
       "  0.748550959843836),\n",
       " ('PreparedRequest.prepare_cookies',\n",
       "  'https://github.com/pypa/pipenv/blob/cae8d76c210b9777e90aab76e9c4b0e53bb19cde/pipenv/vendor/requests/models.py#L556-L574',\n",
       "  0.7469175918538887),\n",
       " ('Xeoma.get_session_cookie',\n",
       "  'https://github.com/jeradM/pyxeoma/blob/5bfa19c4968283af0f450acf80b4651cd718f389/pyxeoma/xeoma.py#L121-L130',\n",
       "  0.7463421494681349),\n",
       " ('convert_cookie_to_dict',\n",
       "  'https://github.com/wgnet/webium/blob/ccb09876a201e75f5c5810392d4db7a8708b90cb/webium/cookie.py#L20-L38',\n",
       "  0.7454864890657034),\n",
       " ('HttpUA.find_cookie',\n",
       "  'https://github.com/CRS-support/ftw/blob/1bbfd9b702e7e65532c1fd52bc82960556cefae5/ftw/http.py#L284-L303',\n",
       "  0.7451787962139145),\n",
       " ('lwp_cookie_str',\n",
       "  'https://github.com/PythonCharmers/python-future/blob/c423752879acc05eebc29b0bb9909327bd5c7308/src/future/backports/http/cookiejar.py#L1817-L1843',\n",
       "  0.744770277110079),\n",
       " ('ChromeRemoteDebugInterface.set_cookie',\n",
       "  'https://github.com/fake-name/ChromeController/blob/914dd136184e8f1165c7aa6ef30418aaf10c61f0/ChromeController/manager.py#L238-L310',\n",
       "  0.744567840605688),\n",
       " ('BaseResponse.set_cookie',\n",
       "  'https://github.com/samghelms/mathviz/blob/30fe89537379faea4de8c8b568ac6e52e4d15353/mathviz_hopper/src/bottle.py#L1797-L1878',\n",
       "  0.7444728246925614),\n",
       " ('HTTPBase.set_cookie',\n",
       "  'https://github.com/IdentityPython/pysaml2/blob/d3aa78eeb7d37c12688f783cb4db1c7263a14ad6/src/saml2/httpbase.py#L151-L215',\n",
       "  0.744437492101997)]"
      ]
     },
     "execution_count": 20,
     "metadata": {},
     "output_type": "execute_result"
    }
   ],
   "source": [
    "start = time.time()\n",
    "query = \"create cookie\"\n",
    "search_results = search(query, document_embeddings, data_train, 25)\n",
    "end = time.time()\n",
    "print(\"Search time:\", end - start, \"seconds\")\n",
    "search_results"
   ]
  },
  {
   "cell_type": "code",
   "execution_count": 21,
   "id": "d6c867c1",
   "metadata": {
    "scrolled": true
   },
   "outputs": [
    {
     "name": "stdout",
     "output_type": "stream",
     "text": [
      "Search time: 16.98989725112915 seconds\n"
     ]
    },
    {
     "data": {
      "text/plain": [
       "[('_read',\n",
       "  'https://github.com/pandas-dev/pandas/blob/9feb3ad92cc0397a04b665803a49299ee7aa1037/pandas/io/parsers.py#L405-L452',\n",
       "  0.7475948457056484),\n",
       " ('smartread',\n",
       "  'https://github.com/MacHu-GWU/dataIO-project/blob/7e1cc192b5e53426eed6dbd742918619b8fd60ab/dataIO/textfile.py#L82-L88',\n",
       "  0.7450667959125123),\n",
       " ('BaseIOStream._read_from_buffer',\n",
       "  'https://github.com/tornadoweb/tornado/blob/b8b481770bcdb333a69afde5cce7eaa449128326/tornado/iostream.py#L887-L895',\n",
       "  0.7382655057853018),\n",
       " ('from_buffer',\n",
       "  'https://github.com/ahupp/python-magic/blob/c5b386b08bfbc01330e2ba836d97749d242429dc/magic.py#L146-L156',\n",
       "  0.7349693599202292),\n",
       " ('BufferWorkSpace.yieldable',\n",
       "  'https://github.com/RobinNil/file_read_backwards/blob/e56443095b58aae309fbc43a0943eba867dc8500/file_read_backwards/buffer_work_space.py#L42-L55',\n",
       "  0.7320194985576927),\n",
       " ('AsyncioTelnetServer._read',\n",
       "  'https://github.com/GNS3/gns3-server/blob/a221678448fb5d24e977ef562f81d56aacc89ab1/gns3server/utils/asyncio/telnet_server.py#L295-L305',\n",
       "  0.7256374893622616),\n",
       " ('readerForMemory',\n",
       "  'https://github.com/apple/turicreate/blob/74514c3f99e25b46f22c6e02977fe3da69221c2e/deps/src/libxml2-2.9.1/python/libxml2.py#L1971-L1976',\n",
       "  0.7256223188955033),\n",
       " ('read_file_to_buffer',\n",
       "  'https://github.com/luckydonald/pytgbot/blob/67f4b5a1510d4583d40b5477e876b1ef0eb8971b/examples/cli.py#L38-L47',\n",
       "  0.723967595147531),\n",
       " ('_Target.read_text',\n",
       "  'https://github.com/mar10/pyftpsync/blob/bbdc94186975cdc1cc4f678474bdce08bce7bb76/ftpsync/targets.py#L289-L298',\n",
       "  0.7232262295911898),\n",
       " ('TextFile.readline',\n",
       "  'https://github.com/log2timeline/dfvfs/blob/2b3ccd115f9901d89f383397d4a1376a873c83c4/dfvfs/helpers/text_file.py#L63-L144',\n",
       "  0.7224050543522191),\n",
       " ('readMemory',\n",
       "  'https://github.com/apple/turicreate/blob/74514c3f99e25b46f22c6e02977fe3da69221c2e/deps/src/libxml2-2.9.1/python/libxml2.py#L1376-L1380',\n",
       "  0.7221099782425844),\n",
       " ('FileJobStore._readFromUrl',\n",
       "  'https://github.com/DataBiosphere/toil/blob/a8252277ff814e7bee0971139c2344f88e44b644/src/toil/jobStores/fileJobStore.py#L285-L295',\n",
       "  0.7213827297021411),\n",
       " ('PlyElement._read_txt',\n",
       "  'https://github.com/dranjan/python-plyfile/blob/9f8e8708d3a071229cf292caae7d13264e11c88b/plyfile.py#L678-L709',\n",
       "  0.7202190732513897),\n",
       " ('Path.read_text',\n",
       "  'https://github.com/pkgw/pwkit/blob/d40957a1c3d2ea34e7ceac2267ee9635135f2793/pwkit/io.py#L964-L976',\n",
       "  0.7201147958074938),\n",
       " ('open',\n",
       "  'https://github.com/Drekin/win-unicode-console/blob/6beb5df5219ac1e5495b415d286e634a27720b2e/win_unicode_console/tokenize_open.py#L128-L141',\n",
       "  0.7191876621352494),\n",
       " ('EncodedTextReader._ReadLine',\n",
       "  'https://github.com/log2timeline/plaso/blob/9c564698d2da3ffbe23607a3c54c0582ea18a6cc/plaso/parsers/text_parser.py#L487-L516',\n",
       "  0.7189684549201161),\n",
       " ('socket_read',\n",
       "  'https://github.com/aouyar/PyMunin/blob/4f58a64b6b37c85a84cc7e1e07aafaa0321b249d/pysysinfo/util.py#L64-L81',\n",
       "  0.7173158929572152),\n",
       " ('read_fwf',\n",
       "  'https://github.com/pandas-dev/pandas/blob/9feb3ad92cc0397a04b665803a49299ee7aa1037/pandas/io/parsers.py#L735-L813',\n",
       "  0.7147695104081859),\n",
       " ('get_iter_string_reader',\n",
       "  'https://github.com/amoffat/sh/blob/858adf0c682af4c40e41f34d6926696b7a5d3b12/sh.py#L2596-L2603',\n",
       "  0.7146062479925304),\n",
       " ('read_item',\n",
       "  'https://github.com/alvinwan/TexSoup/blob/63323ed71510fd2351102b8c36660a3b7703cead/TexSoup/reader.py#L271-L316',\n",
       "  0.713816396906058),\n",
       " ('read_indexed',\n",
       "  'https://github.com/noobermin/lspreader/blob/903b9d6427513b07986ffacf76cbca54e18d8be6/lspreader/flds.py#L35-L108',\n",
       "  0.7133808827011061),\n",
       " ('BinaryLineReader.readline',\n",
       "  'https://github.com/log2timeline/plaso/blob/9c564698d2da3ffbe23607a3c54c0582ea18a6cc/plaso/lib/line_reader_file.py#L63-L137',\n",
       "  0.7122898908380295),\n",
       " ('read_files',\n",
       "  'https://github.com/moremoban/moban/blob/5d1674ae461b065a9a54fe89c445cbf6d3cd63c0/setup.py#L148-L154',\n",
       "  0.7118475873486412),\n",
       " ('find_files_and_readers',\n",
       "  'https://github.com/pytroll/satpy/blob/1f21d20ac686b745fb0da9b4030d139893e066dd/satpy/readers/__init__.py#L612-L691',\n",
       "  0.7117148743811437),\n",
       " ('read_files',\n",
       "  'https://github.com/sorgerlab/indra/blob/79a70415832c5702d7a820c7c9ccc8e25010124b/indra/tools/reading/read_files.py#L30-L59',\n",
       "  0.7114849524507769)]"
      ]
     },
     "execution_count": 21,
     "metadata": {},
     "output_type": "execute_result"
    }
   ],
   "source": [
    "start = time.time()\n",
    "query = \"buffered file reader read text\"\n",
    "search_results = search(query, document_embeddings, data_train, 25)\n",
    "end = time.time()\n",
    "print(\"Search time:\", end - start, \"seconds\")\n",
    "search_results"
   ]
  },
  {
   "cell_type": "markdown",
   "id": "1a9c7a8d",
   "metadata": {},
   "source": [
    "## Step 6: Evaluating Search Engine"
   ]
  },
  {
   "cell_type": "code",
   "execution_count": 11,
   "id": "a2c12c8b",
   "metadata": {},
   "outputs": [
    {
     "data": {
      "text/html": [
       "<div>\n",
       "<style scoped>\n",
       "    .dataframe tbody tr th:only-of-type {\n",
       "        vertical-align: middle;\n",
       "    }\n",
       "\n",
       "    .dataframe tbody tr th {\n",
       "        vertical-align: top;\n",
       "    }\n",
       "\n",
       "    .dataframe thead th {\n",
       "        text-align: right;\n",
       "    }\n",
       "</style>\n",
       "<table border=\"1\" class=\"dataframe\">\n",
       "  <thead>\n",
       "    <tr style=\"text-align: right;\">\n",
       "      <th></th>\n",
       "      <th>Language</th>\n",
       "      <th>Query</th>\n",
       "      <th>GitHubUrl</th>\n",
       "      <th>Relevance</th>\n",
       "      <th>Notes</th>\n",
       "    </tr>\n",
       "  </thead>\n",
       "  <tbody>\n",
       "    <tr>\n",
       "      <th>0</th>\n",
       "      <td>Go</td>\n",
       "      <td>unique elements</td>\n",
       "      <td>https://github.com/tylertreat/BoomFilters/blob...</td>\n",
       "      <td>0</td>\n",
       "      <td>NaN</td>\n",
       "    </tr>\n",
       "    <tr>\n",
       "      <th>1</th>\n",
       "      <td>Go</td>\n",
       "      <td>read properties file</td>\n",
       "      <td>https://github.com/gobs/httpclient/blob/a93d46...</td>\n",
       "      <td>0</td>\n",
       "      <td>NaN</td>\n",
       "    </tr>\n",
       "    <tr>\n",
       "      <th>2</th>\n",
       "      <td>Go</td>\n",
       "      <td>heatmap from 3d coordinates</td>\n",
       "      <td>https://github.com/twpayne/go-geom/blob/e21b3a...</td>\n",
       "      <td>1</td>\n",
       "      <td>NaN</td>\n",
       "    </tr>\n",
       "    <tr>\n",
       "      <th>3</th>\n",
       "      <td>Go</td>\n",
       "      <td>create cookie</td>\n",
       "      <td>https://github.com/volatiletech/abcweb/blob/9e...</td>\n",
       "      <td>2</td>\n",
       "      <td>NaN</td>\n",
       "    </tr>\n",
       "    <tr>\n",
       "      <th>4</th>\n",
       "      <td>Go</td>\n",
       "      <td>readonly array</td>\n",
       "      <td>https://github.com/ericchiang/k8s/blob/68fb216...</td>\n",
       "      <td>0</td>\n",
       "      <td>NaN</td>\n",
       "    </tr>\n",
       "  </tbody>\n",
       "</table>\n",
       "</div>"
      ],
      "text/plain": [
       "  Language                        Query  \\\n",
       "0       Go              unique elements   \n",
       "1       Go         read properties file   \n",
       "2       Go  heatmap from 3d coordinates   \n",
       "3       Go                create cookie   \n",
       "4       Go               readonly array   \n",
       "\n",
       "                                           GitHubUrl  Relevance Notes  \n",
       "0  https://github.com/tylertreat/BoomFilters/blob...          0   NaN  \n",
       "1  https://github.com/gobs/httpclient/blob/a93d46...          0   NaN  \n",
       "2  https://github.com/twpayne/go-geom/blob/e21b3a...          1   NaN  \n",
       "3  https://github.com/volatiletech/abcweb/blob/9e...          2   NaN  \n",
       "4  https://github.com/ericchiang/k8s/blob/68fb216...          0   NaN  "
      ]
     },
     "execution_count": 11,
     "metadata": {},
     "output_type": "execute_result"
    }
   ],
   "source": [
    "test_queries = pd.read_csv('annotation_store.csv')\n",
    "test_queries.head()"
   ]
  },
  {
   "cell_type": "code",
   "execution_count": 12,
   "id": "05314707",
   "metadata": {},
   "outputs": [
    {
     "data": {
      "text/html": [
       "<div>\n",
       "<style scoped>\n",
       "    .dataframe tbody tr th:only-of-type {\n",
       "        vertical-align: middle;\n",
       "    }\n",
       "\n",
       "    .dataframe tbody tr th {\n",
       "        vertical-align: top;\n",
       "    }\n",
       "\n",
       "    .dataframe thead th {\n",
       "        text-align: right;\n",
       "    }\n",
       "</style>\n",
       "<table border=\"1\" class=\"dataframe\">\n",
       "  <thead>\n",
       "    <tr style=\"text-align: right;\">\n",
       "      <th></th>\n",
       "      <th>Language</th>\n",
       "      <th>Query</th>\n",
       "      <th>GitHubUrl</th>\n",
       "      <th>Relevance</th>\n",
       "      <th>Notes</th>\n",
       "    </tr>\n",
       "  </thead>\n",
       "  <tbody>\n",
       "    <tr>\n",
       "      <th>1612</th>\n",
       "      <td>Python</td>\n",
       "      <td>sorting multiple arrays based on another array...</td>\n",
       "      <td>https://github.com/JoseAntFer/pyny3d/blob/fb81...</td>\n",
       "      <td>2</td>\n",
       "      <td>NaN</td>\n",
       "    </tr>\n",
       "    <tr>\n",
       "      <th>1613</th>\n",
       "      <td>Python</td>\n",
       "      <td>priority queue</td>\n",
       "      <td>https://github.com/keon/algorithms/blob/4d6569...</td>\n",
       "      <td>3</td>\n",
       "      <td>NaN</td>\n",
       "    </tr>\n",
       "    <tr>\n",
       "      <th>1614</th>\n",
       "      <td>Python</td>\n",
       "      <td>custom http error response</td>\n",
       "      <td>https://github.com/mapbox/mapbox-sdk-py/blob/7...</td>\n",
       "      <td>3</td>\n",
       "      <td>NaN</td>\n",
       "    </tr>\n",
       "    <tr>\n",
       "      <th>1615</th>\n",
       "      <td>Python</td>\n",
       "      <td>randomly extract x items from a list</td>\n",
       "      <td>https://github.com/CitrineInformatics/python-c...</td>\n",
       "      <td>0</td>\n",
       "      <td>NaN</td>\n",
       "    </tr>\n",
       "    <tr>\n",
       "      <th>1616</th>\n",
       "      <td>Python</td>\n",
       "      <td>extract data from html content</td>\n",
       "      <td>https://github.com/dragnet-org/dragnet/blob/53...</td>\n",
       "      <td>1</td>\n",
       "      <td>NaN</td>\n",
       "    </tr>\n",
       "  </tbody>\n",
       "</table>\n",
       "</div>"
      ],
      "text/plain": [
       "     Language                                              Query  \\\n",
       "1612   Python  sorting multiple arrays based on another array...   \n",
       "1613   Python                                     priority queue   \n",
       "1614   Python                         custom http error response   \n",
       "1615   Python               randomly extract x items from a list   \n",
       "1616   Python                     extract data from html content   \n",
       "\n",
       "                                              GitHubUrl  Relevance Notes  \n",
       "1612  https://github.com/JoseAntFer/pyny3d/blob/fb81...          2   NaN  \n",
       "1613  https://github.com/keon/algorithms/blob/4d6569...          3   NaN  \n",
       "1614  https://github.com/mapbox/mapbox-sdk-py/blob/7...          3   NaN  \n",
       "1615  https://github.com/CitrineInformatics/python-c...          0   NaN  \n",
       "1616  https://github.com/dragnet-org/dragnet/blob/53...          1   NaN  "
      ]
     },
     "execution_count": 12,
     "metadata": {},
     "output_type": "execute_result"
    }
   ],
   "source": [
    "python_queries = test_queries[test_queries['Language'] == 'Python']\n",
    "python_queries.head()"
   ]
  },
  {
   "cell_type": "code",
   "execution_count": 13,
   "id": "55867284",
   "metadata": {},
   "outputs": [],
   "source": [
    "def run_test_query_python(query_list, document_embeddings, k=5):\n",
    "    \"\"\"\n",
    "    Takes in a list of Python queries. Runs the search engine on those queries and returns\n",
    "    the top k results for that query\n",
    "    \"\"\"\n",
    "    test_results = []\n",
    "    i = 1\n",
    "    \n",
    "    total_start = time.time()\n",
    "    for query in query_list:\n",
    "        start = time.time()\n",
    "        print(\"Running query\", i, \":\", query)\n",
    "        \n",
    "        # get top k results of query in our search engine\n",
    "        query_search = search(query, document_embeddings, data_train, k)\n",
    "        \n",
    "        # for each result of the query, add a row to test_results with\n",
    "        # the language (python), the query, and the GitHub Url to the result\n",
    "        for result in query_search:\n",
    "            query_results = [\"python\", query, result[1]]\n",
    "            test_results.append(query_results)\n",
    "        \n",
    "        end = time.time()\n",
    "        print(\"Time taken for query\", i, \":\", end - start)\n",
    "        i += 1\n",
    "        \n",
    "    total_end = time.time()\n",
    "    print(\"Time taken for all queries\", i, \":\", total_end - total_start)\n",
    "    return test_results"
   ]
  },
  {
   "cell_type": "code",
   "execution_count": 14,
   "id": "18b087b2",
   "metadata": {},
   "outputs": [],
   "source": [
    "# list of the 99 test queries\n",
    "query_list = python_queries['Query'].unique().tolist()"
   ]
  },
  {
   "cell_type": "code",
   "execution_count": 102,
   "id": "bb7d9e84",
   "metadata": {
    "scrolled": true
   },
   "outputs": [
    {
     "name": "stdout",
     "output_type": "stream",
     "text": [
      "Running query 1 : sorting multiple arrays based on another arrays sorted order\n",
      "Time taken for query 1 : 26.899136304855347\n",
      "Running query 2 : priority queue\n",
      "Time taken for query 2 : 26.554736852645874\n",
      "Running query 3 : custom http error response\n",
      "Time taken for query 3 : 26.579458475112915\n",
      "Running query 4 : randomly extract x items from a list\n",
      "Time taken for query 4 : 26.75666069984436\n",
      "Running query 5 : extract data from html content\n",
      "Time taken for query 5 : 26.176507234573364\n",
      "Running query 6 : html encode string\n",
      "Time taken for query 6 : 29.602113723754883\n",
      "Running query 7 : how to determine a string is a valid word\n",
      "Time taken for query 7 : 31.568598747253418\n",
      "Running query 8 : convert json to csv\n",
      "Time taken for query 8 : 28.396673917770386\n",
      "Running query 9 : get executable path\n",
      "Time taken for query 9 : 29.96829319000244\n",
      "Running query 10 : how to empty array\n",
      "Time taken for query 10 : 29.222440004348755\n",
      "Running query 11 : parse query string in url\n",
      "Time taken for query 11 : 29.39021325111389\n",
      "Running query 12 : how to randomly pick a number\n",
      "Time taken for query 12 : 30.255003452301025\n",
      "Running query 13 : get current ip address\n",
      "Time taken for query 13 : 31.77660036087036\n",
      "Running query 14 : aes encryption\n",
      "Time taken for query 14 : 30.345622777938843\n",
      "Running query 15 : confusion matrix\n",
      "Time taken for query 15 : 31.64583134651184\n",
      "Running query 16 : get current observable value\n",
      "Time taken for query 16 : 22.593149423599243\n",
      "Running query 17 : linear regression\n",
      "Time taken for query 17 : 30.87059473991394\n",
      "Running query 18 : extract latitude and longitude from given input\n",
      "Time taken for query 18 : 29.445837259292603\n",
      "Running query 19 : convert decimal to hex\n",
      "Time taken for query 19 : 28.959142684936523\n",
      "Running query 20 : unzipping large files\n",
      "Time taken for query 20 : 28.86053490638733\n",
      "Running query 21 : k means clustering\n",
      "Time taken for query 21 : 29.30829095840454\n",
      "Running query 22 : export to excel\n",
      "Time taken for query 22 : 29.745612621307373\n",
      "Running query 23 : how to get current date\n",
      "Time taken for query 23 : 29.66444730758667\n",
      "Running query 24 : set file attrib hidden\n",
      "Time taken for query 24 : 20.018336057662964\n",
      "Running query 25 : how to read the contents of a .gz compressed file?\n",
      "Time taken for query 25 : 29.325857162475586\n",
      "Running query 26 : extracting data from a text file\n",
      "Time taken for query 26 : 28.55350685119629\n",
      "Running query 27 : get inner html\n",
      "Time taken for query 27 : 26.82112431526184\n",
      "Running query 28 : heatmap from 3d coordinates\n",
      "Time taken for query 28 : 27.65301537513733\n",
      "Running query 29 : get the description of a http status code\n",
      "Time taken for query 29 : 26.167389631271362\n",
      "Running query 30 : get current process id\n",
      "Time taken for query 30 : 26.687634468078613\n",
      "Running query 31 : filter array\n",
      "Time taken for query 31 : 26.08003830909729\n",
      "Running query 32 : parse json file\n",
      "Time taken for query 32 : 27.485033750534058\n",
      "Running query 33 : group by count\n",
      "Time taken for query 33 : 26.341336488723755\n",
      "Running query 34 : how to make the checkbox checked\n",
      "Time taken for query 34 : 20.06580400466919\n",
      "Running query 35 : how to read .csv file in an efficient way?\n",
      "Time taken for query 35 : 25.880096912384033\n",
      "Running query 36 : sending binary data over a serial connection\n",
      "Time taken for query 36 : 26.567062616348267\n",
      "Running query 37 : read properties file\n",
      "Time taken for query 37 : 26.463181257247925\n",
      "Running query 38 : convert a date string into yyyymmdd\n",
      "Time taken for query 38 : 27.238274097442627\n",
      "Running query 39 : get name of enumerated value\n",
      "Time taken for query 39 : 26.57234263420105\n",
      "Running query 40 : format date\n",
      "Time taken for query 40 : 26.405341148376465\n",
      "Running query 41 : scatter plot\n",
      "Time taken for query 41 : 26.462955474853516\n",
      "Running query 42 : deducting the median from each column\n",
      "Time taken for query 42 : 26.62124276161194\n",
      "Running query 43 : write csv\n",
      "Time taken for query 43 : 26.667176961898804\n",
      "Running query 44 : encrypt aes ctr mode\n",
      "Time taken for query 44 : 26.547906398773193\n",
      "Running query 45 : binomial distribution\n",
      "Time taken for query 45 : 26.742443084716797\n",
      "Running query 46 : replace in file\n",
      "Time taken for query 46 : 26.046030521392822\n",
      "Running query 47 : print model summary\n",
      "Time taken for query 47 : 26.945509910583496\n",
      "Running query 48 : copy to clipboard\n",
      "Time taken for query 48 : 26.36973237991333\n",
      "Running query 49 : converting uint8 array to image\n",
      "Time taken for query 49 : 27.05735731124878\n",
      "Running query 50 : normal distribution\n",
      "Time taken for query 50 : 26.345759391784668\n",
      "Running query 51 : html entities replace\n",
      "Time taken for query 51 : 26.64087700843811\n",
      "Running query 52 : how to check if a checkbox is checked\n",
      "Time taken for query 52 : 18.313206672668457\n",
      "Running query 53 : nelder mead optimize\n",
      "Time taken for query 53 : 10.529390573501587\n",
      "Running query 54 : memoize to disk  - persistent memoization\n",
      "Time taken for query 54 : 25.89628291130066\n",
      "Running query 55 : positions of substrings in string\n",
      "Time taken for query 55 : 26.461074352264404\n",
      "Running query 56 : convert string to number\n",
      "Time taken for query 56 : 26.150710582733154\n",
      "Running query 57 : copying a file to a path\n",
      "Time taken for query 57 : 26.8561851978302\n",
      "Running query 58 : deserialize json\n",
      "Time taken for query 58 : 26.09006428718567\n",
      "Running query 59 : read text file line by line\n",
      "Time taken for query 59 : 26.784029006958008\n",
      "Running query 60 : hash set for counting distinct elements\n",
      "Time taken for query 60 : 25.910008907318115\n",
      "Running query 61 : set working directory\n",
      "Time taken for query 61 : 26.55590558052063\n",
      "Running query 62 : encode url\n",
      "Time taken for query 62 : 26.021992206573486\n",
      "Running query 63 : httpclient post json\n",
      "Time taken for query 63 : 26.655149459838867\n",
      "Running query 64 : convert int to string\n",
      "Time taken for query 64 : 26.46589708328247\n",
      "Running query 65 : connect to sql\n",
      "Time taken for query 65 : 26.827040195465088\n",
      "Running query 66 : how to extract zip file recursively\n",
      "Time taken for query 66 : 26.56081795692444\n",
      "Running query 67 : parse binary file to custom class\n",
      "Time taken for query 67 : 26.363333702087402\n",
      "Running query 68 : finding time elapsed using a timer\n",
      "Time taken for query 68 : 26.49137806892395\n",
      "Running query 69 : initializing array\n",
      "Time taken for query 69 : 26.33608055114746\n",
      "Running query 70 : string to date\n",
      "Time taken for query 70 : 26.721625089645386\n",
      "Running query 71 : find int in string\n",
      "Time taken for query 71 : 26.2244713306427\n",
      "Running query 72 : create cookie\n",
      "Time taken for query 72 : 27.001734018325806\n",
      "Running query 73 : how to reverse a string\n",
      "Time taken for query 73 : 26.452255725860596\n",
      "Running query 74 : pretty print json\n",
      "Time taken for query 74 : 26.73487877845764\n",
      "Running query 75 : reading element from html - <td>\n",
      "Time taken for query 75 : 26.14179754257202\n",
      "Running query 76 : map to json\n",
      "Time taken for query 76 : 26.474897861480713\n",
      "Running query 77 : how to get html of website\n",
      "Time taken for query 77 : 26.727391004562378\n",
      "Running query 78 : save list to file\n",
      "Time taken for query 78 : 27.129585027694702\n",
      "Running query 79 : socket recv timeout\n",
      "Time taken for query 79 : 26.60565686225891\n",
      "Running query 80 : get all parents of xml node\n",
      "Time taken for query 80 : 26.73502492904663\n",
      "Running query 81 : unique elements\n",
      "Time taken for query 81 : 26.911738872528076\n",
      "Running query 82 : output to html file\n",
      "Time taken for query 82 : 26.726356267929077\n",
      "Running query 83 : matrix multiply\n",
      "Time taken for query 83 : 26.843859672546387\n",
      "Running query 84 : parse command line argument\n",
      "Time taken for query 84 : 26.55578064918518\n",
      "Running query 85 : convert int to bool\n",
      "Time taken for query 85 : 27.007043838500977\n",
      "Running query 86 : regex case insensitive\n",
      "Time taken for query 86 : 26.78243613243103\n",
      "Running query 87 : json to xml conversion\n",
      "Time taken for query 87 : 26.58894991874695\n",
      "Running query 88 : postgresql connection\n",
      "Time taken for query 88 : 27.927175521850586\n",
      "Running query 89 : string similarity levenshtein\n",
      "Time taken for query 89 : 27.780314445495605\n",
      "Running query 90 : fuzzy match ranking\n",
      "Time taken for query 90 : 26.58808422088623\n",
      "Running query 91 : readonly array\n",
      "Time taken for query 91 : 26.367711782455444\n",
      "Running query 92 : all permutations of a list\n",
      "Time taken for query 92 : 26.52507495880127\n",
      "Running query 93 : convert a utc time to epoch\n",
      "Time taken for query 93 : 26.304884433746338\n",
      "Running query 94 : sort string list\n"
     ]
    },
    {
     "name": "stdout",
     "output_type": "stream",
     "text": [
      "Time taken for query 94 : 26.931403636932373\n",
      "Running query 95 : concatenate several file remove header lines\n",
      "Time taken for query 95 : 26.266358137130737\n",
      "Running query 96 : buffered file reader read text\n",
      "Time taken for query 96 : 27.063509225845337\n",
      "Running query 97 : how to get database table name\n",
      "Time taken for query 97 : 26.61334204673767\n",
      "Running query 98 : underline text in label widget\n",
      "Time taken for query 98 : 26.77951979637146\n",
      "Running query 99 : convert html to pdf\n",
      "Time taken for query 99 : 26.344631671905518\n",
      "Time taken for all queries 100 : 2654.525272846222\n"
     ]
    }
   ],
   "source": [
    "# running all test queries on search engine\n",
    "test_results = run_test_query_python(query_list, document_embeddings, 25)"
   ]
  },
  {
   "cell_type": "code",
   "execution_count": 103,
   "id": "af1d3a7f",
   "metadata": {},
   "outputs": [
    {
     "data": {
      "text/html": [
       "<div>\n",
       "<style scoped>\n",
       "    .dataframe tbody tr th:only-of-type {\n",
       "        vertical-align: middle;\n",
       "    }\n",
       "\n",
       "    .dataframe tbody tr th {\n",
       "        vertical-align: top;\n",
       "    }\n",
       "\n",
       "    .dataframe thead th {\n",
       "        text-align: right;\n",
       "    }\n",
       "</style>\n",
       "<table border=\"1\" class=\"dataframe\">\n",
       "  <thead>\n",
       "    <tr style=\"text-align: right;\">\n",
       "      <th></th>\n",
       "      <th>language</th>\n",
       "      <th>query</th>\n",
       "      <th>url</th>\n",
       "    </tr>\n",
       "  </thead>\n",
       "  <tbody>\n",
       "    <tr>\n",
       "      <th>0</th>\n",
       "      <td>python</td>\n",
       "      <td>sorting multiple arrays based on another array...</td>\n",
       "      <td>https://github.com/mlperf/training/blob/1c6ae7...</td>\n",
       "    </tr>\n",
       "    <tr>\n",
       "      <th>1</th>\n",
       "      <td>python</td>\n",
       "      <td>sorting multiple arrays based on another array...</td>\n",
       "      <td>https://github.com/Spinmob/spinmob/blob/f037f5...</td>\n",
       "    </tr>\n",
       "    <tr>\n",
       "      <th>2</th>\n",
       "      <td>python</td>\n",
       "      <td>sorting multiple arrays based on another array...</td>\n",
       "      <td>https://github.com/yamins81/tabular/blob/1caf0...</td>\n",
       "    </tr>\n",
       "    <tr>\n",
       "      <th>3</th>\n",
       "      <td>python</td>\n",
       "      <td>sorting multiple arrays based on another array...</td>\n",
       "      <td>https://github.com/OLC-Bioinformatics/sipprver...</td>\n",
       "    </tr>\n",
       "    <tr>\n",
       "      <th>4</th>\n",
       "      <td>python</td>\n",
       "      <td>sorting multiple arrays based on another array...</td>\n",
       "      <td>https://github.com/datastore/datastore/blob/7c...</td>\n",
       "    </tr>\n",
       "    <tr>\n",
       "      <th>...</th>\n",
       "      <td>...</td>\n",
       "      <td>...</td>\n",
       "      <td>...</td>\n",
       "    </tr>\n",
       "    <tr>\n",
       "      <th>2404</th>\n",
       "      <td>python</td>\n",
       "      <td>convert html to pdf</td>\n",
       "      <td>https://github.com/fhamborg/news-please/blob/7...</td>\n",
       "    </tr>\n",
       "    <tr>\n",
       "      <th>2405</th>\n",
       "      <td>python</td>\n",
       "      <td>convert html to pdf</td>\n",
       "      <td>https://github.com/BlendedSiteGenerator/Blende...</td>\n",
       "    </tr>\n",
       "    <tr>\n",
       "      <th>2406</th>\n",
       "      <td>python</td>\n",
       "      <td>convert html to pdf</td>\n",
       "      <td>https://github.com/henrysher/kotocore/blob/c52...</td>\n",
       "    </tr>\n",
       "    <tr>\n",
       "      <th>2407</th>\n",
       "      <td>python</td>\n",
       "      <td>convert html to pdf</td>\n",
       "      <td>https://github.com/apragacz/django-rest-regist...</td>\n",
       "    </tr>\n",
       "    <tr>\n",
       "      <th>2408</th>\n",
       "      <td>python</td>\n",
       "      <td>convert html to pdf</td>\n",
       "      <td>https://github.com/inspirehep/refextract/blob/...</td>\n",
       "    </tr>\n",
       "  </tbody>\n",
       "</table>\n",
       "<p>2409 rows × 3 columns</p>\n",
       "</div>"
      ],
      "text/plain": [
       "     language                                              query  \\\n",
       "0      python  sorting multiple arrays based on another array...   \n",
       "1      python  sorting multiple arrays based on another array...   \n",
       "2      python  sorting multiple arrays based on another array...   \n",
       "3      python  sorting multiple arrays based on another array...   \n",
       "4      python  sorting multiple arrays based on another array...   \n",
       "...       ...                                                ...   \n",
       "2404   python                                convert html to pdf   \n",
       "2405   python                                convert html to pdf   \n",
       "2406   python                                convert html to pdf   \n",
       "2407   python                                convert html to pdf   \n",
       "2408   python                                convert html to pdf   \n",
       "\n",
       "                                                    url  \n",
       "0     https://github.com/mlperf/training/blob/1c6ae7...  \n",
       "1     https://github.com/Spinmob/spinmob/blob/f037f5...  \n",
       "2     https://github.com/yamins81/tabular/blob/1caf0...  \n",
       "3     https://github.com/OLC-Bioinformatics/sipprver...  \n",
       "4     https://github.com/datastore/datastore/blob/7c...  \n",
       "...                                                 ...  \n",
       "2404  https://github.com/fhamborg/news-please/blob/7...  \n",
       "2405  https://github.com/BlendedSiteGenerator/Blende...  \n",
       "2406  https://github.com/henrysher/kotocore/blob/c52...  \n",
       "2407  https://github.com/apragacz/django-rest-regist...  \n",
       "2408  https://github.com/inspirehep/refextract/blob/...  \n",
       "\n",
       "[2409 rows x 3 columns]"
      ]
     },
     "execution_count": 103,
     "metadata": {},
     "output_type": "execute_result"
    }
   ],
   "source": [
    "# store the test results as a Pandas DataFrame\n",
    "test_results_df = pd.DataFrame(test_results)\n",
    "test_results_df = test_results_df.rename(columns={0: \"language\", 1: \"query\", 2: \"url\"})\n",
    "test_results_df"
   ]
  },
  {
   "cell_type": "code",
   "execution_count": 104,
   "id": "d9ca4808",
   "metadata": {},
   "outputs": [],
   "source": [
    "# Export the model predictions to a csv file\n",
    "test_results_df.to_csv(\"model_predictions.csv\")"
   ]
  },
  {
   "cell_type": "markdown",
   "id": "f14196ac",
   "metadata": {},
   "source": [
    "**Current best model**: \n",
    "\n",
    "- Using hybrid of k=25 search results and/or search results with > 0.7 similarity score\n",
    "\n",
    "```\n",
    "% of URLs in predictions that exist in the annotation dataset:\n",
    "        python: 20.83%\n",
    "% of URLs in predictions that exist in the annotation dataset (avg relevance > 0):\n",
    "        python: 22.64%\n",
    "NDCG:\n",
    "        python: 0.346\n",
    "NDCG (full ranking):\n",
    "        python: 0.226\n",
    "```"
   ]
  },
  {
   "cell_type": "code",
   "execution_count": null,
   "id": "2b49c529",
   "metadata": {},
   "outputs": [],
   "source": []
  }
 ],
 "metadata": {
  "kernelspec": {
   "display_name": "Python 3 (ipykernel)",
   "language": "python",
   "name": "python3"
  },
  "language_info": {
   "codemirror_mode": {
    "name": "ipython",
    "version": 3
   },
   "file_extension": ".py",
   "mimetype": "text/x-python",
   "name": "python",
   "nbconvert_exporter": "python",
   "pygments_lexer": "ipython3",
   "version": "3.9.7"
  }
 },
 "nbformat": 4,
 "nbformat_minor": 5
}
