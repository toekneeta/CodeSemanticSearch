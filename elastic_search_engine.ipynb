{
 "cells": [
  {
   "cell_type": "code",
   "execution_count": 58,
   "id": "c3745a34",
   "metadata": {},
   "outputs": [],
   "source": [
    "from datasets import load_dataset\n",
    "from elasticsearch import Elasticsearch\n",
    "from elasticsearch.helpers import bulk\n",
    "\n",
    "import time\n",
    "import pandas as pd\n",
    "import numpy as np\n",
    "import pickle"
   ]
  },
  {
   "cell_type": "markdown",
   "id": "86a29585",
   "metadata": {},
   "source": [
    "## Step 0: Read in the data"
   ]
  },
  {
   "cell_type": "code",
   "execution_count": 59,
   "id": "03f81255",
   "metadata": {},
   "outputs": [
    {
     "data": {
      "text/plain": [
       "DatasetDict({\n",
       "    train: Dataset({\n",
       "        features: ['repository_name', 'func_path_in_repository', 'func_name', 'whole_func_string', 'language', 'func_code_string', 'func_code_tokens', 'func_documentation_string', 'func_documentation_tokens', 'split_name', 'func_code_url'],\n",
       "        num_rows: 412178\n",
       "    })\n",
       "    test: Dataset({\n",
       "        features: ['repository_name', 'func_path_in_repository', 'func_name', 'whole_func_string', 'language', 'func_code_string', 'func_code_tokens', 'func_documentation_string', 'func_documentation_tokens', 'split_name', 'func_code_url'],\n",
       "        num_rows: 22176\n",
       "    })\n",
       "    validation: Dataset({\n",
       "        features: ['repository_name', 'func_path_in_repository', 'func_name', 'whole_func_string', 'language', 'func_code_string', 'func_code_tokens', 'func_documentation_string', 'func_documentation_tokens', 'split_name', 'func_code_url'],\n",
       "        num_rows: 23107\n",
       "    })\n",
       "})"
      ]
     },
     "execution_count": 59,
     "metadata": {},
     "output_type": "execute_result"
    }
   ],
   "source": [
    "python_data = load_dataset(\"code_search_net\", \"python\")\n",
    "python_data"
   ]
  },
  {
   "cell_type": "code",
   "execution_count": 60,
   "id": "5e6fdb3d",
   "metadata": {},
   "outputs": [],
   "source": [
    "# Use the training data for Python code only\n",
    "data_train = python_data['train']\n",
    "# data_train_snippet = data_train['whole_func_string']"
   ]
  },
  {
   "cell_type": "markdown",
   "id": "acfd2334",
   "metadata": {},
   "source": [
    "## Step 1: Setting up ElasticSearch"
   ]
  },
  {
   "cell_type": "code",
   "execution_count": 61,
   "id": "6d5c9a13",
   "metadata": {},
   "outputs": [],
   "source": [
    "es = Elasticsearch(\"http://localhost:9200\")\n",
    "# es.info().body"
   ]
  },
  {
   "cell_type": "code",
   "execution_count": 62,
   "id": "580febd5",
   "metadata": {},
   "outputs": [
    {
     "data": {
      "text/plain": [
       "dict_keys(['repository_name', 'func_path_in_repository', 'func_name', 'whole_func_string', 'language', 'func_code_string', 'func_code_tokens', 'func_documentation_string', 'func_documentation_tokens', 'split_name', 'func_code_url'])"
      ]
     },
     "execution_count": 62,
     "metadata": {},
     "output_type": "execute_result"
    }
   ],
   "source": [
    "data_train[0].keys()"
   ]
  },
  {
   "cell_type": "code",
   "execution_count": 63,
   "id": "766951e1",
   "metadata": {},
   "outputs": [],
   "source": [
    "# Creating the mappings (structure) for the python index\n",
    "mappings = {\n",
    "    \"properties\": {\n",
    "        'repository_name': {\"type\": \"text\"}, \n",
    "        'func_path_in_repository': {\"type\": \"text\"}, \n",
    "        'func_name': {\"type\": \"text\"}, \n",
    "        'whole_func_string': {\"type\": \"text\"}, \n",
    "        'language': {\"type\": \"text\"}, \n",
    "        'func_code_string': {\"type\": \"text\"}, \n",
    "        'func_code_tokens': {\"type\": \"text\"}, \n",
    "        'func_documentation_string': {\"type\": \"text\"}, \n",
    "        'func_documentation_tokens': {\"type\": \"text\"}, \n",
    "        'split_name': {\"type\": \"text\"}, \n",
    "        'func_code_url': {\"type\": \"text\"}\n",
    "    }\n",
    "}\n",
    "\n",
    "#analyzer settings\n",
    "analyzer_settings = {\n",
    "    \"settings\": {\n",
    "        \"analysis\": {\n",
    "            \"analyzer\": {\n",
    "                \"code_analyzer\": {\n",
    "                    \"type\": \"custom\",\n",
    "                    \"tokenizer\": \"whitespace\",\n",
    "                    \"filter\": [\"lowercase\"],\n",
    "                    \"char_filter\": [\"symbol_char_filter\"]\n",
    "                }\n",
    "            },\n",
    "            \"char_filter\": {\n",
    "                \"symbol_char_filter\": {\n",
    "                    \"type\": \"mapping\",\n",
    "                    \"mappings\": [\n",
    "                        \"_=> \",    # Replace underscore with space\n",
    "                        \";=>\",     # Remove semicolons\n",
    "                        \"{=>\",     # Remove opening curly braces\n",
    "                        \"}=>\",     # Remove closing curly braces\n",
    "                        \")=>\",\n",
    "                        \"(=>\"\n",
    "                    ]\n",
    "                }\n",
    "            }\n",
    "        }\n",
    "    }\n",
    "}"
   ]
  },
  {
   "cell_type": "code",
   "execution_count": 64,
   "id": "0796db5e",
   "metadata": {},
   "outputs": [],
   "source": [
    "# Creating the index python with the mappings above\n",
    "# es.indices.create(index=\"python\", mappings=mappings, body=analyzer_settings)"
   ]
  },
  {
   "cell_type": "markdown",
   "id": "05441605",
   "metadata": {},
   "source": [
    "## Step 2: Adding Data into ElasticSearch"
   ]
  },
  {
   "cell_type": "code",
   "execution_count": 65,
   "id": "05c5b7a9",
   "metadata": {},
   "outputs": [
    {
     "name": "stdout",
     "output_type": "stream",
     "text": [
      "Time taken to read data into bulk_data: 644.6600196361542\n"
     ]
    }
   ],
   "source": [
    "start = time.time()\n",
    "\n",
    "# Creating a list of dictionaries with all the data to be added in to the ElasticSearch index\n",
    "bulk_data = []\n",
    "for i, row in enumerate(data_train):\n",
    "    bulk_data.append(\n",
    "        {\n",
    "            \"_index\": \"python\",\n",
    "            \"_id\": i,\n",
    "            \"_source\": {\n",
    "                \"repository_name\": row['repository_name'],\n",
    "                'func_path_in_repository': row['func_path_in_repository'], \n",
    "                'func_name': row['func_name'], \n",
    "                'whole_func_string': row['whole_func_string'], \n",
    "                'language': row['language'], \n",
    "                'func_code_string': row['func_code_string'], \n",
    "                'func_code_tokens': row['func_code_tokens'], \n",
    "                'func_documentation_string': row['func_documentation_string'], \n",
    "                'func_documentation_tokens': row['func_documentation_tokens'], \n",
    "                'split_name': row['split_name'], \n",
    "                'func_code_url': row['func_code_url']\n",
    "            }\n",
    "        }\n",
    "    )\n",
    "    \n",
    "end = time.time()\n",
    "print(\"Time taken to read data into bulk_data:\", end - start)"
   ]
  },
  {
   "cell_type": "code",
   "execution_count": 68,
   "id": "ab0fbbb9",
   "metadata": {},
   "outputs": [
    {
     "name": "stdout",
     "output_type": "stream",
     "text": [
      "time taken to add data into the index: 1660.0469880104065\n"
     ]
    }
   ],
   "source": [
    "start = time.time()\n",
    "\n",
    "# Adding data into the index\n",
    "bulk(es, bulk_data)\n",
    "\n",
    "end = time.time()\n",
    "print(\"time taken to add data into the index:\", end - start)"
   ]
  },
  {
   "cell_type": "code",
   "execution_count": 69,
   "id": "5a544f37",
   "metadata": {},
   "outputs": [
    {
     "data": {
      "text/plain": [
       "[{'epoch': '1701667572', 'timestamp': '05:26:12', 'count': '412178'}]"
      ]
     },
     "execution_count": 69,
     "metadata": {},
     "output_type": "execute_result"
    }
   ],
   "source": [
    "# verifying that all data has been read into the python index properly\n",
    "es.indices.refresh(index=\"python\")\n",
    "es.cat.count(index=\"python\", format=\"json\")"
   ]
  },
  {
   "cell_type": "markdown",
   "id": "081d55a3",
   "metadata": {},
   "source": [
    "## Step 3: Implementing the Search Function"
   ]
  },
  {
   "cell_type": "code",
   "execution_count": 70,
   "id": "31fb7a17",
   "metadata": {},
   "outputs": [],
   "source": [
    "def es_search(query, k=10):\n",
    "    \"\"\"\n",
    "    Searches the data using ElasticSearch to find the k most similar documents to the query.\n",
    "    Returns a list of the k most similar functions, along with their GitHub URLs and their similarity scores to the query\n",
    "    \"\"\"\n",
    "\n",
    "    es_query = {\n",
    "        \"query\": {\n",
    "            \"bool\": {\n",
    "                \"must\": {\n",
    "                    \"query_string\": {\n",
    "                        \"query\": query,\n",
    "                        \"fields\": [\n",
    "                            'repository_name',\n",
    "                            'func_path_in_repository',\n",
    "                            'func_name',\n",
    "                            'whole_func_string^3', #boost\n",
    "                            'language',\n",
    "                            'func_code_string',\n",
    "                            'func_code_tokens^2', # boost\n",
    "                            'func_documentation_string',\n",
    "                            'func_documentation_tokens',\n",
    "                            'split_name',\n",
    "                            'func_code_url'\n",
    "                        ],\n",
    "                        \"phrase_slop\": 2  # allows for flexibility in phrase matching\n",
    "                    }\n",
    "                },\n",
    "                # \"should\": [\n",
    "                #     {\"match_phrase\": {\"func_name\": {\"query\": query, \"boost\": 2}}},\n",
    "                #     {\"match_phrase\": {\"whole_func_string\": {\"query\": query, \"boost\": 3}}}\n",
    "                # ]\n",
    "            }\n",
    "        },\n",
    "        \"size\": k\n",
    "    }\n",
    "    \n",
    "    response = es.search(index=\"python\", body=es_query)\n",
    "    \n",
    "    results = []\n",
    "    # for each result, add the function name, the GitHub URL of the function, and the similarity score to the results list\n",
    "    for hit in response['hits']['hits']:\n",
    "        row = hit['_source']\n",
    "        results.append((row['func_name'], row['func_code_url'], hit['_score']))\n",
    "        \n",
    "    return results"
   ]
  },
  {
   "cell_type": "markdown",
   "id": "fc3c6e2b",
   "metadata": {},
   "source": [
    "## Step 4: Testing the Search Engine"
   ]
  },
  {
   "cell_type": "code",
   "execution_count": null,
   "id": "e31c0f1a",
   "metadata": {},
   "outputs": [
    {
     "name": "stderr",
     "output_type": "stream",
     "text": [
      "C:\\Users\\misaf\\AppData\\Local\\Temp\\ipykernel_16836\\4115504043.py:38: DeprecationWarning: The 'body' parameter is deprecated for the 'search' API and will be removed in a future version. Instead use API parameters directly. See https://github.com/elastic/elasticsearch-py/issues/1698 for more information\n",
      "  response = es.search(index=\"python\", body=es_query)\n"
     ]
    },
    {
     "data": {
      "text/plain": [
       "[('unique',\n",
       "  'https://github.com/odlgroup/odl/blob/b8443f6aca90e191ba36c91d32253c5a36249a6c/odl/util/utility.py#L1573-L1611',\n",
       "  45.621704),\n",
       " ('generate_random_sframe',\n",
       "  'https://github.com/apple/turicreate/blob/74514c3f99e25b46f22c6e02977fe3da69221c2e/src/unity/python/turicreate/util/_sframe_generation.py#L13-L71',\n",
       "  44.050896),\n",
       " ('unique',\n",
       "  'https://github.com/limix/numpy-sugar/blob/4bdfa26913135c76ef3cd542a332f4e5861e948b/numpy_sugar/_array.py#L132-L149',\n",
       "  43.924316),\n",
       " ('BaseProvider.random_sample',\n",
       "  'https://github.com/joke2k/faker/blob/965824b61132e52d92d1a6ce470396dbbe01c96c/faker/providers/__init__.py#L243-L248',\n",
       "  43.847404),\n",
       " ('unique',\n",
       "  'https://github.com/dedupeio/dedupe/blob/9f7c9f84473a4bcacf0f2b11152d8ed3eb35d48b/dedupe/labeler.py#L383-L390',\n",
       "  42.582573)]"
      ]
     },
     "execution_count": 12,
     "metadata": {},
     "output_type": "execute_result"
    }
   ],
   "source": [
    "query = \"unique elements\"\n",
    "es_search(query, 5)"
   ]
  },
  {
   "cell_type": "code",
   "execution_count": null,
   "metadata": {},
   "outputs": [
    {
     "data": {
      "text/plain": [
       "{'name': '222f85e45a05',\n",
       " 'cluster_name': 'docker-cluster',\n",
       " 'cluster_uuid': 'OwyYYkU1RSeGf5Nx4VAQjA',\n",
       " 'version': {'number': '8.7.0',\n",
       "  'build_flavor': 'default',\n",
       "  'build_type': 'docker',\n",
       "  'build_hash': '09520b59b6bc1057340b55750186466ea715e30e',\n",
       "  'build_date': '2023-03-27T16:31:09.816451435Z',\n",
       "  'build_snapshot': False,\n",
       "  'lucene_version': '9.5.0',\n",
       "  'minimum_wire_compatibility_version': '7.17.0',\n",
       "  'minimum_index_compatibility_version': '7.0.0'},\n",
       " 'tagline': 'You Know, for Search'}"
      ]
     },
     "execution_count": 13,
     "metadata": {},
     "output_type": "execute_result"
    }
   ],
   "source": [
    "es.info()"
   ]
  },
  {
   "cell_type": "code",
   "execution_count": null,
   "id": "3a8dea8f",
   "metadata": {},
   "outputs": [
    {
     "name": "stderr",
     "output_type": "stream",
     "text": [
      "C:\\Users\\misaf\\AppData\\Local\\Temp\\ipykernel_16836\\4115504043.py:38: DeprecationWarning: The 'body' parameter is deprecated for the 'search' API and will be removed in a future version. Instead use API parameters directly. See https://github.com/elastic/elasticsearch-py/issues/1698 for more information\n",
      "  response = es.search(index=\"python\", body=es_query)\n"
     ]
    },
    {
     "data": {
      "text/plain": [
       "[('WHTTPCookieJar.import_header_text',\n",
       "  'https://github.com/a1ezzz/wasp-general/blob/1029839d33eb663f8dec76c1c46754d53c1de4a9/wasp_general/network/web/cookies.py#L316-L324',\n",
       "  46.92044),\n",
       " ('IIIFAuth.access_token',\n",
       "  'https://github.com/zimeon/iiif/blob/9d10018d01202fa2a76dfa61598dc6eca07b471f/iiif/auth.py#L257-L269',\n",
       "  46.747246),\n",
       " ('make_cookie',\n",
       "  'https://github.com/IdentityPython/pysaml2/blob/d3aa78eeb7d37c12688f783cb4db1c7263a14ad6/src/saml2/httputil.py#L320-L346',\n",
       "  45.509644)]"
      ]
     },
     "execution_count": 14,
     "metadata": {},
     "output_type": "execute_result"
    }
   ],
   "source": [
    "query = \"create cookie\"\n",
    "es_search(query, 3)"
   ]
  },
  {
   "cell_type": "markdown",
   "id": "47a282bb",
   "metadata": {},
   "source": [
    "## Step 5: Evaluating the Search Engine"
   ]
  },
  {
   "cell_type": "code",
   "execution_count": 71,
   "id": "015b08be",
   "metadata": {},
   "outputs": [],
   "source": [
    "def run_test_query_python_es(query_list, k=10):\n",
    "    \"\"\"\n",
    "    Takes in a list of Python queries. Runs the search engine on those queries and returns\n",
    "    the top k results for that query\n",
    "    \"\"\"\n",
    "    test_results = []\n",
    "    i = 1\n",
    "    \n",
    "    total_start = time.time()\n",
    "    for query in query_list:\n",
    "        # get top k results of query in our elastic search engine\n",
    "        query_search = es_search(query, k)\n",
    "        \n",
    "        # for each result of the query, add a row to test_results with\n",
    "        # the language (python), the query, and the GitHub Url to the result\n",
    "        for result in query_search:\n",
    "            # query_results = [\"python\", query, result[1]]\n",
    "            query_results = [\"python\", query, result[1], result[2]]\n",
    "            test_results.append(query_results)\n",
    "        \n",
    "        \n",
    "    total_end = time.time()\n",
    "    print(\"Time taken for all queries:\", total_end - total_start)\n",
    "    return test_results"
   ]
  },
  {
   "cell_type": "code",
   "execution_count": 72,
   "id": "59449427",
   "metadata": {},
   "outputs": [],
   "source": [
    "# read in the annotated test dataset and get only the Python queries\n",
    "test_queries = pd.read_csv('annotation_store.csv')\n",
    "python_queries = test_queries[test_queries['Language'] == 'Python']\n",
    "\n",
    "query_list = python_queries['Query'].unique().tolist()"
   ]
  },
  {
   "cell_type": "code",
   "execution_count": 73,
   "id": "ac289884",
   "metadata": {},
   "outputs": [
    {
     "name": "stderr",
     "output_type": "stream",
     "text": [
      "C:\\Users\\misaf\\AppData\\Local\\Temp\\ipykernel_14268\\4115504043.py:38: DeprecationWarning: The 'body' parameter is deprecated for the 'search' API and will be removed in a future version. Instead use API parameters directly. See https://github.com/elastic/elasticsearch-py/issues/1698 for more information\n",
      "  response = es.search(index=\"python\", body=es_query)\n"
     ]
    },
    {
     "name": "stdout",
     "output_type": "stream",
     "text": [
      "Time taken for all queries: 37.51243734359741\n"
     ]
    }
   ],
   "source": [
    "# run the tests for the evaluation data\n",
    "test_es_results = run_test_query_python_es(query_list, 300)"
   ]
  },
  {
   "cell_type": "code",
   "execution_count": 74,
   "id": "a7a805ed",
   "metadata": {},
   "outputs": [
    {
     "data": {
      "text/html": [
       "<div>\n",
       "<style scoped>\n",
       "    .dataframe tbody tr th:only-of-type {\n",
       "        vertical-align: middle;\n",
       "    }\n",
       "\n",
       "    .dataframe tbody tr th {\n",
       "        vertical-align: top;\n",
       "    }\n",
       "\n",
       "    .dataframe thead th {\n",
       "        text-align: right;\n",
       "    }\n",
       "</style>\n",
       "<table border=\"1\" class=\"dataframe\">\n",
       "  <thead>\n",
       "    <tr style=\"text-align: right;\">\n",
       "      <th></th>\n",
       "      <th>language</th>\n",
       "      <th>query</th>\n",
       "      <th>url</th>\n",
       "      <th>score</th>\n",
       "    </tr>\n",
       "  </thead>\n",
       "  <tbody>\n",
       "    <tr>\n",
       "      <th>0</th>\n",
       "      <td>python</td>\n",
       "      <td>sorting multiple arrays based on another array...</td>\n",
       "      <td>https://github.com/pyviz/holoviews/blob/ae0dd2...</td>\n",
       "      <td>95.294620</td>\n",
       "    </tr>\n",
       "    <tr>\n",
       "      <th>1</th>\n",
       "      <td>python</td>\n",
       "      <td>sorting multiple arrays based on another array...</td>\n",
       "      <td>https://github.com/google/prettytensor/blob/75...</td>\n",
       "      <td>91.741810</td>\n",
       "    </tr>\n",
       "    <tr>\n",
       "      <th>2</th>\n",
       "      <td>python</td>\n",
       "      <td>sorting multiple arrays based on another array...</td>\n",
       "      <td>https://github.com/rkday/nose2dep/blob/135a529...</td>\n",
       "      <td>84.342710</td>\n",
       "    </tr>\n",
       "    <tr>\n",
       "      <th>3</th>\n",
       "      <td>python</td>\n",
       "      <td>sorting multiple arrays based on another array...</td>\n",
       "      <td>https://github.com/Zitrax/nose-dep/blob/fd29c9...</td>\n",
       "      <td>82.965920</td>\n",
       "    </tr>\n",
       "    <tr>\n",
       "      <th>4</th>\n",
       "      <td>python</td>\n",
       "      <td>sorting multiple arrays based on another array...</td>\n",
       "      <td>https://github.com/bcbio/bcbio-nextgen/blob/6a...</td>\n",
       "      <td>80.840324</td>\n",
       "    </tr>\n",
       "    <tr>\n",
       "      <th>...</th>\n",
       "      <td>...</td>\n",
       "      <td>...</td>\n",
       "      <td>...</td>\n",
       "      <td>...</td>\n",
       "    </tr>\n",
       "    <tr>\n",
       "      <th>29695</th>\n",
       "      <td>python</td>\n",
       "      <td>convert html to pdf</td>\n",
       "      <td>https://github.com/Phyks/libbmc/blob/9ef1a29d2...</td>\n",
       "      <td>30.736752</td>\n",
       "    </tr>\n",
       "    <tr>\n",
       "      <th>29696</th>\n",
       "      <td>python</td>\n",
       "      <td>convert html to pdf</td>\n",
       "      <td>https://github.com/acutesoftware/AIKIF/blob/fc...</td>\n",
       "      <td>30.733560</td>\n",
       "    </tr>\n",
       "    <tr>\n",
       "      <th>29697</th>\n",
       "      <td>python</td>\n",
       "      <td>convert html to pdf</td>\n",
       "      <td>https://github.com/PlaidWeb/Publ/blob/ce789363...</td>\n",
       "      <td>30.733560</td>\n",
       "    </tr>\n",
       "    <tr>\n",
       "      <th>29698</th>\n",
       "      <td>python</td>\n",
       "      <td>convert html to pdf</td>\n",
       "      <td>https://github.com/DS-100/nb-to-gradescope/blo...</td>\n",
       "      <td>30.722044</td>\n",
       "    </tr>\n",
       "    <tr>\n",
       "      <th>29699</th>\n",
       "      <td>python</td>\n",
       "      <td>convert html to pdf</td>\n",
       "      <td>https://github.com/slinderman/pypolyagamma/blo...</td>\n",
       "      <td>30.722044</td>\n",
       "    </tr>\n",
       "  </tbody>\n",
       "</table>\n",
       "<p>29700 rows × 4 columns</p>\n",
       "</div>"
      ],
      "text/plain": [
       "      language                                              query  \\\n",
       "0       python  sorting multiple arrays based on another array...   \n",
       "1       python  sorting multiple arrays based on another array...   \n",
       "2       python  sorting multiple arrays based on another array...   \n",
       "3       python  sorting multiple arrays based on another array...   \n",
       "4       python  sorting multiple arrays based on another array...   \n",
       "...        ...                                                ...   \n",
       "29695   python                                convert html to pdf   \n",
       "29696   python                                convert html to pdf   \n",
       "29697   python                                convert html to pdf   \n",
       "29698   python                                convert html to pdf   \n",
       "29699   python                                convert html to pdf   \n",
       "\n",
       "                                                     url      score  \n",
       "0      https://github.com/pyviz/holoviews/blob/ae0dd2...  95.294620  \n",
       "1      https://github.com/google/prettytensor/blob/75...  91.741810  \n",
       "2      https://github.com/rkday/nose2dep/blob/135a529...  84.342710  \n",
       "3      https://github.com/Zitrax/nose-dep/blob/fd29c9...  82.965920  \n",
       "4      https://github.com/bcbio/bcbio-nextgen/blob/6a...  80.840324  \n",
       "...                                                  ...        ...  \n",
       "29695  https://github.com/Phyks/libbmc/blob/9ef1a29d2...  30.736752  \n",
       "29696  https://github.com/acutesoftware/AIKIF/blob/fc...  30.733560  \n",
       "29697  https://github.com/PlaidWeb/Publ/blob/ce789363...  30.733560  \n",
       "29698  https://github.com/DS-100/nb-to-gradescope/blo...  30.722044  \n",
       "29699  https://github.com/slinderman/pypolyagamma/blo...  30.722044  \n",
       "\n",
       "[29700 rows x 4 columns]"
      ]
     },
     "execution_count": 74,
     "metadata": {},
     "output_type": "execute_result"
    }
   ],
   "source": [
    "# store the test results as a Pandas DataFrame\n",
    "test_es_results_df = pd.DataFrame(test_es_results)\n",
    "test_es_results_df.columns=['language', 'query', 'url', 'score']\n"
   ]
  },
  {
   "cell_type": "code",
   "execution_count": 89,
   "metadata": {},
   "outputs": [],
   "source": [
    "test_es_results_df.to_pickle(\"test_es_results_df.pkl\")"
   ]
  },
  {
   "cell_type": "code",
   "execution_count": 19,
   "id": "948cde8f",
   "metadata": {},
   "outputs": [],
   "source": [
    "# Export the model predictions to a csv file\n",
    "out = test_es_results_df[['language', 'query', 'url']]\n",
    "out.to_csv(\"es_model_predictions.csv\", index=False)"
   ]
  },
  {
   "cell_type": "markdown",
   "id": "6af61f90",
   "metadata": {},
   "source": [
    "**Simple Model (query_string search):**\n",
    "- Using 200 top results from ElasticSearch engine\n",
    "```\n",
    "% of URLs in predictions that exist in the annotation dataset:\n",
    "        python: 31.24%\n",
    "% of URLs in predictions that exist in the annotation dataset (avg relevance > 0):\n",
    "        python: 32.42%\n",
    "NDCG:\n",
    "        python: 0.355\n",
    "NDCG (full ranking):\n",
    "        python: 0.203\n",
    "```"
   ]
  },
  {
   "cell_type": "markdown",
   "metadata": {},
   "source": [
    "**Improved Model (field boosting + analyzer)**\n",
    "- Using 300 top results from ElasticSearch engine\n",
    "```\n",
    "% of URLs in predictions that exist in the annotation dataset:\n",
    "        python: 31.75%\n",
    "% of URLs in predictions that exist in the annotation dataset (avg relevance > 0):\n",
    "        python: 32.76%\n",
    "NDCG:\n",
    "        python: 0.373\n",
    "NDCG (full ranking):\n",
    "        python: 0.196\n",
    "```"
   ]
  },
  {
   "cell_type": "markdown",
   "metadata": {},
   "source": [
    "**Improved Model (field boosting + analyzer with 'should' statement removed)**\n",
    "- Using 300 top results from ElasticSearch engine\n",
    "```\n",
    "% of URLs in predictions that exist in the annotation dataset:\n",
    "        python: 31.75%\n",
    "% of URLs in predictions that exist in the annotation dataset (avg relevance > 0):\n",
    "        python: 32.76%\n",
    "NDCG:\n",
    "        python: 0.367\n",
    "NDCG (full ranking):\n",
    "        python: 0.202\n",
    "```\n"
   ]
  },
  {
   "cell_type": "markdown",
   "metadata": {},
   "source": [
    "# Implementing LTR with LGBMRanker\n",
    "reference: https://towardsdatascience.com/how-to-implement-learning-to-rank-model-using-python-569cd9c49b08 "
   ]
  },
  {
   "cell_type": "markdown",
   "metadata": {},
   "source": [
    "## Step 1: Creating Training Data"
   ]
  },
  {
   "cell_type": "code",
   "execution_count": 4,
   "metadata": {},
   "outputs": [],
   "source": [
    "from sentence_transformers import SentenceTransformer\n",
    "sentence_transformer = SentenceTransformer('all-MiniLM-L6-v2')"
   ]
  },
  {
   "cell_type": "code",
   "execution_count": 7,
   "metadata": {},
   "outputs": [],
   "source": [
    "with open('python_train_code_tokens.pkl', 'rb') as f:\n",
    "    code_tokens = pickle.load(f)\n",
    "    \n",
    "with open('python_train_docu_tokens.pkl', 'rb') as f:\n",
    "    docu_tokens = pickle.load(f)"
   ]
  },
  {
   "cell_type": "code",
   "execution_count": 93,
   "metadata": {},
   "outputs": [],
   "source": [
    "train_df = pd.DataFrame(data_train)"
   ]
  },
  {
   "cell_type": "code",
   "execution_count": 8,
   "metadata": {},
   "outputs": [],
   "source": [
    "def parse_query(q):\n",
    "    encoded = sentence_transformer.encode(q, convert_to_tensor=True)\n",
    "    return encoded"
   ]
  },
  {
   "cell_type": "code",
   "execution_count": null,
   "metadata": {},
   "outputs": [
    {
     "ename": "IndexError",
     "evalue": "index 11 is out of bounds for axis 0 with size 11",
     "output_type": "error",
     "traceback": [
      "\u001b[1;31m---------------------------------------------------------------------------\u001b[0m",
      "\u001b[1;31mIndexError\u001b[0m                                Traceback (most recent call last)",
      "File \u001b[1;32mc:\\Users\\misaf\\AppData\\Local\\Programs\\Python\\Python38\\lib\\site-packages\\IPython\\core\\formatters.py:707\u001b[0m, in \u001b[0;36mPlainTextFormatter.__call__\u001b[1;34m(self, obj)\u001b[0m\n\u001b[0;32m    700\u001b[0m stream \u001b[39m=\u001b[39m StringIO()\n\u001b[0;32m    701\u001b[0m printer \u001b[39m=\u001b[39m pretty\u001b[39m.\u001b[39mRepresentationPrinter(stream, \u001b[39mself\u001b[39m\u001b[39m.\u001b[39mverbose,\n\u001b[0;32m    702\u001b[0m     \u001b[39mself\u001b[39m\u001b[39m.\u001b[39mmax_width, \u001b[39mself\u001b[39m\u001b[39m.\u001b[39mnewline,\n\u001b[0;32m    703\u001b[0m     max_seq_length\u001b[39m=\u001b[39m\u001b[39mself\u001b[39m\u001b[39m.\u001b[39mmax_seq_length,\n\u001b[0;32m    704\u001b[0m     singleton_pprinters\u001b[39m=\u001b[39m\u001b[39mself\u001b[39m\u001b[39m.\u001b[39msingleton_printers,\n\u001b[0;32m    705\u001b[0m     type_pprinters\u001b[39m=\u001b[39m\u001b[39mself\u001b[39m\u001b[39m.\u001b[39mtype_printers,\n\u001b[0;32m    706\u001b[0m     deferred_pprinters\u001b[39m=\u001b[39m\u001b[39mself\u001b[39m\u001b[39m.\u001b[39mdeferred_printers)\n\u001b[1;32m--> 707\u001b[0m printer\u001b[39m.\u001b[39;49mpretty(obj)\n\u001b[0;32m    708\u001b[0m printer\u001b[39m.\u001b[39mflush()\n\u001b[0;32m    709\u001b[0m \u001b[39mreturn\u001b[39;00m stream\u001b[39m.\u001b[39mgetvalue()\n",
      "File \u001b[1;32mc:\\Users\\misaf\\AppData\\Local\\Programs\\Python\\Python38\\lib\\site-packages\\IPython\\lib\\pretty.py:410\u001b[0m, in \u001b[0;36mRepresentationPrinter.pretty\u001b[1;34m(self, obj)\u001b[0m\n\u001b[0;32m    407\u001b[0m                         \u001b[39mreturn\u001b[39;00m meth(obj, \u001b[39mself\u001b[39m, cycle)\n\u001b[0;32m    408\u001b[0m                 \u001b[39mif\u001b[39;00m \u001b[39mcls\u001b[39m \u001b[39mis\u001b[39;00m \u001b[39mnot\u001b[39;00m \u001b[39mobject\u001b[39m \\\n\u001b[0;32m    409\u001b[0m                         \u001b[39mand\u001b[39;00m callable(\u001b[39mcls\u001b[39m\u001b[39m.\u001b[39m\u001b[39m__dict__\u001b[39m\u001b[39m.\u001b[39mget(\u001b[39m'\u001b[39m\u001b[39m__repr__\u001b[39m\u001b[39m'\u001b[39m)):\n\u001b[1;32m--> 410\u001b[0m                     \u001b[39mreturn\u001b[39;00m _repr_pprint(obj, \u001b[39mself\u001b[39;49m, cycle)\n\u001b[0;32m    412\u001b[0m     \u001b[39mreturn\u001b[39;00m _default_pprint(obj, \u001b[39mself\u001b[39m, cycle)\n\u001b[0;32m    413\u001b[0m \u001b[39mfinally\u001b[39;00m:\n",
      "File \u001b[1;32mc:\\Users\\misaf\\AppData\\Local\\Programs\\Python\\Python38\\lib\\site-packages\\IPython\\lib\\pretty.py:778\u001b[0m, in \u001b[0;36m_repr_pprint\u001b[1;34m(obj, p, cycle)\u001b[0m\n\u001b[0;32m    776\u001b[0m \u001b[39m\"\"\"A pprint that just redirects to the normal repr function.\"\"\"\u001b[39;00m\n\u001b[0;32m    777\u001b[0m \u001b[39m# Find newlines and replace them with p.break_()\u001b[39;00m\n\u001b[1;32m--> 778\u001b[0m output \u001b[39m=\u001b[39m \u001b[39mrepr\u001b[39;49m(obj)\n\u001b[0;32m    779\u001b[0m lines \u001b[39m=\u001b[39m output\u001b[39m.\u001b[39msplitlines()\n\u001b[0;32m    780\u001b[0m \u001b[39mwith\u001b[39;00m p\u001b[39m.\u001b[39mgroup():\n",
      "File \u001b[1;32mc:\\Users\\misaf\\AppData\\Local\\Programs\\Python\\Python38\\lib\\site-packages\\pandas\\core\\frame.py:1011\u001b[0m, in \u001b[0;36mDataFrame.__repr__\u001b[1;34m(self)\u001b[0m\n\u001b[0;32m   1008\u001b[0m     \u001b[39mreturn\u001b[39;00m buf\u001b[39m.\u001b[39mgetvalue()\n\u001b[0;32m   1010\u001b[0m repr_params \u001b[39m=\u001b[39m fmt\u001b[39m.\u001b[39mget_dataframe_repr_params()\n\u001b[1;32m-> 1011\u001b[0m \u001b[39mreturn\u001b[39;00m \u001b[39mself\u001b[39;49m\u001b[39m.\u001b[39;49mto_string(\u001b[39m*\u001b[39;49m\u001b[39m*\u001b[39;49mrepr_params)\n",
      "File \u001b[1;32mc:\\Users\\misaf\\AppData\\Local\\Programs\\Python\\Python38\\lib\\site-packages\\pandas\\core\\frame.py:1192\u001b[0m, in \u001b[0;36mDataFrame.to_string\u001b[1;34m(self, buf, columns, col_space, header, index, na_rep, formatters, float_format, sparsify, index_names, justify, max_rows, max_cols, show_dimensions, decimal, line_width, min_rows, max_colwidth, encoding)\u001b[0m\n\u001b[0;32m   1173\u001b[0m \u001b[39mwith\u001b[39;00m option_context(\u001b[39m\"\u001b[39m\u001b[39mdisplay.max_colwidth\u001b[39m\u001b[39m\"\u001b[39m, max_colwidth):\n\u001b[0;32m   1174\u001b[0m     formatter \u001b[39m=\u001b[39m fmt\u001b[39m.\u001b[39mDataFrameFormatter(\n\u001b[0;32m   1175\u001b[0m         \u001b[39mself\u001b[39m,\n\u001b[0;32m   1176\u001b[0m         columns\u001b[39m=\u001b[39mcolumns,\n\u001b[1;32m   (...)\u001b[0m\n\u001b[0;32m   1190\u001b[0m         decimal\u001b[39m=\u001b[39mdecimal,\n\u001b[0;32m   1191\u001b[0m     )\n\u001b[1;32m-> 1192\u001b[0m     \u001b[39mreturn\u001b[39;00m fmt\u001b[39m.\u001b[39;49mDataFrameRenderer(formatter)\u001b[39m.\u001b[39;49mto_string(\n\u001b[0;32m   1193\u001b[0m         buf\u001b[39m=\u001b[39;49mbuf,\n\u001b[0;32m   1194\u001b[0m         encoding\u001b[39m=\u001b[39;49mencoding,\n\u001b[0;32m   1195\u001b[0m         line_width\u001b[39m=\u001b[39;49mline_width,\n\u001b[0;32m   1196\u001b[0m     )\n",
      "File \u001b[1;32mc:\\Users\\misaf\\AppData\\Local\\Programs\\Python\\Python38\\lib\\site-packages\\pandas\\io\\formats\\format.py:1128\u001b[0m, in \u001b[0;36mDataFrameRenderer.to_string\u001b[1;34m(self, buf, encoding, line_width)\u001b[0m\n\u001b[0;32m   1125\u001b[0m \u001b[39mfrom\u001b[39;00m \u001b[39mpandas\u001b[39;00m\u001b[39m.\u001b[39;00m\u001b[39mio\u001b[39;00m\u001b[39m.\u001b[39;00m\u001b[39mformats\u001b[39;00m\u001b[39m.\u001b[39;00m\u001b[39mstring\u001b[39;00m \u001b[39mimport\u001b[39;00m StringFormatter\n\u001b[0;32m   1127\u001b[0m string_formatter \u001b[39m=\u001b[39m StringFormatter(\u001b[39mself\u001b[39m\u001b[39m.\u001b[39mfmt, line_width\u001b[39m=\u001b[39mline_width)\n\u001b[1;32m-> 1128\u001b[0m string \u001b[39m=\u001b[39m string_formatter\u001b[39m.\u001b[39;49mto_string()\n\u001b[0;32m   1129\u001b[0m \u001b[39mreturn\u001b[39;00m save_to_buffer(string, buf\u001b[39m=\u001b[39mbuf, encoding\u001b[39m=\u001b[39mencoding)\n",
      "File \u001b[1;32mc:\\Users\\misaf\\AppData\\Local\\Programs\\Python\\Python38\\lib\\site-packages\\pandas\\io\\formats\\string.py:25\u001b[0m, in \u001b[0;36mStringFormatter.to_string\u001b[1;34m(self)\u001b[0m\n\u001b[0;32m     24\u001b[0m \u001b[39mdef\u001b[39;00m \u001b[39mto_string\u001b[39m(\u001b[39mself\u001b[39m) \u001b[39m-\u001b[39m\u001b[39m>\u001b[39m \u001b[39mstr\u001b[39m:\n\u001b[1;32m---> 25\u001b[0m     text \u001b[39m=\u001b[39m \u001b[39mself\u001b[39;49m\u001b[39m.\u001b[39;49m_get_string_representation()\n\u001b[0;32m     26\u001b[0m     \u001b[39mif\u001b[39;00m \u001b[39mself\u001b[39m\u001b[39m.\u001b[39mfmt\u001b[39m.\u001b[39mshould_show_dimensions:\n\u001b[0;32m     27\u001b[0m         text \u001b[39m=\u001b[39m \u001b[39m\"\u001b[39m\u001b[39m\"\u001b[39m\u001b[39m.\u001b[39mjoin([text, \u001b[39mself\u001b[39m\u001b[39m.\u001b[39mfmt\u001b[39m.\u001b[39mdimensions_info])\n",
      "File \u001b[1;32mc:\\Users\\misaf\\AppData\\Local\\Programs\\Python\\Python38\\lib\\site-packages\\pandas\\io\\formats\\string.py:40\u001b[0m, in \u001b[0;36mStringFormatter._get_string_representation\u001b[1;34m(self)\u001b[0m\n\u001b[0;32m     37\u001b[0m \u001b[39mif\u001b[39;00m \u001b[39mself\u001b[39m\u001b[39m.\u001b[39mfmt\u001b[39m.\u001b[39mframe\u001b[39m.\u001b[39mempty:\n\u001b[0;32m     38\u001b[0m     \u001b[39mreturn\u001b[39;00m \u001b[39mself\u001b[39m\u001b[39m.\u001b[39m_empty_info_line\n\u001b[1;32m---> 40\u001b[0m strcols \u001b[39m=\u001b[39m \u001b[39mself\u001b[39;49m\u001b[39m.\u001b[39;49m_get_strcols()\n\u001b[0;32m     42\u001b[0m \u001b[39mif\u001b[39;00m \u001b[39mself\u001b[39m\u001b[39m.\u001b[39mline_width \u001b[39mis\u001b[39;00m \u001b[39mNone\u001b[39;00m:\n\u001b[0;32m     43\u001b[0m     \u001b[39m# no need to wrap around just print the whole frame\u001b[39;00m\n\u001b[0;32m     44\u001b[0m     \u001b[39mreturn\u001b[39;00m \u001b[39mself\u001b[39m\u001b[39m.\u001b[39madj\u001b[39m.\u001b[39madjoin(\u001b[39m1\u001b[39m, \u001b[39m*\u001b[39mstrcols)\n",
      "File \u001b[1;32mc:\\Users\\misaf\\AppData\\Local\\Programs\\Python\\Python38\\lib\\site-packages\\pandas\\io\\formats\\string.py:31\u001b[0m, in \u001b[0;36mStringFormatter._get_strcols\u001b[1;34m(self)\u001b[0m\n\u001b[0;32m     30\u001b[0m \u001b[39mdef\u001b[39;00m \u001b[39m_get_strcols\u001b[39m(\u001b[39mself\u001b[39m) \u001b[39m-\u001b[39m\u001b[39m>\u001b[39m \u001b[39mlist\u001b[39m[\u001b[39mlist\u001b[39m[\u001b[39mstr\u001b[39m]]:\n\u001b[1;32m---> 31\u001b[0m     strcols \u001b[39m=\u001b[39m \u001b[39mself\u001b[39;49m\u001b[39m.\u001b[39;49mfmt\u001b[39m.\u001b[39;49mget_strcols()\n\u001b[0;32m     32\u001b[0m     \u001b[39mif\u001b[39;00m \u001b[39mself\u001b[39m\u001b[39m.\u001b[39mfmt\u001b[39m.\u001b[39mis_truncated:\n\u001b[0;32m     33\u001b[0m         strcols \u001b[39m=\u001b[39m \u001b[39mself\u001b[39m\u001b[39m.\u001b[39m_insert_dot_separators(strcols)\n",
      "File \u001b[1;32mc:\\Users\\misaf\\AppData\\Local\\Programs\\Python\\Python38\\lib\\site-packages\\pandas\\io\\formats\\format.py:611\u001b[0m, in \u001b[0;36mDataFrameFormatter.get_strcols\u001b[1;34m(self)\u001b[0m\n\u001b[0;32m    607\u001b[0m \u001b[39mdef\u001b[39;00m \u001b[39mget_strcols\u001b[39m(\u001b[39mself\u001b[39m) \u001b[39m-\u001b[39m\u001b[39m>\u001b[39m \u001b[39mlist\u001b[39m[\u001b[39mlist\u001b[39m[\u001b[39mstr\u001b[39m]]:\n\u001b[0;32m    608\u001b[0m     \u001b[39m\"\"\"\u001b[39;00m\n\u001b[0;32m    609\u001b[0m \u001b[39m    Render a DataFrame to a list of columns (as lists of strings).\u001b[39;00m\n\u001b[0;32m    610\u001b[0m \u001b[39m    \"\"\"\u001b[39;00m\n\u001b[1;32m--> 611\u001b[0m     strcols \u001b[39m=\u001b[39m \u001b[39mself\u001b[39;49m\u001b[39m.\u001b[39;49m_get_strcols_without_index()\n\u001b[0;32m    613\u001b[0m     \u001b[39mif\u001b[39;00m \u001b[39mself\u001b[39m\u001b[39m.\u001b[39mindex:\n\u001b[0;32m    614\u001b[0m         str_index \u001b[39m=\u001b[39m \u001b[39mself\u001b[39m\u001b[39m.\u001b[39m_get_formatted_index(\u001b[39mself\u001b[39m\u001b[39m.\u001b[39mtr_frame)\n",
      "File \u001b[1;32mc:\\Users\\misaf\\AppData\\Local\\Programs\\Python\\Python38\\lib\\site-packages\\pandas\\io\\formats\\format.py:875\u001b[0m, in \u001b[0;36mDataFrameFormatter._get_strcols_without_index\u001b[1;34m(self)\u001b[0m\n\u001b[0;32m    871\u001b[0m cheader \u001b[39m=\u001b[39m str_columns[i]\n\u001b[0;32m    872\u001b[0m header_colwidth \u001b[39m=\u001b[39m \u001b[39mmax\u001b[39m(\n\u001b[0;32m    873\u001b[0m     \u001b[39mint\u001b[39m(\u001b[39mself\u001b[39m\u001b[39m.\u001b[39mcol_space\u001b[39m.\u001b[39mget(c, \u001b[39m0\u001b[39m)), \u001b[39m*\u001b[39m(\u001b[39mself\u001b[39m\u001b[39m.\u001b[39madj\u001b[39m.\u001b[39mlen(x) \u001b[39mfor\u001b[39;00m x \u001b[39min\u001b[39;00m cheader)\n\u001b[0;32m    874\u001b[0m )\n\u001b[1;32m--> 875\u001b[0m fmt_values \u001b[39m=\u001b[39m \u001b[39mself\u001b[39;49m\u001b[39m.\u001b[39;49mformat_col(i)\n\u001b[0;32m    876\u001b[0m fmt_values \u001b[39m=\u001b[39m _make_fixed_width(\n\u001b[0;32m    877\u001b[0m     fmt_values, \u001b[39mself\u001b[39m\u001b[39m.\u001b[39mjustify, minimum\u001b[39m=\u001b[39mheader_colwidth, adj\u001b[39m=\u001b[39m\u001b[39mself\u001b[39m\u001b[39m.\u001b[39madj\n\u001b[0;32m    878\u001b[0m )\n\u001b[0;32m    880\u001b[0m max_len \u001b[39m=\u001b[39m \u001b[39mmax\u001b[39m(\u001b[39mmax\u001b[39m(\u001b[39mself\u001b[39m\u001b[39m.\u001b[39madj\u001b[39m.\u001b[39mlen(x) \u001b[39mfor\u001b[39;00m x \u001b[39min\u001b[39;00m fmt_values), header_colwidth)\n",
      "File \u001b[1;32mc:\\Users\\misaf\\AppData\\Local\\Programs\\Python\\Python38\\lib\\site-packages\\pandas\\io\\formats\\format.py:890\u001b[0m, in \u001b[0;36mDataFrameFormatter.format_col\u001b[1;34m(self, i)\u001b[0m\n\u001b[0;32m    887\u001b[0m frame \u001b[39m=\u001b[39m \u001b[39mself\u001b[39m\u001b[39m.\u001b[39mtr_frame\n\u001b[0;32m    888\u001b[0m formatter \u001b[39m=\u001b[39m \u001b[39mself\u001b[39m\u001b[39m.\u001b[39m_get_formatter(i)\n\u001b[0;32m    889\u001b[0m \u001b[39mreturn\u001b[39;00m format_array(\n\u001b[1;32m--> 890\u001b[0m     frame\u001b[39m.\u001b[39;49miloc[:, i]\u001b[39m.\u001b[39m_values,\n\u001b[0;32m    891\u001b[0m     formatter,\n\u001b[0;32m    892\u001b[0m     float_format\u001b[39m=\u001b[39m\u001b[39mself\u001b[39m\u001b[39m.\u001b[39mfloat_format,\n\u001b[0;32m    893\u001b[0m     na_rep\u001b[39m=\u001b[39m\u001b[39mself\u001b[39m\u001b[39m.\u001b[39mna_rep,\n\u001b[0;32m    894\u001b[0m     space\u001b[39m=\u001b[39m\u001b[39mself\u001b[39m\u001b[39m.\u001b[39mcol_space\u001b[39m.\u001b[39mget(frame\u001b[39m.\u001b[39mcolumns[i]),\n\u001b[0;32m    895\u001b[0m     decimal\u001b[39m=\u001b[39m\u001b[39mself\u001b[39m\u001b[39m.\u001b[39mdecimal,\n\u001b[0;32m    896\u001b[0m     leading_space\u001b[39m=\u001b[39m\u001b[39mself\u001b[39m\u001b[39m.\u001b[39mindex,\n\u001b[0;32m    897\u001b[0m )\n",
      "File \u001b[1;32mc:\\Users\\misaf\\AppData\\Local\\Programs\\Python\\Python38\\lib\\site-packages\\pandas\\core\\indexing.py:961\u001b[0m, in \u001b[0;36m_LocationIndexer.__getitem__\u001b[1;34m(self, key)\u001b[0m\n\u001b[0;32m    959\u001b[0m     \u001b[39mif\u001b[39;00m \u001b[39mself\u001b[39m\u001b[39m.\u001b[39m_is_scalar_access(key):\n\u001b[0;32m    960\u001b[0m         \u001b[39mreturn\u001b[39;00m \u001b[39mself\u001b[39m\u001b[39m.\u001b[39mobj\u001b[39m.\u001b[39m_get_value(\u001b[39m*\u001b[39mkey, takeable\u001b[39m=\u001b[39m\u001b[39mself\u001b[39m\u001b[39m.\u001b[39m_takeable)\n\u001b[1;32m--> 961\u001b[0m     \u001b[39mreturn\u001b[39;00m \u001b[39mself\u001b[39;49m\u001b[39m.\u001b[39;49m_getitem_tuple(key)\n\u001b[0;32m    962\u001b[0m \u001b[39melse\u001b[39;00m:\n\u001b[0;32m    963\u001b[0m     \u001b[39m# we by definition only have the 0th axis\u001b[39;00m\n\u001b[0;32m    964\u001b[0m     axis \u001b[39m=\u001b[39m \u001b[39mself\u001b[39m\u001b[39m.\u001b[39maxis \u001b[39mor\u001b[39;00m \u001b[39m0\u001b[39m\n",
      "File \u001b[1;32mc:\\Users\\misaf\\AppData\\Local\\Programs\\Python\\Python38\\lib\\site-packages\\pandas\\core\\indexing.py:1460\u001b[0m, in \u001b[0;36m_iLocIndexer._getitem_tuple\u001b[1;34m(self, tup)\u001b[0m\n\u001b[0;32m   1458\u001b[0m tup \u001b[39m=\u001b[39m \u001b[39mself\u001b[39m\u001b[39m.\u001b[39m_validate_tuple_indexer(tup)\n\u001b[0;32m   1459\u001b[0m \u001b[39mwith\u001b[39;00m suppress(IndexingError):\n\u001b[1;32m-> 1460\u001b[0m     \u001b[39mreturn\u001b[39;00m \u001b[39mself\u001b[39;49m\u001b[39m.\u001b[39;49m_getitem_lowerdim(tup)\n\u001b[0;32m   1462\u001b[0m \u001b[39mreturn\u001b[39;00m \u001b[39mself\u001b[39m\u001b[39m.\u001b[39m_getitem_tuple_same_dim(tup)\n",
      "File \u001b[1;32mc:\\Users\\misaf\\AppData\\Local\\Programs\\Python\\Python38\\lib\\site-packages\\pandas\\core\\indexing.py:867\u001b[0m, in \u001b[0;36m_LocationIndexer._getitem_lowerdim\u001b[1;34m(self, tup)\u001b[0m\n\u001b[0;32m    863\u001b[0m \u001b[39mfor\u001b[39;00m i, key \u001b[39min\u001b[39;00m \u001b[39menumerate\u001b[39m(tup):\n\u001b[0;32m    864\u001b[0m     \u001b[39mif\u001b[39;00m is_label_like(key):\n\u001b[0;32m    865\u001b[0m         \u001b[39m# We don't need to check for tuples here because those are\u001b[39;00m\n\u001b[0;32m    866\u001b[0m         \u001b[39m#  caught by the _is_nested_tuple_indexer check above.\u001b[39;00m\n\u001b[1;32m--> 867\u001b[0m         section \u001b[39m=\u001b[39m \u001b[39mself\u001b[39;49m\u001b[39m.\u001b[39;49m_getitem_axis(key, axis\u001b[39m=\u001b[39;49mi)\n\u001b[0;32m    869\u001b[0m         \u001b[39m# We should never have a scalar section here, because\u001b[39;00m\n\u001b[0;32m    870\u001b[0m         \u001b[39m#  _getitem_lowerdim is only called after a check for\u001b[39;00m\n\u001b[0;32m    871\u001b[0m         \u001b[39m#  is_scalar_access, which that would be.\u001b[39;00m\n\u001b[0;32m    872\u001b[0m         \u001b[39mif\u001b[39;00m section\u001b[39m.\u001b[39mndim \u001b[39m==\u001b[39m \u001b[39mself\u001b[39m\u001b[39m.\u001b[39mndim:\n\u001b[0;32m    873\u001b[0m             \u001b[39m# we're in the middle of slicing through a MultiIndex\u001b[39;00m\n\u001b[0;32m    874\u001b[0m             \u001b[39m# revise the key wrt to `section` by inserting an _NS\u001b[39;00m\n",
      "File \u001b[1;32mc:\\Users\\misaf\\AppData\\Local\\Programs\\Python\\Python38\\lib\\site-packages\\pandas\\core\\indexing.py:1522\u001b[0m, in \u001b[0;36m_iLocIndexer._getitem_axis\u001b[1;34m(self, key, axis)\u001b[0m\n\u001b[0;32m   1519\u001b[0m \u001b[39m# validate the location\u001b[39;00m\n\u001b[0;32m   1520\u001b[0m \u001b[39mself\u001b[39m\u001b[39m.\u001b[39m_validate_integer(key, axis)\n\u001b[1;32m-> 1522\u001b[0m \u001b[39mreturn\u001b[39;00m \u001b[39mself\u001b[39;49m\u001b[39m.\u001b[39;49mobj\u001b[39m.\u001b[39;49m_ixs(key, axis\u001b[39m=\u001b[39;49maxis)\n",
      "File \u001b[1;32mc:\\Users\\misaf\\AppData\\Local\\Programs\\Python\\Python38\\lib\\site-packages\\pandas\\core\\frame.py:3441\u001b[0m, in \u001b[0;36mDataFrame._ixs\u001b[1;34m(self, i, axis)\u001b[0m\n\u001b[0;32m   3437\u001b[0m \u001b[39m# icol\u001b[39;00m\n\u001b[0;32m   3438\u001b[0m \u001b[39melse\u001b[39;00m:\n\u001b[0;32m   3439\u001b[0m     label \u001b[39m=\u001b[39m \u001b[39mself\u001b[39m\u001b[39m.\u001b[39mcolumns[i]\n\u001b[1;32m-> 3441\u001b[0m     col_mgr \u001b[39m=\u001b[39m \u001b[39mself\u001b[39;49m\u001b[39m.\u001b[39;49m_mgr\u001b[39m.\u001b[39;49miget(i)\n\u001b[0;32m   3442\u001b[0m     result \u001b[39m=\u001b[39m \u001b[39mself\u001b[39m\u001b[39m.\u001b[39m_box_col_values(col_mgr, i)\n\u001b[0;32m   3444\u001b[0m     \u001b[39m# this is a cached value, mark it so\u001b[39;00m\n",
      "File \u001b[1;32mc:\\Users\\misaf\\AppData\\Local\\Programs\\Python\\Python38\\lib\\site-packages\\pandas\\core\\internals\\managers.py:1021\u001b[0m, in \u001b[0;36mBlockManager.iget\u001b[1;34m(self, i)\u001b[0m\n\u001b[0;32m   1017\u001b[0m \u001b[39m\"\"\"\u001b[39;00m\n\u001b[0;32m   1018\u001b[0m \u001b[39mReturn the data as a SingleBlockManager.\u001b[39;00m\n\u001b[0;32m   1019\u001b[0m \u001b[39m\"\"\"\u001b[39;00m\n\u001b[0;32m   1020\u001b[0m block \u001b[39m=\u001b[39m \u001b[39mself\u001b[39m\u001b[39m.\u001b[39mblocks[\u001b[39mself\u001b[39m\u001b[39m.\u001b[39mblknos[i]]\n\u001b[1;32m-> 1021\u001b[0m values \u001b[39m=\u001b[39m block\u001b[39m.\u001b[39;49miget(\u001b[39mself\u001b[39;49m\u001b[39m.\u001b[39;49mblklocs[i])\n\u001b[0;32m   1023\u001b[0m \u001b[39m# shortcut for select a single-dim from a 2-dim BM\u001b[39;00m\n\u001b[0;32m   1024\u001b[0m bp \u001b[39m=\u001b[39m BlockPlacement(\u001b[39mslice\u001b[39m(\u001b[39m0\u001b[39m, \u001b[39mlen\u001b[39m(values)))\n",
      "File \u001b[1;32mc:\\Users\\misaf\\AppData\\Local\\Programs\\Python\\Python38\\lib\\site-packages\\pandas\\core\\internals\\blocks.py:365\u001b[0m, in \u001b[0;36mBlock.iget\u001b[1;34m(self, i)\u001b[0m\n\u001b[0;32m    358\u001b[0m \u001b[39mdef\u001b[39;00m \u001b[39miget\u001b[39m(\u001b[39mself\u001b[39m, i: \u001b[39mint\u001b[39m \u001b[39m|\u001b[39m \u001b[39mtuple\u001b[39m[\u001b[39mint\u001b[39m, \u001b[39mint\u001b[39m] \u001b[39m|\u001b[39m \u001b[39mtuple\u001b[39m[\u001b[39mslice\u001b[39m, \u001b[39mint\u001b[39m]):\n\u001b[0;32m    359\u001b[0m     \u001b[39m# In the case where we have a tuple[slice, int], the slice will always\u001b[39;00m\n\u001b[0;32m    360\u001b[0m     \u001b[39m#  be slice(None)\u001b[39;00m\n\u001b[1;32m   (...)\u001b[0m\n\u001b[0;32m    363\u001b[0m     \u001b[39m# for \"Union[ndarray[Any, Any], ExtensionArray]\"; expected type\u001b[39;00m\n\u001b[0;32m    364\u001b[0m     \u001b[39m# \"Union[int, integer[Any]]\"\u001b[39;00m\n\u001b[1;32m--> 365\u001b[0m     \u001b[39mreturn\u001b[39;00m \u001b[39mself\u001b[39;49m\u001b[39m.\u001b[39;49mvalues[i]\n",
      "\u001b[1;31mIndexError\u001b[0m: index 11 is out of bounds for axis 0 with size 11"
     ]
    },
    {
     "ename": "IndexError",
     "evalue": "index 11 is out of bounds for axis 0 with size 11",
     "output_type": "error",
     "traceback": [
      "\u001b[1;31m---------------------------------------------------------------------------\u001b[0m",
      "\u001b[1;31mIndexError\u001b[0m                                Traceback (most recent call last)",
      "File \u001b[1;32mc:\\Users\\misaf\\AppData\\Local\\Programs\\Python\\Python38\\lib\\site-packages\\IPython\\core\\formatters.py:343\u001b[0m, in \u001b[0;36mBaseFormatter.__call__\u001b[1;34m(self, obj)\u001b[0m\n\u001b[0;32m    341\u001b[0m     method \u001b[39m=\u001b[39m get_real_method(obj, \u001b[39mself\u001b[39m\u001b[39m.\u001b[39mprint_method)\n\u001b[0;32m    342\u001b[0m     \u001b[39mif\u001b[39;00m method \u001b[39mis\u001b[39;00m \u001b[39mnot\u001b[39;00m \u001b[39mNone\u001b[39;00m:\n\u001b[1;32m--> 343\u001b[0m         \u001b[39mreturn\u001b[39;00m method()\n\u001b[0;32m    344\u001b[0m     \u001b[39mreturn\u001b[39;00m \u001b[39mNone\u001b[39;00m\n\u001b[0;32m    345\u001b[0m \u001b[39melse\u001b[39;00m:\n",
      "File \u001b[1;32mc:\\Users\\misaf\\AppData\\Local\\Programs\\Python\\Python38\\lib\\site-packages\\pandas\\core\\frame.py:1053\u001b[0m, in \u001b[0;36mDataFrame._repr_html_\u001b[1;34m(self)\u001b[0m\n\u001b[0;32m   1031\u001b[0m     show_dimensions \u001b[39m=\u001b[39m get_option(\u001b[39m\"\u001b[39m\u001b[39mdisplay.show_dimensions\u001b[39m\u001b[39m\"\u001b[39m)\n\u001b[0;32m   1033\u001b[0m     formatter \u001b[39m=\u001b[39m fmt\u001b[39m.\u001b[39mDataFrameFormatter(\n\u001b[0;32m   1034\u001b[0m         \u001b[39mself\u001b[39m,\n\u001b[0;32m   1035\u001b[0m         columns\u001b[39m=\u001b[39m\u001b[39mNone\u001b[39;00m,\n\u001b[1;32m   (...)\u001b[0m\n\u001b[0;32m   1051\u001b[0m         decimal\u001b[39m=\u001b[39m\u001b[39m\"\u001b[39m\u001b[39m.\u001b[39m\u001b[39m\"\u001b[39m,\n\u001b[0;32m   1052\u001b[0m     )\n\u001b[1;32m-> 1053\u001b[0m     \u001b[39mreturn\u001b[39;00m fmt\u001b[39m.\u001b[39;49mDataFrameRenderer(formatter)\u001b[39m.\u001b[39;49mto_html(notebook\u001b[39m=\u001b[39;49m\u001b[39mTrue\u001b[39;49;00m)\n\u001b[0;32m   1054\u001b[0m \u001b[39melse\u001b[39;00m:\n\u001b[0;32m   1055\u001b[0m     \u001b[39mreturn\u001b[39;00m \u001b[39mNone\u001b[39;00m\n",
      "File \u001b[1;32mc:\\Users\\misaf\\AppData\\Local\\Programs\\Python\\Python38\\lib\\site-packages\\pandas\\io\\formats\\format.py:1102\u001b[0m, in \u001b[0;36mDataFrameRenderer.to_html\u001b[1;34m(self, buf, encoding, classes, notebook, border, table_id, render_links)\u001b[0m\n\u001b[0;32m   1093\u001b[0m Klass \u001b[39m=\u001b[39m NotebookFormatter \u001b[39mif\u001b[39;00m notebook \u001b[39melse\u001b[39;00m HTMLFormatter\n\u001b[0;32m   1095\u001b[0m html_formatter \u001b[39m=\u001b[39m Klass(\n\u001b[0;32m   1096\u001b[0m     \u001b[39mself\u001b[39m\u001b[39m.\u001b[39mfmt,\n\u001b[0;32m   1097\u001b[0m     classes\u001b[39m=\u001b[39mclasses,\n\u001b[1;32m   (...)\u001b[0m\n\u001b[0;32m   1100\u001b[0m     render_links\u001b[39m=\u001b[39mrender_links,\n\u001b[0;32m   1101\u001b[0m )\n\u001b[1;32m-> 1102\u001b[0m string \u001b[39m=\u001b[39m html_formatter\u001b[39m.\u001b[39;49mto_string()\n\u001b[0;32m   1103\u001b[0m \u001b[39mreturn\u001b[39;00m save_to_buffer(string, buf\u001b[39m=\u001b[39mbuf, encoding\u001b[39m=\u001b[39mencoding)\n",
      "File \u001b[1;32mc:\\Users\\misaf\\AppData\\Local\\Programs\\Python\\Python38\\lib\\site-packages\\pandas\\io\\formats\\html.py:72\u001b[0m, in \u001b[0;36mHTMLFormatter.to_string\u001b[1;34m(self)\u001b[0m\n\u001b[0;32m     71\u001b[0m \u001b[39mdef\u001b[39;00m \u001b[39mto_string\u001b[39m(\u001b[39mself\u001b[39m) \u001b[39m-\u001b[39m\u001b[39m>\u001b[39m \u001b[39mstr\u001b[39m:\n\u001b[1;32m---> 72\u001b[0m     lines \u001b[39m=\u001b[39m \u001b[39mself\u001b[39;49m\u001b[39m.\u001b[39;49mrender()\n\u001b[0;32m     73\u001b[0m     \u001b[39mif\u001b[39;00m \u001b[39many\u001b[39m(\u001b[39misinstance\u001b[39m(x, \u001b[39mstr\u001b[39m) \u001b[39mfor\u001b[39;00m x \u001b[39min\u001b[39;00m lines):\n\u001b[0;32m     74\u001b[0m         lines \u001b[39m=\u001b[39m [\u001b[39mstr\u001b[39m(x) \u001b[39mfor\u001b[39;00m x \u001b[39min\u001b[39;00m lines]\n",
      "File \u001b[1;32mc:\\Users\\misaf\\AppData\\Local\\Programs\\Python\\Python38\\lib\\site-packages\\pandas\\io\\formats\\html.py:621\u001b[0m, in \u001b[0;36mNotebookFormatter.render\u001b[1;34m(self)\u001b[0m\n\u001b[0;32m    619\u001b[0m \u001b[39mself\u001b[39m\u001b[39m.\u001b[39mwrite(\u001b[39m\"\u001b[39m\u001b[39m<div>\u001b[39m\u001b[39m\"\u001b[39m)\n\u001b[0;32m    620\u001b[0m \u001b[39mself\u001b[39m\u001b[39m.\u001b[39mwrite_style()\n\u001b[1;32m--> 621\u001b[0m \u001b[39msuper\u001b[39;49m()\u001b[39m.\u001b[39;49mrender()\n\u001b[0;32m    622\u001b[0m \u001b[39mself\u001b[39m\u001b[39m.\u001b[39mwrite(\u001b[39m\"\u001b[39m\u001b[39m</div>\u001b[39m\u001b[39m\"\u001b[39m)\n\u001b[0;32m    623\u001b[0m \u001b[39mreturn\u001b[39;00m \u001b[39mself\u001b[39m\u001b[39m.\u001b[39melements\n",
      "File \u001b[1;32mc:\\Users\\misaf\\AppData\\Local\\Programs\\Python\\Python38\\lib\\site-packages\\pandas\\io\\formats\\html.py:78\u001b[0m, in \u001b[0;36mHTMLFormatter.render\u001b[1;34m(self)\u001b[0m\n\u001b[0;32m     77\u001b[0m \u001b[39mdef\u001b[39;00m \u001b[39mrender\u001b[39m(\u001b[39mself\u001b[39m) \u001b[39m-\u001b[39m\u001b[39m>\u001b[39m \u001b[39mlist\u001b[39m[\u001b[39mstr\u001b[39m]:\n\u001b[1;32m---> 78\u001b[0m     \u001b[39mself\u001b[39;49m\u001b[39m.\u001b[39;49m_write_table()\n\u001b[0;32m     80\u001b[0m     \u001b[39mif\u001b[39;00m \u001b[39mself\u001b[39m\u001b[39m.\u001b[39mshould_show_dimensions:\n\u001b[0;32m     81\u001b[0m         by \u001b[39m=\u001b[39m \u001b[39mchr\u001b[39m(\u001b[39m215\u001b[39m)  \u001b[39m# ×\u001b[39;00m\n",
      "File \u001b[1;32mc:\\Users\\misaf\\AppData\\Local\\Programs\\Python\\Python38\\lib\\site-packages\\pandas\\io\\formats\\html.py:248\u001b[0m, in \u001b[0;36mHTMLFormatter._write_table\u001b[1;34m(self, indent)\u001b[0m\n\u001b[0;32m    245\u001b[0m \u001b[39mif\u001b[39;00m \u001b[39mself\u001b[39m\u001b[39m.\u001b[39mfmt\u001b[39m.\u001b[39mheader \u001b[39mor\u001b[39;00m \u001b[39mself\u001b[39m\u001b[39m.\u001b[39mshow_row_idx_names:\n\u001b[0;32m    246\u001b[0m     \u001b[39mself\u001b[39m\u001b[39m.\u001b[39m_write_header(indent \u001b[39m+\u001b[39m \u001b[39mself\u001b[39m\u001b[39m.\u001b[39mindent_delta)\n\u001b[1;32m--> 248\u001b[0m \u001b[39mself\u001b[39;49m\u001b[39m.\u001b[39;49m_write_body(indent \u001b[39m+\u001b[39;49m \u001b[39mself\u001b[39;49m\u001b[39m.\u001b[39;49mindent_delta)\n\u001b[0;32m    250\u001b[0m \u001b[39mself\u001b[39m\u001b[39m.\u001b[39mwrite(\u001b[39m\"\u001b[39m\u001b[39m</table>\u001b[39m\u001b[39m\"\u001b[39m, indent)\n",
      "File \u001b[1;32mc:\\Users\\misaf\\AppData\\Local\\Programs\\Python\\Python38\\lib\\site-packages\\pandas\\io\\formats\\html.py:395\u001b[0m, in \u001b[0;36mHTMLFormatter._write_body\u001b[1;34m(self, indent)\u001b[0m\n\u001b[0;32m    393\u001b[0m \u001b[39mdef\u001b[39;00m \u001b[39m_write_body\u001b[39m(\u001b[39mself\u001b[39m, indent: \u001b[39mint\u001b[39m) \u001b[39m-\u001b[39m\u001b[39m>\u001b[39m \u001b[39mNone\u001b[39;00m:\n\u001b[0;32m    394\u001b[0m     \u001b[39mself\u001b[39m\u001b[39m.\u001b[39mwrite(\u001b[39m\"\u001b[39m\u001b[39m<tbody>\u001b[39m\u001b[39m\"\u001b[39m, indent)\n\u001b[1;32m--> 395\u001b[0m     fmt_values \u001b[39m=\u001b[39m \u001b[39mself\u001b[39;49m\u001b[39m.\u001b[39;49m_get_formatted_values()\n\u001b[0;32m    397\u001b[0m     \u001b[39m# write values\u001b[39;00m\n\u001b[0;32m    398\u001b[0m     \u001b[39mif\u001b[39;00m \u001b[39mself\u001b[39m\u001b[39m.\u001b[39mfmt\u001b[39m.\u001b[39mindex \u001b[39mand\u001b[39;00m \u001b[39misinstance\u001b[39m(\u001b[39mself\u001b[39m\u001b[39m.\u001b[39mframe\u001b[39m.\u001b[39mindex, MultiIndex):\n",
      "File \u001b[1;32mc:\\Users\\misaf\\AppData\\Local\\Programs\\Python\\Python38\\lib\\site-packages\\pandas\\io\\formats\\html.py:585\u001b[0m, in \u001b[0;36mNotebookFormatter._get_formatted_values\u001b[1;34m(self)\u001b[0m\n\u001b[0;32m    584\u001b[0m \u001b[39mdef\u001b[39;00m \u001b[39m_get_formatted_values\u001b[39m(\u001b[39mself\u001b[39m) \u001b[39m-\u001b[39m\u001b[39m>\u001b[39m \u001b[39mdict\u001b[39m[\u001b[39mint\u001b[39m, \u001b[39mlist\u001b[39m[\u001b[39mstr\u001b[39m]]:\n\u001b[1;32m--> 585\u001b[0m     \u001b[39mreturn\u001b[39;00m {i: \u001b[39mself\u001b[39m\u001b[39m.\u001b[39mfmt\u001b[39m.\u001b[39mformat_col(i) \u001b[39mfor\u001b[39;00m i \u001b[39min\u001b[39;00m \u001b[39mrange\u001b[39m(\u001b[39mself\u001b[39m\u001b[39m.\u001b[39mncols)}\n",
      "File \u001b[1;32mc:\\Users\\misaf\\AppData\\Local\\Programs\\Python\\Python38\\lib\\site-packages\\pandas\\io\\formats\\html.py:585\u001b[0m, in \u001b[0;36m<dictcomp>\u001b[1;34m(.0)\u001b[0m\n\u001b[0;32m    584\u001b[0m \u001b[39mdef\u001b[39;00m \u001b[39m_get_formatted_values\u001b[39m(\u001b[39mself\u001b[39m) \u001b[39m-\u001b[39m\u001b[39m>\u001b[39m \u001b[39mdict\u001b[39m[\u001b[39mint\u001b[39m, \u001b[39mlist\u001b[39m[\u001b[39mstr\u001b[39m]]:\n\u001b[1;32m--> 585\u001b[0m     \u001b[39mreturn\u001b[39;00m {i: \u001b[39mself\u001b[39;49m\u001b[39m.\u001b[39;49mfmt\u001b[39m.\u001b[39;49mformat_col(i) \u001b[39mfor\u001b[39;00m i \u001b[39min\u001b[39;00m \u001b[39mrange\u001b[39m(\u001b[39mself\u001b[39m\u001b[39m.\u001b[39mncols)}\n",
      "File \u001b[1;32mc:\\Users\\misaf\\AppData\\Local\\Programs\\Python\\Python38\\lib\\site-packages\\pandas\\io\\formats\\format.py:890\u001b[0m, in \u001b[0;36mDataFrameFormatter.format_col\u001b[1;34m(self, i)\u001b[0m\n\u001b[0;32m    887\u001b[0m frame \u001b[39m=\u001b[39m \u001b[39mself\u001b[39m\u001b[39m.\u001b[39mtr_frame\n\u001b[0;32m    888\u001b[0m formatter \u001b[39m=\u001b[39m \u001b[39mself\u001b[39m\u001b[39m.\u001b[39m_get_formatter(i)\n\u001b[0;32m    889\u001b[0m \u001b[39mreturn\u001b[39;00m format_array(\n\u001b[1;32m--> 890\u001b[0m     frame\u001b[39m.\u001b[39;49miloc[:, i]\u001b[39m.\u001b[39m_values,\n\u001b[0;32m    891\u001b[0m     formatter,\n\u001b[0;32m    892\u001b[0m     float_format\u001b[39m=\u001b[39m\u001b[39mself\u001b[39m\u001b[39m.\u001b[39mfloat_format,\n\u001b[0;32m    893\u001b[0m     na_rep\u001b[39m=\u001b[39m\u001b[39mself\u001b[39m\u001b[39m.\u001b[39mna_rep,\n\u001b[0;32m    894\u001b[0m     space\u001b[39m=\u001b[39m\u001b[39mself\u001b[39m\u001b[39m.\u001b[39mcol_space\u001b[39m.\u001b[39mget(frame\u001b[39m.\u001b[39mcolumns[i]),\n\u001b[0;32m    895\u001b[0m     decimal\u001b[39m=\u001b[39m\u001b[39mself\u001b[39m\u001b[39m.\u001b[39mdecimal,\n\u001b[0;32m    896\u001b[0m     leading_space\u001b[39m=\u001b[39m\u001b[39mself\u001b[39m\u001b[39m.\u001b[39mindex,\n\u001b[0;32m    897\u001b[0m )\n",
      "File \u001b[1;32mc:\\Users\\misaf\\AppData\\Local\\Programs\\Python\\Python38\\lib\\site-packages\\pandas\\core\\indexing.py:961\u001b[0m, in \u001b[0;36m_LocationIndexer.__getitem__\u001b[1;34m(self, key)\u001b[0m\n\u001b[0;32m    959\u001b[0m     \u001b[39mif\u001b[39;00m \u001b[39mself\u001b[39m\u001b[39m.\u001b[39m_is_scalar_access(key):\n\u001b[0;32m    960\u001b[0m         \u001b[39mreturn\u001b[39;00m \u001b[39mself\u001b[39m\u001b[39m.\u001b[39mobj\u001b[39m.\u001b[39m_get_value(\u001b[39m*\u001b[39mkey, takeable\u001b[39m=\u001b[39m\u001b[39mself\u001b[39m\u001b[39m.\u001b[39m_takeable)\n\u001b[1;32m--> 961\u001b[0m     \u001b[39mreturn\u001b[39;00m \u001b[39mself\u001b[39;49m\u001b[39m.\u001b[39;49m_getitem_tuple(key)\n\u001b[0;32m    962\u001b[0m \u001b[39melse\u001b[39;00m:\n\u001b[0;32m    963\u001b[0m     \u001b[39m# we by definition only have the 0th axis\u001b[39;00m\n\u001b[0;32m    964\u001b[0m     axis \u001b[39m=\u001b[39m \u001b[39mself\u001b[39m\u001b[39m.\u001b[39maxis \u001b[39mor\u001b[39;00m \u001b[39m0\u001b[39m\n",
      "File \u001b[1;32mc:\\Users\\misaf\\AppData\\Local\\Programs\\Python\\Python38\\lib\\site-packages\\pandas\\core\\indexing.py:1460\u001b[0m, in \u001b[0;36m_iLocIndexer._getitem_tuple\u001b[1;34m(self, tup)\u001b[0m\n\u001b[0;32m   1458\u001b[0m tup \u001b[39m=\u001b[39m \u001b[39mself\u001b[39m\u001b[39m.\u001b[39m_validate_tuple_indexer(tup)\n\u001b[0;32m   1459\u001b[0m \u001b[39mwith\u001b[39;00m suppress(IndexingError):\n\u001b[1;32m-> 1460\u001b[0m     \u001b[39mreturn\u001b[39;00m \u001b[39mself\u001b[39;49m\u001b[39m.\u001b[39;49m_getitem_lowerdim(tup)\n\u001b[0;32m   1462\u001b[0m \u001b[39mreturn\u001b[39;00m \u001b[39mself\u001b[39m\u001b[39m.\u001b[39m_getitem_tuple_same_dim(tup)\n",
      "File \u001b[1;32mc:\\Users\\misaf\\AppData\\Local\\Programs\\Python\\Python38\\lib\\site-packages\\pandas\\core\\indexing.py:867\u001b[0m, in \u001b[0;36m_LocationIndexer._getitem_lowerdim\u001b[1;34m(self, tup)\u001b[0m\n\u001b[0;32m    863\u001b[0m \u001b[39mfor\u001b[39;00m i, key \u001b[39min\u001b[39;00m \u001b[39menumerate\u001b[39m(tup):\n\u001b[0;32m    864\u001b[0m     \u001b[39mif\u001b[39;00m is_label_like(key):\n\u001b[0;32m    865\u001b[0m         \u001b[39m# We don't need to check for tuples here because those are\u001b[39;00m\n\u001b[0;32m    866\u001b[0m         \u001b[39m#  caught by the _is_nested_tuple_indexer check above.\u001b[39;00m\n\u001b[1;32m--> 867\u001b[0m         section \u001b[39m=\u001b[39m \u001b[39mself\u001b[39;49m\u001b[39m.\u001b[39;49m_getitem_axis(key, axis\u001b[39m=\u001b[39;49mi)\n\u001b[0;32m    869\u001b[0m         \u001b[39m# We should never have a scalar section here, because\u001b[39;00m\n\u001b[0;32m    870\u001b[0m         \u001b[39m#  _getitem_lowerdim is only called after a check for\u001b[39;00m\n\u001b[0;32m    871\u001b[0m         \u001b[39m#  is_scalar_access, which that would be.\u001b[39;00m\n\u001b[0;32m    872\u001b[0m         \u001b[39mif\u001b[39;00m section\u001b[39m.\u001b[39mndim \u001b[39m==\u001b[39m \u001b[39mself\u001b[39m\u001b[39m.\u001b[39mndim:\n\u001b[0;32m    873\u001b[0m             \u001b[39m# we're in the middle of slicing through a MultiIndex\u001b[39;00m\n\u001b[0;32m    874\u001b[0m             \u001b[39m# revise the key wrt to `section` by inserting an _NS\u001b[39;00m\n",
      "File \u001b[1;32mc:\\Users\\misaf\\AppData\\Local\\Programs\\Python\\Python38\\lib\\site-packages\\pandas\\core\\indexing.py:1522\u001b[0m, in \u001b[0;36m_iLocIndexer._getitem_axis\u001b[1;34m(self, key, axis)\u001b[0m\n\u001b[0;32m   1519\u001b[0m \u001b[39m# validate the location\u001b[39;00m\n\u001b[0;32m   1520\u001b[0m \u001b[39mself\u001b[39m\u001b[39m.\u001b[39m_validate_integer(key, axis)\n\u001b[1;32m-> 1522\u001b[0m \u001b[39mreturn\u001b[39;00m \u001b[39mself\u001b[39;49m\u001b[39m.\u001b[39;49mobj\u001b[39m.\u001b[39;49m_ixs(key, axis\u001b[39m=\u001b[39;49maxis)\n",
      "File \u001b[1;32mc:\\Users\\misaf\\AppData\\Local\\Programs\\Python\\Python38\\lib\\site-packages\\pandas\\core\\frame.py:3441\u001b[0m, in \u001b[0;36mDataFrame._ixs\u001b[1;34m(self, i, axis)\u001b[0m\n\u001b[0;32m   3437\u001b[0m \u001b[39m# icol\u001b[39;00m\n\u001b[0;32m   3438\u001b[0m \u001b[39melse\u001b[39;00m:\n\u001b[0;32m   3439\u001b[0m     label \u001b[39m=\u001b[39m \u001b[39mself\u001b[39m\u001b[39m.\u001b[39mcolumns[i]\n\u001b[1;32m-> 3441\u001b[0m     col_mgr \u001b[39m=\u001b[39m \u001b[39mself\u001b[39;49m\u001b[39m.\u001b[39;49m_mgr\u001b[39m.\u001b[39;49miget(i)\n\u001b[0;32m   3442\u001b[0m     result \u001b[39m=\u001b[39m \u001b[39mself\u001b[39m\u001b[39m.\u001b[39m_box_col_values(col_mgr, i)\n\u001b[0;32m   3444\u001b[0m     \u001b[39m# this is a cached value, mark it so\u001b[39;00m\n",
      "File \u001b[1;32mc:\\Users\\misaf\\AppData\\Local\\Programs\\Python\\Python38\\lib\\site-packages\\pandas\\core\\internals\\managers.py:1021\u001b[0m, in \u001b[0;36mBlockManager.iget\u001b[1;34m(self, i)\u001b[0m\n\u001b[0;32m   1017\u001b[0m \u001b[39m\"\"\"\u001b[39;00m\n\u001b[0;32m   1018\u001b[0m \u001b[39mReturn the data as a SingleBlockManager.\u001b[39;00m\n\u001b[0;32m   1019\u001b[0m \u001b[39m\"\"\"\u001b[39;00m\n\u001b[0;32m   1020\u001b[0m block \u001b[39m=\u001b[39m \u001b[39mself\u001b[39m\u001b[39m.\u001b[39mblocks[\u001b[39mself\u001b[39m\u001b[39m.\u001b[39mblknos[i]]\n\u001b[1;32m-> 1021\u001b[0m values \u001b[39m=\u001b[39m block\u001b[39m.\u001b[39;49miget(\u001b[39mself\u001b[39;49m\u001b[39m.\u001b[39;49mblklocs[i])\n\u001b[0;32m   1023\u001b[0m \u001b[39m# shortcut for select a single-dim from a 2-dim BM\u001b[39;00m\n\u001b[0;32m   1024\u001b[0m bp \u001b[39m=\u001b[39m BlockPlacement(\u001b[39mslice\u001b[39m(\u001b[39m0\u001b[39m, \u001b[39mlen\u001b[39m(values)))\n",
      "File \u001b[1;32mc:\\Users\\misaf\\AppData\\Local\\Programs\\Python\\Python38\\lib\\site-packages\\pandas\\core\\internals\\blocks.py:365\u001b[0m, in \u001b[0;36mBlock.iget\u001b[1;34m(self, i)\u001b[0m\n\u001b[0;32m    358\u001b[0m \u001b[39mdef\u001b[39;00m \u001b[39miget\u001b[39m(\u001b[39mself\u001b[39m, i: \u001b[39mint\u001b[39m \u001b[39m|\u001b[39m \u001b[39mtuple\u001b[39m[\u001b[39mint\u001b[39m, \u001b[39mint\u001b[39m] \u001b[39m|\u001b[39m \u001b[39mtuple\u001b[39m[\u001b[39mslice\u001b[39m, \u001b[39mint\u001b[39m]):\n\u001b[0;32m    359\u001b[0m     \u001b[39m# In the case where we have a tuple[slice, int], the slice will always\u001b[39;00m\n\u001b[0;32m    360\u001b[0m     \u001b[39m#  be slice(None)\u001b[39;00m\n\u001b[1;32m   (...)\u001b[0m\n\u001b[0;32m    363\u001b[0m     \u001b[39m# for \"Union[ndarray[Any, Any], ExtensionArray]\"; expected type\u001b[39;00m\n\u001b[0;32m    364\u001b[0m     \u001b[39m# \"Union[int, integer[Any]]\"\u001b[39;00m\n\u001b[1;32m--> 365\u001b[0m     \u001b[39mreturn\u001b[39;00m \u001b[39mself\u001b[39;49m\u001b[39m.\u001b[39;49mvalues[i]\n",
      "\u001b[1;31mIndexError\u001b[0m: index 11 is out of bounds for axis 0 with size 11"
     ]
    }
   ],
   "source": [
    "train_df.head()"
   ]
  },
  {
   "cell_type": "code",
   "execution_count": 88,
   "metadata": {},
   "outputs": [
    {
     "ename": "IndexError",
     "evalue": "index 11 is out of bounds for axis 0 with size 11",
     "output_type": "error",
     "traceback": [
      "\u001b[1;31m---------------------------------------------------------------------------\u001b[0m",
      "\u001b[1;31mIndexError\u001b[0m                                Traceback (most recent call last)",
      "\u001b[1;32mc:\\Users\\misaf\\Documents\\DSC 180A\\CodeSemanticSearch\\elastic_search_engine.ipynb Cell 37\u001b[0m line \u001b[0;36m<cell line: 1>\u001b[1;34m()\u001b[0m\n\u001b[1;32m----> <a href='vscode-notebook-cell:/c%3A/Users/misaf/Documents/DSC%20180A/CodeSemanticSearch/elastic_search_engine.ipynb#Y122sZmlsZQ%3D%3D?line=0'>1</a>\u001b[0m train_df[\u001b[39m'\u001b[39m\u001b[39mcode_token\u001b[39m\u001b[39m'\u001b[39m] \u001b[39m=\u001b[39m code_tokens\u001b[39m.\u001b[39mvalues()\n",
      "File \u001b[1;32mc:\\Users\\misaf\\AppData\\Local\\Programs\\Python\\Python38\\lib\\site-packages\\pandas\\core\\frame.py:3655\u001b[0m, in \u001b[0;36mDataFrame.__setitem__\u001b[1;34m(self, key, value)\u001b[0m\n\u001b[0;32m   3652\u001b[0m     \u001b[39mself\u001b[39m\u001b[39m.\u001b[39m_setitem_array([key], value)\n\u001b[0;32m   3653\u001b[0m \u001b[39melse\u001b[39;00m:\n\u001b[0;32m   3654\u001b[0m     \u001b[39m# set column\u001b[39;00m\n\u001b[1;32m-> 3655\u001b[0m     \u001b[39mself\u001b[39;49m\u001b[39m.\u001b[39;49m_set_item(key, value)\n",
      "File \u001b[1;32mc:\\Users\\misaf\\AppData\\Local\\Programs\\Python\\Python38\\lib\\site-packages\\pandas\\core\\frame.py:3845\u001b[0m, in \u001b[0;36mDataFrame._set_item\u001b[1;34m(self, key, value)\u001b[0m\n\u001b[0;32m   3842\u001b[0m         \u001b[39mif\u001b[39;00m \u001b[39misinstance\u001b[39m(existing_piece, DataFrame):\n\u001b[0;32m   3843\u001b[0m             value \u001b[39m=\u001b[39m np\u001b[39m.\u001b[39mtile(value, (\u001b[39mlen\u001b[39m(existing_piece\u001b[39m.\u001b[39mcolumns), \u001b[39m1\u001b[39m))\u001b[39m.\u001b[39mT\n\u001b[1;32m-> 3845\u001b[0m \u001b[39mself\u001b[39;49m\u001b[39m.\u001b[39;49m_set_item_mgr(key, value)\n",
      "File \u001b[1;32mc:\\Users\\misaf\\AppData\\Local\\Programs\\Python\\Python38\\lib\\site-packages\\pandas\\core\\frame.py:3804\u001b[0m, in \u001b[0;36mDataFrame._set_item_mgr\u001b[1;34m(self, key, value)\u001b[0m\n\u001b[0;32m   3802\u001b[0m     \u001b[39mself\u001b[39m\u001b[39m.\u001b[39m_mgr\u001b[39m.\u001b[39minsert(\u001b[39mlen\u001b[39m(\u001b[39mself\u001b[39m\u001b[39m.\u001b[39m_info_axis), key, value)\n\u001b[0;32m   3803\u001b[0m \u001b[39melse\u001b[39;00m:\n\u001b[1;32m-> 3804\u001b[0m     \u001b[39mself\u001b[39;49m\u001b[39m.\u001b[39;49m_iset_item_mgr(loc, value)\n\u001b[0;32m   3806\u001b[0m \u001b[39m# check if we are modifying a copy\u001b[39;00m\n\u001b[0;32m   3807\u001b[0m \u001b[39m# try to set first as we want an invalid\u001b[39;00m\n\u001b[0;32m   3808\u001b[0m \u001b[39m# value exception to occur first\u001b[39;00m\n\u001b[0;32m   3809\u001b[0m \u001b[39mif\u001b[39;00m \u001b[39mlen\u001b[39m(\u001b[39mself\u001b[39m):\n",
      "File \u001b[1;32mc:\\Users\\misaf\\AppData\\Local\\Programs\\Python\\Python38\\lib\\site-packages\\pandas\\core\\frame.py:3794\u001b[0m, in \u001b[0;36mDataFrame._iset_item_mgr\u001b[1;34m(self, loc, value, inplace)\u001b[0m\n\u001b[0;32m   3790\u001b[0m \u001b[39mdef\u001b[39;00m \u001b[39m_iset_item_mgr\u001b[39m(\n\u001b[0;32m   3791\u001b[0m     \u001b[39mself\u001b[39m, loc: \u001b[39mint\u001b[39m \u001b[39m|\u001b[39m \u001b[39mslice\u001b[39m \u001b[39m|\u001b[39m np\u001b[39m.\u001b[39mndarray, value, inplace: \u001b[39mbool\u001b[39m \u001b[39m=\u001b[39m \u001b[39mFalse\u001b[39;00m\n\u001b[0;32m   3792\u001b[0m ) \u001b[39m-\u001b[39m\u001b[39m>\u001b[39m \u001b[39mNone\u001b[39;00m:\n\u001b[0;32m   3793\u001b[0m     \u001b[39m# when called from _set_item_mgr loc can be anything returned from get_loc\u001b[39;00m\n\u001b[1;32m-> 3794\u001b[0m     \u001b[39mself\u001b[39;49m\u001b[39m.\u001b[39;49m_mgr\u001b[39m.\u001b[39;49miset(loc, value, inplace\u001b[39m=\u001b[39;49minplace)\n\u001b[0;32m   3795\u001b[0m     \u001b[39mself\u001b[39m\u001b[39m.\u001b[39m_clear_item_cache()\n",
      "File \u001b[1;32mc:\\Users\\misaf\\AppData\\Local\\Programs\\Python\\Python38\\lib\\site-packages\\pandas\\core\\internals\\managers.py:1141\u001b[0m, in \u001b[0;36mBlockManager.iset\u001b[1;34m(self, loc, value, inplace)\u001b[0m\n\u001b[0;32m   1139\u001b[0m             removed_blknos\u001b[39m.\u001b[39mappend(blkno_l)\n\u001b[0;32m   1140\u001b[0m         \u001b[39melse\u001b[39;00m:\n\u001b[1;32m-> 1141\u001b[0m             blk\u001b[39m.\u001b[39;49mdelete(blk_locs)\n\u001b[0;32m   1142\u001b[0m             \u001b[39mself\u001b[39m\u001b[39m.\u001b[39m_blklocs[blk\u001b[39m.\u001b[39mmgr_locs\u001b[39m.\u001b[39mindexer] \u001b[39m=\u001b[39m np\u001b[39m.\u001b[39marange(\u001b[39mlen\u001b[39m(blk))\n\u001b[0;32m   1144\u001b[0m \u001b[39mif\u001b[39;00m \u001b[39mlen\u001b[39m(removed_blknos):\n\u001b[0;32m   1145\u001b[0m     \u001b[39m# Remove blocks & update blknos accordingly\u001b[39;00m\n",
      "File \u001b[1;32mc:\\Users\\misaf\\AppData\\Local\\Programs\\Python\\Python38\\lib\\site-packages\\pandas\\core\\internals\\blocks.py:388\u001b[0m, in \u001b[0;36mBlock.delete\u001b[1;34m(self, loc)\u001b[0m\n\u001b[0;32m    379\u001b[0m \u001b[39m\"\"\"\u001b[39;00m\n\u001b[0;32m    380\u001b[0m \u001b[39mDelete given loc(-s) from block in-place.\u001b[39;00m\n\u001b[0;32m    381\u001b[0m \u001b[39m\"\"\"\u001b[39;00m\n\u001b[0;32m    382\u001b[0m \u001b[39m# Argument 1 to \"delete\" has incompatible type \"Union[ndarray[Any, Any],\u001b[39;00m\n\u001b[0;32m    383\u001b[0m \u001b[39m# ExtensionArray]\"; expected \"Union[_SupportsArray[dtype[Any]],\u001b[39;00m\n\u001b[0;32m    384\u001b[0m \u001b[39m# Sequence[_SupportsArray[dtype[Any]]], Sequence[Sequence\u001b[39;00m\n\u001b[0;32m    385\u001b[0m \u001b[39m# [_SupportsArray[dtype[Any]]]], Sequence[Sequence[Sequence[\u001b[39;00m\n\u001b[0;32m    386\u001b[0m \u001b[39m# _SupportsArray[dtype[Any]]]]], Sequence[Sequence[Sequence[Sequence[\u001b[39;00m\n\u001b[0;32m    387\u001b[0m \u001b[39m# _SupportsArray[dtype[Any]]]]]]]\"  [arg-type]\u001b[39;00m\n\u001b[1;32m--> 388\u001b[0m \u001b[39mself\u001b[39m\u001b[39m.\u001b[39mvalues \u001b[39m=\u001b[39m np\u001b[39m.\u001b[39;49mdelete(\u001b[39mself\u001b[39;49m\u001b[39m.\u001b[39;49mvalues, loc, \u001b[39m0\u001b[39;49m)  \u001b[39m# type: ignore[arg-type]\u001b[39;00m\n\u001b[0;32m    389\u001b[0m \u001b[39mself\u001b[39m\u001b[39m.\u001b[39mmgr_locs \u001b[39m=\u001b[39m \u001b[39mself\u001b[39m\u001b[39m.\u001b[39m_mgr_locs\u001b[39m.\u001b[39mdelete(loc)\n\u001b[0;32m    390\u001b[0m \u001b[39mtry\u001b[39;00m:\n",
      "File \u001b[1;32m<__array_function__ internals>:5\u001b[0m, in \u001b[0;36mdelete\u001b[1;34m(*args, **kwargs)\u001b[0m\n",
      "File \u001b[1;32mc:\\Users\\misaf\\AppData\\Local\\Programs\\Python\\Python38\\lib\\site-packages\\numpy\\lib\\function_base.py:4552\u001b[0m, in \u001b[0;36mdelete\u001b[1;34m(arr, obj, axis)\u001b[0m\n\u001b[0;32m   4550\u001b[0m \u001b[39melse\u001b[39;00m:\n\u001b[0;32m   4551\u001b[0m     keep \u001b[39m=\u001b[39m ones(N, dtype\u001b[39m=\u001b[39m\u001b[39mbool\u001b[39m)\n\u001b[1;32m-> 4552\u001b[0m     keep[obj,] \u001b[39m=\u001b[39m \u001b[39mFalse\u001b[39;00m\n\u001b[0;32m   4554\u001b[0m slobj[axis] \u001b[39m=\u001b[39m keep\n\u001b[0;32m   4555\u001b[0m new \u001b[39m=\u001b[39m arr[\u001b[39mtuple\u001b[39m(slobj)]\n",
      "\u001b[1;31mIndexError\u001b[0m: index 11 is out of bounds for axis 0 with size 11"
     ]
    }
   ],
   "source": [
    "train_df['code_token'] = code_tokens.values()"
   ]
  },
  {
   "cell_type": "code",
   "execution_count": 87,
   "metadata": {},
   "outputs": [
    {
     "ename": "KeyboardInterrupt",
     "evalue": "",
     "output_type": "error",
     "traceback": [
      "\u001b[1;31m---------------------------------------------------------------------------\u001b[0m",
      "\u001b[1;31mKeyboardInterrupt\u001b[0m                         Traceback (most recent call last)",
      "\u001b[1;32mc:\\Users\\misaf\\Documents\\DSC 180A\\CodeSemanticSearch\\elastic_search_engine.ipynb Cell 35\u001b[0m line \u001b[0;36m<cell line: 1>\u001b[1;34m()\u001b[0m\n\u001b[1;32m----> <a href='vscode-notebook-cell:/c%3A/Users/misaf/Documents/DSC%20180A/CodeSemanticSearch/elastic_search_engine.ipynb#X62sZmlsZQ%3D%3D?line=0'>1</a>\u001b[0m train_df[\u001b[39m'\u001b[39m\u001b[39mcode_token\u001b[39m\u001b[39m'\u001b[39m] \u001b[39m=\u001b[39m code_tokens\u001b[39m.\u001b[39mvalues()\n\u001b[0;32m      <a href='vscode-notebook-cell:/c%3A/Users/misaf/Documents/DSC%20180A/CodeSemanticSearch/elastic_search_engine.ipynb#X62sZmlsZQ%3D%3D?line=1'>2</a>\u001b[0m train_df[\u001b[39m'\u001b[39m\u001b[39mdocu_token\u001b[39m\u001b[39m'\u001b[39m] \u001b[39m=\u001b[39m docu_tokens\u001b[39m.\u001b[39mvalues()\n",
      "File \u001b[1;32mc:\\Users\\misaf\\AppData\\Local\\Programs\\Python\\Python38\\lib\\site-packages\\pandas\\core\\frame.py:3655\u001b[0m, in \u001b[0;36mDataFrame.__setitem__\u001b[1;34m(self, key, value)\u001b[0m\n\u001b[0;32m   3652\u001b[0m     \u001b[39mself\u001b[39m\u001b[39m.\u001b[39m_setitem_array([key], value)\n\u001b[0;32m   3653\u001b[0m \u001b[39melse\u001b[39;00m:\n\u001b[0;32m   3654\u001b[0m     \u001b[39m# set column\u001b[39;00m\n\u001b[1;32m-> 3655\u001b[0m     \u001b[39mself\u001b[39;49m\u001b[39m.\u001b[39;49m_set_item(key, value)\n",
      "File \u001b[1;32mc:\\Users\\misaf\\AppData\\Local\\Programs\\Python\\Python38\\lib\\site-packages\\pandas\\core\\frame.py:3845\u001b[0m, in \u001b[0;36mDataFrame._set_item\u001b[1;34m(self, key, value)\u001b[0m\n\u001b[0;32m   3842\u001b[0m         \u001b[39mif\u001b[39;00m \u001b[39misinstance\u001b[39m(existing_piece, DataFrame):\n\u001b[0;32m   3843\u001b[0m             value \u001b[39m=\u001b[39m np\u001b[39m.\u001b[39mtile(value, (\u001b[39mlen\u001b[39m(existing_piece\u001b[39m.\u001b[39mcolumns), \u001b[39m1\u001b[39m))\u001b[39m.\u001b[39mT\n\u001b[1;32m-> 3845\u001b[0m \u001b[39mself\u001b[39;49m\u001b[39m.\u001b[39;49m_set_item_mgr(key, value)\n",
      "File \u001b[1;32mc:\\Users\\misaf\\AppData\\Local\\Programs\\Python\\Python38\\lib\\site-packages\\pandas\\core\\frame.py:3804\u001b[0m, in \u001b[0;36mDataFrame._set_item_mgr\u001b[1;34m(self, key, value)\u001b[0m\n\u001b[0;32m   3802\u001b[0m     \u001b[39mself\u001b[39m\u001b[39m.\u001b[39m_mgr\u001b[39m.\u001b[39minsert(\u001b[39mlen\u001b[39m(\u001b[39mself\u001b[39m\u001b[39m.\u001b[39m_info_axis), key, value)\n\u001b[0;32m   3803\u001b[0m \u001b[39melse\u001b[39;00m:\n\u001b[1;32m-> 3804\u001b[0m     \u001b[39mself\u001b[39;49m\u001b[39m.\u001b[39;49m_iset_item_mgr(loc, value)\n\u001b[0;32m   3806\u001b[0m \u001b[39m# check if we are modifying a copy\u001b[39;00m\n\u001b[0;32m   3807\u001b[0m \u001b[39m# try to set first as we want an invalid\u001b[39;00m\n\u001b[0;32m   3808\u001b[0m \u001b[39m# value exception to occur first\u001b[39;00m\n\u001b[0;32m   3809\u001b[0m \u001b[39mif\u001b[39;00m \u001b[39mlen\u001b[39m(\u001b[39mself\u001b[39m):\n",
      "File \u001b[1;32mc:\\Users\\misaf\\AppData\\Local\\Programs\\Python\\Python38\\lib\\site-packages\\pandas\\core\\frame.py:3794\u001b[0m, in \u001b[0;36mDataFrame._iset_item_mgr\u001b[1;34m(self, loc, value, inplace)\u001b[0m\n\u001b[0;32m   3790\u001b[0m \u001b[39mdef\u001b[39;00m \u001b[39m_iset_item_mgr\u001b[39m(\n\u001b[0;32m   3791\u001b[0m     \u001b[39mself\u001b[39m, loc: \u001b[39mint\u001b[39m \u001b[39m|\u001b[39m \u001b[39mslice\u001b[39m \u001b[39m|\u001b[39m np\u001b[39m.\u001b[39mndarray, value, inplace: \u001b[39mbool\u001b[39m \u001b[39m=\u001b[39m \u001b[39mFalse\u001b[39;00m\n\u001b[0;32m   3792\u001b[0m ) \u001b[39m-\u001b[39m\u001b[39m>\u001b[39m \u001b[39mNone\u001b[39;00m:\n\u001b[0;32m   3793\u001b[0m     \u001b[39m# when called from _set_item_mgr loc can be anything returned from get_loc\u001b[39;00m\n\u001b[1;32m-> 3794\u001b[0m     \u001b[39mself\u001b[39;49m\u001b[39m.\u001b[39;49m_mgr\u001b[39m.\u001b[39;49miset(loc, value, inplace\u001b[39m=\u001b[39;49minplace)\n\u001b[0;32m   3795\u001b[0m     \u001b[39mself\u001b[39m\u001b[39m.\u001b[39m_clear_item_cache()\n",
      "File \u001b[1;32mc:\\Users\\misaf\\AppData\\Local\\Programs\\Python\\Python38\\lib\\site-packages\\pandas\\core\\internals\\managers.py:1141\u001b[0m, in \u001b[0;36mBlockManager.iset\u001b[1;34m(self, loc, value, inplace)\u001b[0m\n\u001b[0;32m   1139\u001b[0m             removed_blknos\u001b[39m.\u001b[39mappend(blkno_l)\n\u001b[0;32m   1140\u001b[0m         \u001b[39melse\u001b[39;00m:\n\u001b[1;32m-> 1141\u001b[0m             blk\u001b[39m.\u001b[39;49mdelete(blk_locs)\n\u001b[0;32m   1142\u001b[0m             \u001b[39mself\u001b[39m\u001b[39m.\u001b[39m_blklocs[blk\u001b[39m.\u001b[39mmgr_locs\u001b[39m.\u001b[39mindexer] \u001b[39m=\u001b[39m np\u001b[39m.\u001b[39marange(\u001b[39mlen\u001b[39m(blk))\n\u001b[0;32m   1144\u001b[0m \u001b[39mif\u001b[39;00m \u001b[39mlen\u001b[39m(removed_blknos):\n\u001b[0;32m   1145\u001b[0m     \u001b[39m# Remove blocks & update blknos accordingly\u001b[39;00m\n",
      "File \u001b[1;32mc:\\Users\\misaf\\AppData\\Local\\Programs\\Python\\Python38\\lib\\site-packages\\pandas\\core\\internals\\blocks.py:389\u001b[0m, in \u001b[0;36mBlock.delete\u001b[1;34m(self, loc)\u001b[0m\n\u001b[0;32m    382\u001b[0m \u001b[39m# Argument 1 to \"delete\" has incompatible type \"Union[ndarray[Any, Any],\u001b[39;00m\n\u001b[0;32m    383\u001b[0m \u001b[39m# ExtensionArray]\"; expected \"Union[_SupportsArray[dtype[Any]],\u001b[39;00m\n\u001b[0;32m    384\u001b[0m \u001b[39m# Sequence[_SupportsArray[dtype[Any]]], Sequence[Sequence\u001b[39;00m\n\u001b[0;32m    385\u001b[0m \u001b[39m# [_SupportsArray[dtype[Any]]]], Sequence[Sequence[Sequence[\u001b[39;00m\n\u001b[0;32m    386\u001b[0m \u001b[39m# _SupportsArray[dtype[Any]]]]], Sequence[Sequence[Sequence[Sequence[\u001b[39;00m\n\u001b[0;32m    387\u001b[0m \u001b[39m# _SupportsArray[dtype[Any]]]]]]]\"  [arg-type]\u001b[39;00m\n\u001b[0;32m    388\u001b[0m \u001b[39mself\u001b[39m\u001b[39m.\u001b[39mvalues \u001b[39m=\u001b[39m np\u001b[39m.\u001b[39mdelete(\u001b[39mself\u001b[39m\u001b[39m.\u001b[39mvalues, loc, \u001b[39m0\u001b[39m)  \u001b[39m# type: ignore[arg-type]\u001b[39;00m\n\u001b[1;32m--> 389\u001b[0m \u001b[39mself\u001b[39m\u001b[39m.\u001b[39mmgr_locs \u001b[39m=\u001b[39m \u001b[39mself\u001b[39;49m\u001b[39m.\u001b[39;49m_mgr_locs\u001b[39m.\u001b[39mdelete(loc)\n\u001b[0;32m    390\u001b[0m \u001b[39mtry\u001b[39;00m:\n\u001b[0;32m    391\u001b[0m     \u001b[39mself\u001b[39m\u001b[39m.\u001b[39m_cache\u001b[39m.\u001b[39mclear()\n",
      "\u001b[1;31mKeyboardInterrupt\u001b[0m: "
     ]
    }
   ],
   "source": [
    "train_df['docu_token'] = docu_tokens.values()"
   ]
  },
  {
   "cell_type": "code",
   "execution_count": 75,
   "metadata": {},
   "outputs": [
    {
     "data": {
      "text/html": [
       "<div>\n",
       "<style scoped>\n",
       "    .dataframe tbody tr th:only-of-type {\n",
       "        vertical-align: middle;\n",
       "    }\n",
       "\n",
       "    .dataframe tbody tr th {\n",
       "        vertical-align: top;\n",
       "    }\n",
       "\n",
       "    .dataframe thead th {\n",
       "        text-align: right;\n",
       "    }\n",
       "</style>\n",
       "<table border=\"1\" class=\"dataframe\">\n",
       "  <thead>\n",
       "    <tr style=\"text-align: right;\">\n",
       "      <th></th>\n",
       "      <th>func_code_url</th>\n",
       "      <th>code_token</th>\n",
       "    </tr>\n",
       "  </thead>\n",
       "  <tbody>\n",
       "    <tr>\n",
       "      <th>0</th>\n",
       "      <td>https://github.com/ageitgey/face_recognition/b...</td>\n",
       "      <td>[tensor(0.0289), tensor(0.0024), tensor(0.0457...</td>\n",
       "    </tr>\n",
       "    <tr>\n",
       "      <th>1</th>\n",
       "      <td>https://github.com/ageitgey/face_recognition/b...</td>\n",
       "      <td>[tensor(0.0075), tensor(0.0143), tensor(-0.003...</td>\n",
       "    </tr>\n",
       "    <tr>\n",
       "      <th>2</th>\n",
       "      <td>https://github.com/ageitgey/face_recognition/b...</td>\n",
       "      <td>[tensor(-0.0106), tensor(0.0305), tensor(0.001...</td>\n",
       "    </tr>\n",
       "    <tr>\n",
       "      <th>3</th>\n",
       "      <td>https://github.com/ageitgey/face_recognition/b...</td>\n",
       "      <td>[tensor(0.0011), tensor(0.0091), tensor(0.0238...</td>\n",
       "    </tr>\n",
       "    <tr>\n",
       "      <th>4</th>\n",
       "      <td>https://github.com/ageitgey/face_recognition/b...</td>\n",
       "      <td>[tensor(0.0342), tensor(0.0096), tensor(0.0531...</td>\n",
       "    </tr>\n",
       "  </tbody>\n",
       "</table>\n",
       "</div>"
      ],
      "text/plain": [
       "                                       func_code_url  \\\n",
       "0  https://github.com/ageitgey/face_recognition/b...   \n",
       "1  https://github.com/ageitgey/face_recognition/b...   \n",
       "2  https://github.com/ageitgey/face_recognition/b...   \n",
       "3  https://github.com/ageitgey/face_recognition/b...   \n",
       "4  https://github.com/ageitgey/face_recognition/b...   \n",
       "\n",
       "                                          code_token  \n",
       "0  [tensor(0.0289), tensor(0.0024), tensor(0.0457...  \n",
       "1  [tensor(0.0075), tensor(0.0143), tensor(-0.003...  \n",
       "2  [tensor(-0.0106), tensor(0.0305), tensor(0.001...  \n",
       "3  [tensor(0.0011), tensor(0.0091), tensor(0.0238...  \n",
       "4  [tensor(0.0342), tensor(0.0096), tensor(0.0531...  "
      ]
     },
     "execution_count": 75,
     "metadata": {},
     "output_type": "execute_result"
    }
   ],
   "source": [
    "# get the token representation of the es_results\n",
    "es_model_preds = test_es_results_df\n",
    "# pd.read_csv(\"es_model_predictions.csv\")\n",
    "\n",
    "to_merge = train_df[['func_code_url', 'code_token', 'docu_tokens']]\n",
    "to_merge.head()"
   ]
  },
  {
   "cell_type": "code",
   "execution_count": 76,
   "metadata": {},
   "outputs": [
    {
     "data": {
      "text/html": [
       "<div>\n",
       "<style scoped>\n",
       "    .dataframe tbody tr th:only-of-type {\n",
       "        vertical-align: middle;\n",
       "    }\n",
       "\n",
       "    .dataframe tbody tr th {\n",
       "        vertical-align: top;\n",
       "    }\n",
       "\n",
       "    .dataframe thead th {\n",
       "        text-align: right;\n",
       "    }\n",
       "</style>\n",
       "<table border=\"1\" class=\"dataframe\">\n",
       "  <thead>\n",
       "    <tr style=\"text-align: right;\">\n",
       "      <th></th>\n",
       "      <th>language</th>\n",
       "      <th>query</th>\n",
       "      <th>url</th>\n",
       "      <th>score</th>\n",
       "      <th>func_code_url</th>\n",
       "      <th>code_token</th>\n",
       "    </tr>\n",
       "  </thead>\n",
       "  <tbody>\n",
       "    <tr>\n",
       "      <th>0</th>\n",
       "      <td>python</td>\n",
       "      <td>sorting multiple arrays based on another array...</td>\n",
       "      <td>https://github.com/pyviz/holoviews/blob/ae0dd2...</td>\n",
       "      <td>95.294620</td>\n",
       "      <td>https://github.com/pyviz/holoviews/blob/ae0dd2...</td>\n",
       "      <td>[tensor(-0.0594), tensor(0.0142), tensor(-0.04...</td>\n",
       "    </tr>\n",
       "    <tr>\n",
       "      <th>1</th>\n",
       "      <td>python</td>\n",
       "      <td>sorting multiple arrays based on another array...</td>\n",
       "      <td>https://github.com/google/prettytensor/blob/75...</td>\n",
       "      <td>91.741810</td>\n",
       "      <td>https://github.com/google/prettytensor/blob/75...</td>\n",
       "      <td>[tensor(0.0362), tensor(0.0141), tensor(-0.079...</td>\n",
       "    </tr>\n",
       "    <tr>\n",
       "      <th>2</th>\n",
       "      <td>python</td>\n",
       "      <td>sorting multiple arrays based on another array...</td>\n",
       "      <td>https://github.com/rkday/nose2dep/blob/135a529...</td>\n",
       "      <td>84.342710</td>\n",
       "      <td>https://github.com/rkday/nose2dep/blob/135a529...</td>\n",
       "      <td>[tensor(-0.0707), tensor(0.0311), tensor(-0.05...</td>\n",
       "    </tr>\n",
       "    <tr>\n",
       "      <th>3</th>\n",
       "      <td>python</td>\n",
       "      <td>sorting multiple arrays based on another array...</td>\n",
       "      <td>https://github.com/Zitrax/nose-dep/blob/fd29c9...</td>\n",
       "      <td>82.965920</td>\n",
       "      <td>https://github.com/Zitrax/nose-dep/blob/fd29c9...</td>\n",
       "      <td>[tensor(0.0173), tensor(-0.0341), tensor(0.009...</td>\n",
       "    </tr>\n",
       "    <tr>\n",
       "      <th>4</th>\n",
       "      <td>python</td>\n",
       "      <td>sorting multiple arrays based on another array...</td>\n",
       "      <td>https://github.com/bcbio/bcbio-nextgen/blob/6a...</td>\n",
       "      <td>80.840324</td>\n",
       "      <td>https://github.com/bcbio/bcbio-nextgen/blob/6a...</td>\n",
       "      <td>[tensor(0.0325), tensor(-0.0050), tensor(-0.02...</td>\n",
       "    </tr>\n",
       "  </tbody>\n",
       "</table>\n",
       "</div>"
      ],
      "text/plain": [
       "  language                                              query  \\\n",
       "0   python  sorting multiple arrays based on another array...   \n",
       "1   python  sorting multiple arrays based on another array...   \n",
       "2   python  sorting multiple arrays based on another array...   \n",
       "3   python  sorting multiple arrays based on another array...   \n",
       "4   python  sorting multiple arrays based on another array...   \n",
       "\n",
       "                                                 url      score  \\\n",
       "0  https://github.com/pyviz/holoviews/blob/ae0dd2...  95.294620   \n",
       "1  https://github.com/google/prettytensor/blob/75...  91.741810   \n",
       "2  https://github.com/rkday/nose2dep/blob/135a529...  84.342710   \n",
       "3  https://github.com/Zitrax/nose-dep/blob/fd29c9...  82.965920   \n",
       "4  https://github.com/bcbio/bcbio-nextgen/blob/6a...  80.840324   \n",
       "\n",
       "                                       func_code_url  \\\n",
       "0  https://github.com/pyviz/holoviews/blob/ae0dd2...   \n",
       "1  https://github.com/google/prettytensor/blob/75...   \n",
       "2  https://github.com/rkday/nose2dep/blob/135a529...   \n",
       "3  https://github.com/Zitrax/nose-dep/blob/fd29c9...   \n",
       "4  https://github.com/bcbio/bcbio-nextgen/blob/6a...   \n",
       "\n",
       "                                          code_token  \n",
       "0  [tensor(-0.0594), tensor(0.0142), tensor(-0.04...  \n",
       "1  [tensor(0.0362), tensor(0.0141), tensor(-0.079...  \n",
       "2  [tensor(-0.0707), tensor(0.0311), tensor(-0.05...  \n",
       "3  [tensor(0.0173), tensor(-0.0341), tensor(0.009...  \n",
       "4  [tensor(0.0325), tensor(-0.0050), tensor(-0.02...  "
      ]
     },
     "execution_count": 76,
     "metadata": {},
     "output_type": "execute_result"
    }
   ],
   "source": [
    "es_with_tokens = es_model_preds.merge(to_merge, left_on='url', right_on='func_code_url')\n",
    "es_with_tokens.head()"
   ]
  },
  {
   "cell_type": "code",
   "execution_count": 77,
   "metadata": {},
   "outputs": [],
   "source": [
    "queries = es_with_tokens['query'].unique()\n",
    "query_mapping = {q:parse_query(q) for q in queries}"
   ]
  },
  {
   "cell_type": "code",
   "execution_count": 78,
   "metadata": {},
   "outputs": [],
   "source": [
    "es_with_tokens['query_tokens'] = es_with_tokens['query'].map(query_mapping)"
   ]
  },
  {
   "cell_type": "code",
   "execution_count": 79,
   "metadata": {},
   "outputs": [],
   "source": [
    "from torch.nn.functional import cosine_similarity\n",
    "\n",
    "def cos_sim(tensor1, tensor2):\n",
    "    return cosine_similarity(tensor1.unsqueeze(0), tensor2.unsqueeze(0)).item()"
   ]
  },
  {
   "cell_type": "code",
   "execution_count": 80,
   "metadata": {},
   "outputs": [],
   "source": [
    "es_with_tokens['code_similarity'] = es_with_tokens.apply(lambda row: cos_sim(row['query_tokens'], row['code_token']), axis=1)"
   ]
  },
  {
   "cell_type": "code",
   "execution_count": null,
   "metadata": {},
   "outputs": [],
   "source": [
    "es_with_tokens['docu_similarity'] = es_with_tokens.apply(lambda row: cos_sim(row['query_tokens'], row['docu_token']), axis=1)"
   ]
  },
  {
   "cell_type": "code",
   "execution_count": null,
   "metadata": {},
   "outputs": [],
   "source": [
    "# reading in relevance scores and creating a merged dataset\n",
    "relevance_scores = pd.read_csv(\"annotation_store.csv\")\n",
    "\n",
    "#only working with Python\n",
    "python_rs = relevance_scores[relevance_scores['Language']=='Python']\n",
    "\n",
    "#merging and dropping irrelevant columns\n",
    "merged_scores = pd.merge(es_with_tokens, python_rs,  how='left', left_on=['query','url'], right_on = ['Query','GitHubUrl'])\n",
    "merged_scores = merged_scores.drop(columns=['Language', 'Query', 'GitHubUrl', 'Notes'])\n",
    "\n",
    "#search results that were not in the relevance csv get a relevance score of 0\n",
    "merged_scores['Relevance'] = merged_scores['Relevance'].fillna(0)"
   ]
  },
  {
   "cell_type": "code",
   "execution_count": null,
   "metadata": {},
   "outputs": [],
   "source": [
    "from sklearn.model_selection import train_test_split\n",
    "\n",
    "# need to have queries grouped together for our ranking model\n",
    "merged_scores = merged_scores.sort_values(by=[\"query\"], ascending=[True])\n",
    "\n",
    "# our feature will be the relevance score our es model returns\n",
    "X = merged_scores[['score', 'code_similarity', 'docu_similarity']]\n",
    "y = merged_scores['Relevance']\n",
    "\n",
    "# train-test split\n",
    "X_train, X_test, y_train, y_test = train_test_split(X, y, test_size=0.1, shuffle=False, random_state=11)\n",
    "train_groups = merged_scores.iloc[:len(X_train)].groupby('query').size().to_numpy()\n",
    "test_groups = merged_scores.iloc[len(X_train):].groupby('query').size().to_numpy()\n",
    "\n",
    "#checking lengths match up\n",
    "assert len(X_train) == sum(train_groups)\n",
    "assert len(X_test) == sum(test_groups)"
   ]
  },
  {
   "cell_type": "markdown",
   "metadata": {},
   "source": [
    "## Step 2: Fitting the Model"
   ]
  },
  {
   "cell_type": "code",
   "execution_count": 83,
   "metadata": {},
   "outputs": [
    {
     "name": "stdout",
     "output_type": "stream",
     "text": [
      "[LightGBM] [Info] Auto-choosing row-wise multi-threading, the overhead of testing was 0.000716 seconds.\n",
      "You can set `force_row_wise=true` to remove the overhead.\n",
      "And if memory is not enough, you can set `force_col_wise=true`.\n",
      "[LightGBM] [Info] Total Bins 510\n",
      "[LightGBM] [Info] Number of data points in the train set: 27051, number of used features: 2\n"
     ]
    },
    {
     "data": {
      "text/html": [
       "<style>#sk-container-id-1 {color: black;}#sk-container-id-1 pre{padding: 0;}#sk-container-id-1 div.sk-toggleable {background-color: white;}#sk-container-id-1 label.sk-toggleable__label {cursor: pointer;display: block;width: 100%;margin-bottom: 0;padding: 0.3em;box-sizing: border-box;text-align: center;}#sk-container-id-1 label.sk-toggleable__label-arrow:before {content: \"▸\";float: left;margin-right: 0.25em;color: #696969;}#sk-container-id-1 label.sk-toggleable__label-arrow:hover:before {color: black;}#sk-container-id-1 div.sk-estimator:hover label.sk-toggleable__label-arrow:before {color: black;}#sk-container-id-1 div.sk-toggleable__content {max-height: 0;max-width: 0;overflow: hidden;text-align: left;background-color: #f0f8ff;}#sk-container-id-1 div.sk-toggleable__content pre {margin: 0.2em;color: black;border-radius: 0.25em;background-color: #f0f8ff;}#sk-container-id-1 input.sk-toggleable__control:checked~div.sk-toggleable__content {max-height: 200px;max-width: 100%;overflow: auto;}#sk-container-id-1 input.sk-toggleable__control:checked~label.sk-toggleable__label-arrow:before {content: \"▾\";}#sk-container-id-1 div.sk-estimator input.sk-toggleable__control:checked~label.sk-toggleable__label {background-color: #d4ebff;}#sk-container-id-1 div.sk-label input.sk-toggleable__control:checked~label.sk-toggleable__label {background-color: #d4ebff;}#sk-container-id-1 input.sk-hidden--visually {border: 0;clip: rect(1px 1px 1px 1px);clip: rect(1px, 1px, 1px, 1px);height: 1px;margin: -1px;overflow: hidden;padding: 0;position: absolute;width: 1px;}#sk-container-id-1 div.sk-estimator {font-family: monospace;background-color: #f0f8ff;border: 1px dotted black;border-radius: 0.25em;box-sizing: border-box;margin-bottom: 0.5em;}#sk-container-id-1 div.sk-estimator:hover {background-color: #d4ebff;}#sk-container-id-1 div.sk-parallel-item::after {content: \"\";width: 100%;border-bottom: 1px solid gray;flex-grow: 1;}#sk-container-id-1 div.sk-label:hover label.sk-toggleable__label {background-color: #d4ebff;}#sk-container-id-1 div.sk-serial::before {content: \"\";position: absolute;border-left: 1px solid gray;box-sizing: border-box;top: 0;bottom: 0;left: 50%;z-index: 0;}#sk-container-id-1 div.sk-serial {display: flex;flex-direction: column;align-items: center;background-color: white;padding-right: 0.2em;padding-left: 0.2em;position: relative;}#sk-container-id-1 div.sk-item {position: relative;z-index: 1;}#sk-container-id-1 div.sk-parallel {display: flex;align-items: stretch;justify-content: center;background-color: white;position: relative;}#sk-container-id-1 div.sk-item::before, #sk-container-id-1 div.sk-parallel-item::before {content: \"\";position: absolute;border-left: 1px solid gray;box-sizing: border-box;top: 0;bottom: 0;left: 50%;z-index: -1;}#sk-container-id-1 div.sk-parallel-item {display: flex;flex-direction: column;z-index: 1;position: relative;background-color: white;}#sk-container-id-1 div.sk-parallel-item:first-child::after {align-self: flex-end;width: 50%;}#sk-container-id-1 div.sk-parallel-item:last-child::after {align-self: flex-start;width: 50%;}#sk-container-id-1 div.sk-parallel-item:only-child::after {width: 0;}#sk-container-id-1 div.sk-dashed-wrapped {border: 1px dashed gray;margin: 0 0.4em 0.5em 0.4em;box-sizing: border-box;padding-bottom: 0.4em;background-color: white;}#sk-container-id-1 div.sk-label label {font-family: monospace;font-weight: bold;display: inline-block;line-height: 1.2em;}#sk-container-id-1 div.sk-label-container {text-align: center;}#sk-container-id-1 div.sk-container {/* jupyter's `normalize.less` sets `[hidden] { display: none; }` but bootstrap.min.css set `[hidden] { display: none !important; }` so we also need the `!important` here to be able to override the default hidden behavior on the sphinx rendered scikit-learn.org. See: https://github.com/scikit-learn/scikit-learn/issues/21755 */display: inline-block !important;position: relative;}#sk-container-id-1 div.sk-text-repr-fallback {display: none;}</style><div id=\"sk-container-id-1\" class=\"sk-top-container\"><div class=\"sk-text-repr-fallback\"><pre>LGBMRanker(metric=&#x27;ndcg&#x27;, objective=&#x27;lambdarank&#x27;)</pre><b>In a Jupyter environment, please rerun this cell to show the HTML representation or trust the notebook. <br />On GitHub, the HTML representation is unable to render, please try loading this page with nbviewer.org.</b></div><div class=\"sk-container\" hidden><div class=\"sk-item\"><div class=\"sk-estimator sk-toggleable\"><input class=\"sk-toggleable__control sk-hidden--visually\" id=\"sk-estimator-id-1\" type=\"checkbox\" checked><label for=\"sk-estimator-id-1\" class=\"sk-toggleable__label sk-toggleable__label-arrow\">LGBMRanker</label><div class=\"sk-toggleable__content\"><pre>LGBMRanker(metric=&#x27;ndcg&#x27;, objective=&#x27;lambdarank&#x27;)</pre></div></div></div></div></div>"
      ],
      "text/plain": [
       "LGBMRanker(metric='ndcg', objective='lambdarank')"
      ]
     },
     "execution_count": 83,
     "metadata": {},
     "output_type": "execute_result"
    }
   ],
   "source": [
    "from lightgbm import LGBMRanker\n",
    "# create model\n",
    "model = LGBMRanker(objective=\"lambdarank\", metric=\"ndcg\")\n",
    "\n",
    "#fit model\n",
    "model.fit(X_train, y_train, group=train_groups, eval_set=[(X_test,y_test)],eval_group=[test_groups],eval_metric=['ndcg'])"
   ]
  },
  {
   "cell_type": "markdown",
   "metadata": {},
   "source": [
    "## Step 3: Using the Model to Edit Results"
   ]
  },
  {
   "cell_type": "code",
   "execution_count": 85,
   "metadata": {},
   "outputs": [
    {
     "data": {
      "text/html": [
       "<div>\n",
       "<style scoped>\n",
       "    .dataframe tbody tr th:only-of-type {\n",
       "        vertical-align: middle;\n",
       "    }\n",
       "\n",
       "    .dataframe tbody tr th {\n",
       "        vertical-align: top;\n",
       "    }\n",
       "\n",
       "    .dataframe thead th {\n",
       "        text-align: right;\n",
       "    }\n",
       "</style>\n",
       "<table border=\"1\" class=\"dataframe\">\n",
       "  <thead>\n",
       "    <tr style=\"text-align: right;\">\n",
       "      <th></th>\n",
       "      <th>language</th>\n",
       "      <th>query</th>\n",
       "      <th>url</th>\n",
       "      <th>score</th>\n",
       "      <th>func_code_url</th>\n",
       "      <th>code_token</th>\n",
       "      <th>query_tokens</th>\n",
       "      <th>code_similarity</th>\n",
       "      <th>Relevance</th>\n",
       "      <th>adjusted_score</th>\n",
       "    </tr>\n",
       "  </thead>\n",
       "  <tbody>\n",
       "    <tr>\n",
       "      <th>4852</th>\n",
       "      <td>python</td>\n",
       "      <td>aes encryption</td>\n",
       "      <td>https://github.com/saltstack/salt/blob/e8541fd...</td>\n",
       "      <td>41.184580</td>\n",
       "      <td>https://github.com/saltstack/salt/blob/e8541fd...</td>\n",
       "      <td>[tensor(0.0483), tensor(0.0898), tensor(-0.010...</td>\n",
       "      <td>[tensor(-0.0402), tensor(0.0566), tensor(-0.03...</td>\n",
       "      <td>-0.003748</td>\n",
       "      <td>0.0</td>\n",
       "      <td>-1.426020</td>\n",
       "    </tr>\n",
       "    <tr>\n",
       "      <th>5201</th>\n",
       "      <td>python</td>\n",
       "      <td>aes encryption</td>\n",
       "      <td>https://github.com/brocade/pynos/blob/bd8a34e9...</td>\n",
       "      <td>26.465645</td>\n",
       "      <td>https://github.com/brocade/pynos/blob/bd8a34e9...</td>\n",
       "      <td>[tensor(-0.0653), tensor(0.0220), tensor(0.060...</td>\n",
       "      <td>[tensor(-0.0402), tensor(0.0566), tensor(-0.03...</td>\n",
       "      <td>0.025786</td>\n",
       "      <td>0.0</td>\n",
       "      <td>-4.536407</td>\n",
       "    </tr>\n",
       "    <tr>\n",
       "      <th>5202</th>\n",
       "      <td>python</td>\n",
       "      <td>aes encryption</td>\n",
       "      <td>https://github.com/has2k1/plotnine/blob/566e57...</td>\n",
       "      <td>26.345700</td>\n",
       "      <td>https://github.com/has2k1/plotnine/blob/566e57...</td>\n",
       "      <td>[tensor(-0.0260), tensor(0.0442), tensor(0.037...</td>\n",
       "      <td>[tensor(-0.0402), tensor(0.0566), tensor(-0.03...</td>\n",
       "      <td>-0.010518</td>\n",
       "      <td>0.0</td>\n",
       "      <td>-5.123511</td>\n",
       "    </tr>\n",
       "    <tr>\n",
       "      <th>5203</th>\n",
       "      <td>python</td>\n",
       "      <td>aes encryption</td>\n",
       "      <td>https://github.com/terrycain/aioboto3/blob/0fd...</td>\n",
       "      <td>26.345700</td>\n",
       "      <td>https://github.com/terrycain/aioboto3/blob/0fd...</td>\n",
       "      <td>[tensor(-0.0127), tensor(0.0771), tensor(-0.01...</td>\n",
       "      <td>[tensor(-0.0402), tensor(0.0566), tensor(-0.03...</td>\n",
       "      <td>0.071042</td>\n",
       "      <td>0.0</td>\n",
       "      <td>-5.384475</td>\n",
       "    </tr>\n",
       "    <tr>\n",
       "      <th>5204</th>\n",
       "      <td>python</td>\n",
       "      <td>aes encryption</td>\n",
       "      <td>https://github.com/spulec/moto/blob/4a286c4bc2...</td>\n",
       "      <td>26.191330</td>\n",
       "      <td>https://github.com/spulec/moto/blob/4a286c4bc2...</td>\n",
       "      <td>[tensor(0.0392), tensor(-0.0297), tensor(-0.00...</td>\n",
       "      <td>[tensor(-0.0402), tensor(0.0566), tensor(-0.03...</td>\n",
       "      <td>0.037631</td>\n",
       "      <td>0.0</td>\n",
       "      <td>-4.328918</td>\n",
       "    </tr>\n",
       "    <tr>\n",
       "      <th>...</th>\n",
       "      <td>...</td>\n",
       "      <td>...</td>\n",
       "      <td>...</td>\n",
       "      <td>...</td>\n",
       "      <td>...</td>\n",
       "      <td>...</td>\n",
       "      <td>...</td>\n",
       "      <td>...</td>\n",
       "      <td>...</td>\n",
       "      <td>...</td>\n",
       "    </tr>\n",
       "    <tr>\n",
       "      <th>14789</th>\n",
       "      <td>python</td>\n",
       "      <td>write csv</td>\n",
       "      <td>https://github.com/i3visio/osrframework/blob/8...</td>\n",
       "      <td>38.171497</td>\n",
       "      <td>https://github.com/i3visio/osrframework/blob/8...</td>\n",
       "      <td>[tensor(0.0807), tensor(0.0592), tensor(-0.038...</td>\n",
       "      <td>[tensor(0.0423), tensor(0.0717), tensor(-0.097...</td>\n",
       "      <td>0.191607</td>\n",
       "      <td>0.0</td>\n",
       "      <td>-3.425596</td>\n",
       "    </tr>\n",
       "    <tr>\n",
       "      <th>14787</th>\n",
       "      <td>python</td>\n",
       "      <td>write csv</td>\n",
       "      <td>https://github.com/coinkite/connectrum/blob/99...</td>\n",
       "      <td>38.294220</td>\n",
       "      <td>https://github.com/coinkite/connectrum/blob/99...</td>\n",
       "      <td>[tensor(0.0184), tensor(0.0284), tensor(-0.026...</td>\n",
       "      <td>[tensor(0.0423), tensor(0.0717), tensor(-0.097...</td>\n",
       "      <td>0.265386</td>\n",
       "      <td>0.0</td>\n",
       "      <td>-3.950415</td>\n",
       "    </tr>\n",
       "    <tr>\n",
       "      <th>14786</th>\n",
       "      <td>python</td>\n",
       "      <td>write csv</td>\n",
       "      <td>https://github.com/mrstephenneal/databasetools...</td>\n",
       "      <td>38.859993</td>\n",
       "      <td>https://github.com/mrstephenneal/databasetools...</td>\n",
       "      <td>[tensor(0.0158), tensor(0.0631), tensor(0.0847...</td>\n",
       "      <td>[tensor(0.0423), tensor(0.0717), tensor(-0.097...</td>\n",
       "      <td>-0.008689</td>\n",
       "      <td>0.0</td>\n",
       "      <td>-3.985775</td>\n",
       "    </tr>\n",
       "    <tr>\n",
       "      <th>14794</th>\n",
       "      <td>python</td>\n",
       "      <td>write csv</td>\n",
       "      <td>https://github.com/Cognexa/cxflow/blob/dd609e6...</td>\n",
       "      <td>37.291153</td>\n",
       "      <td>https://github.com/Cognexa/cxflow/blob/dd609e6...</td>\n",
       "      <td>[tensor(-0.0889), tensor(0.0501), tensor(0.062...</td>\n",
       "      <td>[tensor(0.0423), tensor(0.0717), tensor(-0.097...</td>\n",
       "      <td>-0.013258</td>\n",
       "      <td>0.0</td>\n",
       "      <td>-4.512487</td>\n",
       "    </tr>\n",
       "    <tr>\n",
       "      <th>14818</th>\n",
       "      <td>python</td>\n",
       "      <td>write csv</td>\n",
       "      <td>https://github.com/cuihantao/andes/blob/706789...</td>\n",
       "      <td>34.309063</td>\n",
       "      <td>https://github.com/cuihantao/andes/blob/706789...</td>\n",
       "      <td>[tensor(-0.0080), tensor(0.0087), tensor(-0.00...</td>\n",
       "      <td>[tensor(0.0423), tensor(0.0717), tensor(-0.097...</td>\n",
       "      <td>-0.009464</td>\n",
       "      <td>0.0</td>\n",
       "      <td>-4.305833</td>\n",
       "    </tr>\n",
       "  </tbody>\n",
       "</table>\n",
       "<p>30057 rows × 10 columns</p>\n",
       "</div>"
      ],
      "text/plain": [
       "      language           query  \\\n",
       "4852    python  aes encryption   \n",
       "5201    python  aes encryption   \n",
       "5202    python  aes encryption   \n",
       "5203    python  aes encryption   \n",
       "5204    python  aes encryption   \n",
       "...        ...             ...   \n",
       "14789   python       write csv   \n",
       "14787   python       write csv   \n",
       "14786   python       write csv   \n",
       "14794   python       write csv   \n",
       "14818   python       write csv   \n",
       "\n",
       "                                                     url      score  \\\n",
       "4852   https://github.com/saltstack/salt/blob/e8541fd...  41.184580   \n",
       "5201   https://github.com/brocade/pynos/blob/bd8a34e9...  26.465645   \n",
       "5202   https://github.com/has2k1/plotnine/blob/566e57...  26.345700   \n",
       "5203   https://github.com/terrycain/aioboto3/blob/0fd...  26.345700   \n",
       "5204   https://github.com/spulec/moto/blob/4a286c4bc2...  26.191330   \n",
       "...                                                  ...        ...   \n",
       "14789  https://github.com/i3visio/osrframework/blob/8...  38.171497   \n",
       "14787  https://github.com/coinkite/connectrum/blob/99...  38.294220   \n",
       "14786  https://github.com/mrstephenneal/databasetools...  38.859993   \n",
       "14794  https://github.com/Cognexa/cxflow/blob/dd609e6...  37.291153   \n",
       "14818  https://github.com/cuihantao/andes/blob/706789...  34.309063   \n",
       "\n",
       "                                           func_code_url  \\\n",
       "4852   https://github.com/saltstack/salt/blob/e8541fd...   \n",
       "5201   https://github.com/brocade/pynos/blob/bd8a34e9...   \n",
       "5202   https://github.com/has2k1/plotnine/blob/566e57...   \n",
       "5203   https://github.com/terrycain/aioboto3/blob/0fd...   \n",
       "5204   https://github.com/spulec/moto/blob/4a286c4bc2...   \n",
       "...                                                  ...   \n",
       "14789  https://github.com/i3visio/osrframework/blob/8...   \n",
       "14787  https://github.com/coinkite/connectrum/blob/99...   \n",
       "14786  https://github.com/mrstephenneal/databasetools...   \n",
       "14794  https://github.com/Cognexa/cxflow/blob/dd609e6...   \n",
       "14818  https://github.com/cuihantao/andes/blob/706789...   \n",
       "\n",
       "                                              code_token  \\\n",
       "4852   [tensor(0.0483), tensor(0.0898), tensor(-0.010...   \n",
       "5201   [tensor(-0.0653), tensor(0.0220), tensor(0.060...   \n",
       "5202   [tensor(-0.0260), tensor(0.0442), tensor(0.037...   \n",
       "5203   [tensor(-0.0127), tensor(0.0771), tensor(-0.01...   \n",
       "5204   [tensor(0.0392), tensor(-0.0297), tensor(-0.00...   \n",
       "...                                                  ...   \n",
       "14789  [tensor(0.0807), tensor(0.0592), tensor(-0.038...   \n",
       "14787  [tensor(0.0184), tensor(0.0284), tensor(-0.026...   \n",
       "14786  [tensor(0.0158), tensor(0.0631), tensor(0.0847...   \n",
       "14794  [tensor(-0.0889), tensor(0.0501), tensor(0.062...   \n",
       "14818  [tensor(-0.0080), tensor(0.0087), tensor(-0.00...   \n",
       "\n",
       "                                            query_tokens  code_similarity  \\\n",
       "4852   [tensor(-0.0402), tensor(0.0566), tensor(-0.03...        -0.003748   \n",
       "5201   [tensor(-0.0402), tensor(0.0566), tensor(-0.03...         0.025786   \n",
       "5202   [tensor(-0.0402), tensor(0.0566), tensor(-0.03...        -0.010518   \n",
       "5203   [tensor(-0.0402), tensor(0.0566), tensor(-0.03...         0.071042   \n",
       "5204   [tensor(-0.0402), tensor(0.0566), tensor(-0.03...         0.037631   \n",
       "...                                                  ...              ...   \n",
       "14789  [tensor(0.0423), tensor(0.0717), tensor(-0.097...         0.191607   \n",
       "14787  [tensor(0.0423), tensor(0.0717), tensor(-0.097...         0.265386   \n",
       "14786  [tensor(0.0423), tensor(0.0717), tensor(-0.097...        -0.008689   \n",
       "14794  [tensor(0.0423), tensor(0.0717), tensor(-0.097...        -0.013258   \n",
       "14818  [tensor(0.0423), tensor(0.0717), tensor(-0.097...        -0.009464   \n",
       "\n",
       "       Relevance  adjusted_score  \n",
       "4852         0.0       -1.426020  \n",
       "5201         0.0       -4.536407  \n",
       "5202         0.0       -5.123511  \n",
       "5203         0.0       -5.384475  \n",
       "5204         0.0       -4.328918  \n",
       "...          ...             ...  \n",
       "14789        0.0       -3.425596  \n",
       "14787        0.0       -3.950415  \n",
       "14786        0.0       -3.985775  \n",
       "14794        0.0       -4.512487  \n",
       "14818        0.0       -4.305833  \n",
       "\n",
       "[30057 rows x 10 columns]"
      ]
     },
     "execution_count": 85,
     "metadata": {},
     "output_type": "execute_result"
    }
   ],
   "source": [
    "# use the model to predict an adjusted score\n",
    "merged_scores['adjusted_score'] = model.predict(merged_scores[['score', 'code_similarity']])\n",
    "merged_scores"
   ]
  },
  {
   "cell_type": "code",
   "execution_count": 86,
   "metadata": {},
   "outputs": [],
   "source": [
    "# only keep the results that have an adjusted score above the threshold (found through trial and error)\n",
    "thresh = -0.75\n",
    "new_preds = merged_scores[(merged_scores['adjusted_score'] >= thresh)]\n",
    "\n",
    "#output results\n",
    "new_preds[['language', 'query', 'url']].to_csv('ltr_es_model_predictions.csv')"
   ]
  },
  {
   "cell_type": "markdown",
   "metadata": {},
   "source": [
    "threshold = -0.75\n",
    "```\n",
    "% of URLs in predictions that exist in the annotation dataset:\n",
    "        python: 20.32%\n",
    "% of URLs in predictions that exist in the annotation dataset (avg relevance > 0):\n",
    "        python: 21.39%\n",
    "NDCG:\n",
    "        python: 0.438\n",
    "NDCG (full ranking):\n",
    "        python: 0.241\n",
    "```"
   ]
  },
  {
   "cell_type": "markdown",
   "metadata": {},
   "source": [
    "threshold = -5\n",
    "```\n",
    "% of URLs in predictions that exist in the annotation dataset:\n",
    "        python: 30.84%\n",
    "% of URLs in predictions that exist in the annotation dataset (avg relevance > 0):\n",
    "        python: 31.97%\n",
    "NDCG:\n",
    "        python: 0.583\n",
    "NDCG (full ranking):\n",
    "        python: 0.213\n",
    "```"
   ]
  },
  {
   "cell_type": "markdown",
   "metadata": {},
   "source": [
    "### With Cosine Sim + LTR\n",
    "\n",
    "```\n",
    "% of URLs in predictions that exist in the annotation dataset:\n",
    "        python: 22.45%\n",
    "% of URLs in predictions that exist in the annotation dataset (avg relevance > 0):\n",
    "        python: 24.35%\n",
    "NDCG:\n",
    "        python: 0.515\n",
    "NDCG (full ranking):\n",
    "        python: 0.341\n",
    "```"
   ]
  }
 ],
 "metadata": {
  "kernelspec": {
   "display_name": "Python 3 (ipykernel)",
   "language": "python",
   "name": "python3"
  },
  "language_info": {
   "codemirror_mode": {
    "name": "ipython",
    "version": 3
   },
   "file_extension": ".py",
   "mimetype": "text/x-python",
   "name": "python",
   "nbconvert_exporter": "python",
   "pygments_lexer": "ipython3",
   "version": "3.8.5"
  }
 },
 "nbformat": 4,
 "nbformat_minor": 5
}
